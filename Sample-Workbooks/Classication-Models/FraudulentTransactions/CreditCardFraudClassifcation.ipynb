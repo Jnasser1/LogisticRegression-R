{
 "cells": [
  {
   "cell_type": "markdown",
   "id": "14a26715-4890-485f-b11a-3cb05209494a",
   "metadata": {},
   "source": [
    "### Table of Contents\n",
    "\n",
    "* [Background](#Background)\n",
    "\n",
    "* [Problem Statement](#Problem_statement)\n",
    "\n",
    "* [Importing](#Loading_libraries_and_data)\n",
    "\n",
    "* [Exploring the Data](#Exploring_the_date)\n",
    "\n",
    "* [Train-Test Split](#The_train-test_split)\n",
    "\n",
    "* [Balancing The Training Set](#Balancing_the_training_set)\n",
    "\n",
    "* [Modeling on the Unbalanced Training Set](#Training_classifiers_on_the_original_imbalanced_dataset)\n",
    "\n",
    "* [Modeling on the SMOTE Balanced Training Set](#Training_classifiers_on_the_SMOTE_balanced_dataset)\n",
    "\n",
    "* [Modeling on the ADASYN Balanced Training Set](#Training_classifiers_on_the_ADASYN_balanced_dataset)\n",
    "\n",
    "* [Modeling on the DB-SMOTE Balanced Training Set](#Training_classifiers_on_the_DB-SMOTE_balanced_dataset)\n",
    "\n",
    "* [Results](#Comparing_model_performance)\n",
    "\n",
    "* [Conclusion](#Conclusion)\n"
   ]
  },
  {
   "cell_type": "markdown",
   "id": "20c25020-40e8-41ba-9ffa-6f0166f1ef1c",
   "metadata": {
    "tags": []
   },
   "source": [
    "### Background <a class=\"anchor\" id=\"Background\"></a>"
   ]
  },
  {
   "cell_type": "markdown",
   "id": "20b94723-0d41-4643-b6b3-3637a684f28b",
   "metadata": {},
   "source": [
    "#### Balancing a Dataset"
   ]
  },
  {
   "cell_type": "markdown",
   "id": "959d3525-4fa2-45ff-a20e-f4537e37daaa",
   "metadata": {},
   "source": [
    "Balancing a dataset can have its pros and cons. \n",
    "* Balanced data is good for classification, but you lose information on appearance frequencies.\n",
    "* Frequent cases will get fewer missclassifications. \n",
    "* By balancing the data the accuracy estimate is itself getting biased.\n",
    "\n",
    "If one has enough data, the class imbalance problem wouldn't arise. We will compare results from an unbalanced dataset and a balanced one.\n",
    "  "
   ]
  },
  {
   "cell_type": "markdown",
   "id": "a82c1255-ac0b-4d37-b094-1a251741e06f",
   "metadata": {},
   "source": [
    "#### Correlation effect on modeling"
   ]
  },
  {
   "cell_type": "markdown",
   "id": "fd9e51b9-7b75-4886-94c0-60c916b259c7",
   "metadata": {},
   "source": [
    "\n",
    "* Correlation can help predict one attribute from another - useful in imputing missing values.\n",
    "\n",
    "* Correlation can lead to discovery of a causal relationship.\n",
    "\n",
    "* It is a basic quantity for many modeling techniques.\n",
    "\n",
    "* *However*, in general features which are highly correlated together (between features not response), should be removed as they are redundant and can hinder algorithm performance."
   ]
  },
  {
   "cell_type": "markdown",
   "id": "94e3a4f9-8928-4110-9c5d-2287d3dd7179",
   "metadata": {},
   "source": [
    "#### Data Reduction\n"
   ]
  },
  {
   "cell_type": "markdown",
   "id": "c8e328ff-9b45-4594-b1df-85ee21e2f1fe",
   "metadata": {},
   "source": [
    "Data reduction can:\n",
    "* Decrease training time.\n",
    "* Allow easier visual-understanding.\n",
    "* Minimizing information loss.\n",
    "\n",
    "A well known technique for data reduction is principal component analysis (**PCA**). \n"
   ]
  },
  {
   "cell_type": "markdown",
   "id": "799f5467-e1ce-43f7-91ce-2cc70c06c8d9",
   "metadata": {},
   "source": [
    "\n",
    " Correlation and collinearity of the input matrix are to be considered aberrations; They introduce redundant information. \n",
    " \n",
    " By isolating clusters of correlated variables to preserve the 'variability', theres reduced dimensonality of the dataset. This feature selection also can reduce overfitting. \n",
    "\n"
   ]
  },
  {
   "cell_type": "markdown",
   "id": "32dc24e2-7379-4855-95a1-9d9c06a68bfa",
   "metadata": {},
   "source": [
    "#### Balancing algorithm"
   ]
  },
  {
   "cell_type": "markdown",
   "id": "11a309e3-ca45-4ea8-91ce-25bf53bd65a6",
   "metadata": {},
   "source": [
    "##### Smotefamily"
   ]
  },
  {
   "cell_type": "markdown",
   "id": "c191aea8-cd1f-4a21-b5d0-0383077ada2d",
   "metadata": {},
   "source": [
    "SMOTE (Synthetic Minority Oversampling Technique), is a algorithm to balance datasets. The idea is to generate new samples using nearest neighbors. Accomplished by members of the Smotefamily library.\n",
    "\n",
    "https://www.rdocumentation.org/packages/DMwR/versions/0.4.1/topics/SMOTE"
   ]
  },
  {
   "cell_type": "markdown",
   "id": "1f0bc3d0-914a-4d74-946e-5c1bf06938b3",
   "metadata": {},
   "source": [
    "#### Linear discriminant analysis (LDA)"
   ]
  },
  {
   "cell_type": "markdown",
   "id": "9fb8271c-d328-4459-a30d-d9894710d44f",
   "metadata": {},
   "source": [
    "LDA seeks to find  linear combination of features that characterizes or seperates two or more classes of objects/events. The resutling sum can be used as a liner classifier (decision model based on a linear combination of the feature values) or for dimensionality reduction before classification."
   ]
  },
  {
   "cell_type": "markdown",
   "id": "6420de1a-d3e1-4948-8078-6c02cf6ae877",
   "metadata": {
    "tags": []
   },
   "source": [
    "##### Relationship to ANOVA"
   ]
  },
  {
   "cell_type": "markdown",
   "id": "cd01ff16-775e-41e7-95c7-9516b8fc10eb",
   "metadata": {},
   "source": [
    "* ANOVA uses categorical indepedent variables, and a continuous depdendent variable. \n",
    "\n",
    "* Discriminant analysis has continuous independent variables and a categorical depedent variable (in this project: the class label).\n"
   ]
  },
  {
   "cell_type": "markdown",
   "id": "bd09a477-c606-4712-ad19-4a3e0122fdc7",
   "metadata": {},
   "source": [
    "##### Relationship to PCA and factor analysis"
   ]
  },
  {
   "cell_type": "markdown",
   "id": "7a0fbab2-c357-4cf3-8ea2-06a37a03c607",
   "metadata": {},
   "source": [
    "* LDA is closely related to PCA and factor analysis. Thhey both look for linear combinations of variables that best explain the data.\n",
    "\n",
    "* LDA models the difference between the classes of data. PCA dont not take into account any difference in class. Factor analysis builds the feature combinations based on differences rather than similarities.\n",
    "\n",
    "* Discriminant analysis is used when groups are known a priori.\n",
    "\n",
    "* These methods can be understood as partitioning multi-dimensional input spaces by hyperplanes."
   ]
  },
  {
   "cell_type": "markdown",
   "id": "b0db5429-0750-426f-aa8e-7648501ac76e",
   "metadata": {},
   "source": [
    "##### Performance measures"
   ]
  },
  {
   "cell_type": "markdown",
   "id": "7f558035-dee2-4bc7-bc7f-29da3f899c3d",
   "metadata": {},
   "source": [
    "We will be measuring performance of each model using Precision, Recall, and the F-measure. \n",
    "\n",
    "Accuracy is a bad metric in the case of imbalanced data because it cannot distinguish between Type I and Type II errors (false positives and false negatives).\n"
   ]
  },
  {
   "cell_type": "markdown",
   "id": "44a3c49c-99e7-4527-aff7-a957f72926ee",
   "metadata": {},
   "source": [
    "Precision measures the proportion of positive cases that are truly positive.\n",
    "$$ precision = \\frac{TP}{(TP+FP)}$$"
   ]
  },
  {
   "cell_type": "markdown",
   "id": "2f79302b-949c-4762-b084-415edc19ec16",
   "metadata": {},
   "source": [
    "*Recall* measures how complete the results are. This is also called the *Sensitivity*\n",
    "\n",
    "$$ recall = \\frac{TP}{(TP+FN)} $$"
   ]
  },
  {
   "cell_type": "markdown",
   "id": "9018a81d-aee5-4597-b5f9-918dce263088",
   "metadata": {},
   "source": [
    "The $F_{1}$-score (F-measure) combines the precision and recall into a single number. An $F_{1}$-score of $1.0$ indicates perfect precision and recall.\n",
    "\n",
    "$$ F_{1} = 2 * \\frac{(precision*recall)}{(precision + recall)} $$"
   ]
  },
  {
   "cell_type": "markdown",
   "id": "28413234-a921-4505-b2f1-d49ccb818cfa",
   "metadata": {},
   "source": [
    "### 1. Problem statement  <a class=\"anchor\" id=\"Problem_statement\"></a>"
   ]
  },
  {
   "cell_type": "markdown",
   "id": "5140c0ae-99f1-4d43-8cda-98ddfca1cade",
   "metadata": {},
   "source": [
    "#### We will use R to fit different classification models to a highly imbalanced dataset. \n",
    "\n",
    "* Decision Tree\n",
    "* Naive Bayers Classifier\n",
    "* Linear Discriminant Analysis\n",
    "\n",
    "#### Goal : Prediciting fraudulent credit card transactions."
   ]
  },
  {
   "cell_type": "markdown",
   "id": "e6832121-f403-4e0d-970b-d1c1ce04c8c5",
   "metadata": {},
   "source": [
    "### 2. Loading libraries and data <a class=\"anchor\" id=\"Loading_libraries_and_data\"></a>"
   ]
  },
  {
   "cell_type": "code",
   "execution_count": 1,
   "id": "00d8847f-58a3-4575-9ab6-1882e4e70c1a",
   "metadata": {},
   "outputs": [
    {
     "name": "stderr",
     "output_type": "stream",
     "text": [
      "Loading required package: ggplot2\n",
      "\n",
      "Loading required package: lattice\n",
      "\n",
      "corrplot 0.92 loaded\n",
      "\n",
      "naivebayes 0.9.7 loaded\n",
      "\n"
     ]
    }
   ],
   "source": [
    "library(caret)\n",
    "library(corrplot)\n",
    "library(smotefamily)\n",
    "library(naivebayes)"
   ]
  },
  {
   "cell_type": "code",
   "execution_count": 2,
   "id": "cf3616a8-2e5c-4ab7-b9c1-55edc9c6eb39",
   "metadata": {},
   "outputs": [],
   "source": [
    "data <- read.csv(\"creditcardFraud.csv\")\n",
    "\n"
   ]
  },
  {
   "cell_type": "markdown",
   "id": "f59f7b9b-bb4b-4652-9602-5159339542e1",
   "metadata": {},
   "source": [
    "**class is a factor variable, indicating yes for a fraudulent transaction, no for a non-fraudulent transaction**"
   ]
  },
  {
   "cell_type": "code",
   "execution_count": 3,
   "id": "54d02288-2db8-4d19-ab69-8e9688f19dcc",
   "metadata": {},
   "outputs": [],
   "source": [
    "data$class<-as.factor(data$class)"
   ]
  },
  {
   "cell_type": "markdown",
   "id": "ac65745e-90ab-48de-b1ff-93fbc592b464",
   "metadata": {},
   "source": [
    "### 3. Exploring the data <a class=\"anchor\" id=\"Exploring_the_data\"></a>"
   ]
  },
  {
   "cell_type": "markdown",
   "id": "5bf31fde-3310-4130-87b8-7f2043d90479",
   "metadata": {},
   "source": [
    "#### At a glimpse"
   ]
  },
  {
   "cell_type": "code",
   "execution_count": 4,
   "id": "5b4d328d-fdfd-4c6a-a6f1-d4d8d245014b",
   "metadata": {},
   "outputs": [
    {
     "name": "stdout",
     "output_type": "stream",
     "text": [
      "Rows: 49,692\n",
      "Columns: 31\n",
      "$ Time   \u001b[3m\u001b[90m<int>\u001b[39m\u001b[23m 406, 472, 4462, 6986, 7519, 7526, 7535, 7543, 7551, 7610, 7672,~\n",
      "$ V1     \u001b[3m\u001b[90m<dbl>\u001b[39m\u001b[23m -2.312226542, -3.043540624, -2.303349568, -4.397974442, 1.23423~\n",
      "$ V2     \u001b[3m\u001b[90m<dbl>\u001b[39m\u001b[23m 1.9519920, -3.1573071, 1.7592475, 1.3583670, 3.0197404, 4.13783~\n",
      "$ V3     \u001b[3m\u001b[90m<dbl>\u001b[39m\u001b[23m -1.6098507, 1.0884628, -0.3597447, -2.5928442, -4.3045969, -6.2~\n",
      "$ V4     \u001b[3m\u001b[90m<dbl>\u001b[39m\u001b[23m 3.997906, 2.288644, 2.330243, 2.679787, 4.732795, 6.675732, 6.3~\n",
      "$ V5     \u001b[3m\u001b[90m<dbl>\u001b[39m\u001b[23m -0.52218787, 1.35980513, -0.82162833, -1.12813094, 3.62420083, ~\n",
      "$ V6     \u001b[3m\u001b[90m<dbl>\u001b[39m\u001b[23m -1.42654532, -1.06482252, -0.07578757, -1.70653639, -1.35774566~\n",
      "$ V7     \u001b[3m\u001b[90m<dbl>\u001b[39m\u001b[23m -2.5373873, 0.3255743, 0.5623198, -3.4961973, 1.7134450, -1.631~\n",
      "$ V8     \u001b[3m\u001b[90m<dbl>\u001b[39m\u001b[23m 1.39165725, -0.06779365, -0.39914658, -0.24877774, -0.49635849,~\n",
      "$ V9     \u001b[3m\u001b[90m<dbl>\u001b[39m\u001b[23m -2.7700893, -0.2709528, -0.2382534, -0.2477679, -1.2828578, -2.~\n",
      "$ V10    \u001b[3m\u001b[90m<dbl>\u001b[39m\u001b[23m -2.7722721, -0.8385866, -1.5254116, -4.8016374, -2.4474693, -6.~\n",
      "$ V11    \u001b[3m\u001b[90m<dbl>\u001b[39m\u001b[23m 3.2020332, -0.4145754, 2.0329122, 4.8958442, 2.1013439, 5.66439~\n",
      "$ V12    \u001b[3m\u001b[90m<dbl>\u001b[39m\u001b[23m -2.8999074, -0.5031409, -6.5601243, -10.9128193, -4.6096284, -9~\n",
      "$ V13    \u001b[3m\u001b[90m<dbl>\u001b[39m\u001b[23m -0.59522188, 0.67650155, 0.02293732, 0.18437169, 1.46437763, -0~\n",
      "$ V14    \u001b[3m\u001b[90m<dbl>\u001b[39m\u001b[23m -4.289254, -1.692029, -1.470102, -6.771097, -6.079337, -10.6911~\n",
      "$ V15    \u001b[3m\u001b[90m<dbl>\u001b[39m\u001b[23m 0.389724120, 2.000634839, -0.698826069, -0.007326183, -0.339237~\n",
      "$ V16    \u001b[3m\u001b[90m<dbl>\u001b[39m\u001b[23m -1.1407472, 0.6667797, -2.2821938, -7.3580832, 2.5818510, -2.04~\n",
      "$ V17    \u001b[3m\u001b[90m<dbl>\u001b[39m\u001b[23m -2.8300557, 0.5997174, -4.7818309, -12.5984185, 6.7393844, -1.1~\n",
      "$ V18    \u001b[3m\u001b[90m<dbl>\u001b[39m\u001b[23m -0.01682247, 1.72532101, -2.61566494, -5.13154863, 3.04249318, ~\n",
      "$ V19    \u001b[3m\u001b[90m<dbl>\u001b[39m\u001b[23m 0.41695571, 0.28334483, -1.33444107, 0.30833395, -2.72185312, -~\n",
      "$ V20    \u001b[3m\u001b[90m<dbl>\u001b[39m\u001b[23m 0.126910559, 2.102338793, -0.430021867, -0.171607879, 0.0090608~\n",
      "$ V21    \u001b[3m\u001b[90m<dbl>\u001b[39m\u001b[23m 0.5172324, 0.6616959, -0.2941663, 0.5735741, -0.3790683, 0.3645~\n",
      "$ V22    \u001b[3m\u001b[90m<dbl>\u001b[39m\u001b[23m -0.035049369, 0.435477209, -0.932391057, 0.176967718, -0.704181~\n",
      "$ V23    \u001b[3m\u001b[90m<dbl>\u001b[39m\u001b[23m -0.465211076, 1.375965743, 0.172726296, -0.436206884, -0.656804~\n",
      "$ V24    \u001b[3m\u001b[90m<dbl>\u001b[39m\u001b[23m 0.32019820, -0.29380315, -0.08732954, -0.05350187, -1.63265296,~\n",
      "$ V25    \u001b[3m\u001b[90m<dbl>\u001b[39m\u001b[23m 0.04451917, 0.27979803, -0.15611427, 0.25240526, 1.48890145, 1.~\n",
      "$ V26    \u001b[3m\u001b[90m<dbl>\u001b[39m\u001b[23m 0.1778398, -0.1453617, -0.5426279, -0.6574878, 0.5667973, 0.507~\n",
      "$ V27    \u001b[3m\u001b[90m<dbl>\u001b[39m\u001b[23m 0.26114500, -0.25277312, 0.03956599, -0.82713572, -0.01001622, ~\n",
      "$ V28    \u001b[3m\u001b[90m<dbl>\u001b[39m\u001b[23m -0.14327587, 0.03576422, -0.15302880, 0.84957338, 0.14679274, 0~\n",
      "$ Amount \u001b[3m\u001b[90m<dbl>\u001b[39m\u001b[23m 0.00, 529.00, 239.93, 59.00, 1.00, 1.00, 1.00, 1.00, 1.00, 1.00~\n",
      "$ class  \u001b[3m\u001b[90m<fct>\u001b[39m\u001b[23m yes, yes, yes, yes, yes, yes, yes, yes, yes, yes, yes, yes, yes~\n"
     ]
    }
   ],
   "source": [
    "dplyr::glimpse(data)"
   ]
  },
  {
   "cell_type": "markdown",
   "id": "949748e4-124c-4409-bc84-b3b425876120",
   "metadata": {
    "tags": []
   },
   "source": [
    "#### Missing values"
   ]
  },
  {
   "cell_type": "code",
   "execution_count": 5,
   "id": "2f6e7e70-61b6-4971-bf71-c5c79653a4ba",
   "metadata": {},
   "outputs": [
    {
     "data": {
      "text/html": [
       "0"
      ],
      "text/latex": [
       "0"
      ],
      "text/markdown": [
       "0"
      ],
      "text/plain": [
       "[1] 0"
      ]
     },
     "metadata": {},
     "output_type": "display_data"
    }
   ],
   "source": [
    "# There are no missing values in the dataset.\n",
    "\n",
    "sum(is.na(data))"
   ]
  },
  {
   "cell_type": "markdown",
   "id": "143eaaa6-35b0-4b4a-a50c-1a08b347a886",
   "metadata": {},
   "source": [
    "#### What is the distribution of the response variable?"
   ]
  },
  {
   "cell_type": "code",
   "execution_count": 6,
   "id": "c89b3d15-730a-4c32-91cd-6b431d2d16c5",
   "metadata": {},
   "outputs": [
    {
     "data": {
      "text/html": [
       "<style>\n",
       ".dl-inline {width: auto; margin:0; padding: 0}\n",
       ".dl-inline>dt, .dl-inline>dd {float: none; width: auto; display: inline-block}\n",
       ".dl-inline>dt::after {content: \":\\0020\"; padding-right: .5ex}\n",
       ".dl-inline>dt:not(:first-of-type) {padding-left: .5ex}\n",
       "</style><dl class=dl-inline><dt>no</dt><dd>49200</dd><dt>yes</dt><dd>492</dd></dl>\n"
      ],
      "text/latex": [
       "\\begin{description*}\n",
       "\\item[no] 49200\n",
       "\\item[yes] 492\n",
       "\\end{description*}\n"
      ],
      "text/markdown": [
       "no\n",
       ":   49200yes\n",
       ":   492\n",
       "\n"
      ],
      "text/plain": [
       "   no   yes \n",
       "49200   492 "
      ]
     },
     "metadata": {},
     "output_type": "display_data"
    }
   ],
   "source": [
    "summary(data$class)"
   ]
  },
  {
   "cell_type": "code",
   "execution_count": 7,
   "id": "62c87bff-d835-423a-9cd0-c35272ffb3b4",
   "metadata": {},
   "outputs": [
    {
     "data": {
      "text/plain": [
       "\n",
       "        no        yes \n",
       "0.99009901 0.00990099 "
      ]
     },
     "metadata": {},
     "output_type": "display_data"
    }
   ],
   "source": [
    "prop.table(table(data$class))"
   ]
  },
  {
   "cell_type": "markdown",
   "id": "eafa7257-822e-4c50-809c-642044b746ff",
   "metadata": {},
   "source": [
    "#### Whats the distribution of each of the input variables?"
   ]
  },
  {
   "cell_type": "code",
   "execution_count": 8,
   "id": "e1f04dcd-e0cd-4c8a-b8d9-01af67dd3b81",
   "metadata": {},
   "outputs": [
    {
     "data": {
      "image/png": "[encoded data removed]",
      "text/plain": [
       "Plot with title \"Distibution of  V14\""
      ]
     },
     "metadata": {
      "image/png": {
       "height": 420,
       "width": 420
      }
     },
     "output_type": "display_data"
    },
    {
     "data": {
      "image/png": "[encoded data removed]",
      "text/plain": [
       "Plot with title \"Distibution of  Amount\""
      ]
     },
     "metadata": {
      "image/png": {
       "height": 420,
       "width": 420
      }
     },
     "output_type": "display_data"
    }
   ],
   "source": [
    "par (mfrow= c(3,5))\n",
    "i <- 1\n",
    "for (i in 1:30) \n",
    "{\n",
    "    hist((data[,i]), main = paste(\"Distibution of \", colnames(data[i])), \n",
    "         xlab = colnames(data[i]), col = \"light blue\")\n",
    "}\n"
   ]
  },
  {
   "cell_type": "markdown",
   "id": "f8dbef6b-e37d-4507-a073-b745321064a5",
   "metadata": {},
   "source": [
    "#### Correlation"
   ]
  },
  {
   "cell_type": "code",
   "execution_count": 9,
   "id": "bebbc632-a32e-4639-a0c8-162273dc8408",
   "metadata": {},
   "outputs": [
    {
     "data": {
      "image/png": "[encoded data removed]",
      "text/plain": [
       "Plot with title \"\""
      ]
     },
     "metadata": {
      "image/png": {
       "height": 420,
       "width": 420
      }
     },
     "output_type": "display_data"
    }
   ],
   "source": [
    "r <- cor(data[,1:30])\n",
    "corrplot(r, type=\"lower\", tl.col=\"black\")"
   ]
  },
  {
   "cell_type": "markdown",
   "id": "f711fef5-b713-4daf-9b7f-3f05caf27628",
   "metadata": {},
   "source": [
    "### 4. The train-test split <a class=\"anchor\" id=\"The_train-test_split\"></a>"
   ]
  },
  {
   "cell_type": "code",
   "execution_count": 10,
   "id": "8dc1a670-cb6b-4443-8386-819808227176",
   "metadata": {},
   "outputs": [],
   "source": [
    "set.seed(1337)\n"
   ]
  },
  {
   "cell_type": "code",
   "execution_count": 11,
   "id": "70abcbc8-b571-4148-bf42-05c061d7b3d1",
   "metadata": {},
   "outputs": [],
   "source": [
    "train <- caret::createDataPartition(data$class, p=.70, times = 1, list =F)"
   ]
  },
  {
   "cell_type": "code",
   "execution_count": 12,
   "id": "61cd860e-2eee-4369-a88f-a3f5a5f54327",
   "metadata": {},
   "outputs": [
    {
     "data": {
      "text/html": [
       "<table class=\"dataframe\">\n",
       "<caption>A data.frame: 34785 × 31</caption>\n",
       "<thead>\n",
       "\t<tr><th></th><th scope=col>Time</th><th scope=col>V1</th><th scope=col>V2</th><th scope=col>V3</th><th scope=col>V4</th><th scope=col>V5</th><th scope=col>V6</th><th scope=col>V7</th><th scope=col>V8</th><th scope=col>V9</th><th scope=col>...</th><th scope=col>V21</th><th scope=col>V22</th><th scope=col>V23</th><th scope=col>V24</th><th scope=col>V25</th><th scope=col>V26</th><th scope=col>V27</th><th scope=col>V28</th><th scope=col>Amount</th><th scope=col>class</th></tr>\n",
       "\t<tr><th></th><th scope=col>&lt;int&gt;</th><th scope=col>&lt;dbl&gt;</th><th scope=col>&lt;dbl&gt;</th><th scope=col>&lt;dbl&gt;</th><th scope=col>&lt;dbl&gt;</th><th scope=col>&lt;dbl&gt;</th><th scope=col>&lt;dbl&gt;</th><th scope=col>&lt;dbl&gt;</th><th scope=col>&lt;dbl&gt;</th><th scope=col>&lt;dbl&gt;</th><th scope=col>...</th><th scope=col>&lt;dbl&gt;</th><th scope=col>&lt;dbl&gt;</th><th scope=col>&lt;dbl&gt;</th><th scope=col>&lt;dbl&gt;</th><th scope=col>&lt;dbl&gt;</th><th scope=col>&lt;dbl&gt;</th><th scope=col>&lt;dbl&gt;</th><th scope=col>&lt;dbl&gt;</th><th scope=col>&lt;dbl&gt;</th><th scope=col>&lt;fct&gt;</th></tr>\n",
       "</thead>\n",
       "<tbody>\n",
       "\t<tr><th scope=row>1</th><td>  406</td><td>-2.31222654</td><td> 1.9519920</td><td> -1.6098507</td><td> 3.997906</td><td>-0.52218787</td><td>-1.4265453</td><td> -2.53738731</td><td> 1.39165725</td><td>-2.7700893</td><td>...</td><td> 0.5172324</td><td>-0.035049369</td><td>-0.465211076</td><td> 0.32019820</td><td> 0.04451917</td><td> 0.17783980</td><td> 0.26114500</td><td>-0.14327587</td><td>   0.00</td><td>yes</td></tr>\n",
       "\t<tr><th scope=row>2</th><td>  472</td><td>-3.04354062</td><td>-3.1573071</td><td>  1.0884628</td><td> 2.288644</td><td> 1.35980513</td><td>-1.0648225</td><td>  0.32557427</td><td>-0.06779365</td><td>-0.2709528</td><td>...</td><td> 0.6616959</td><td> 0.435477209</td><td> 1.375965743</td><td>-0.29380315</td><td> 0.27979803</td><td>-0.14536172</td><td>-0.25277312</td><td> 0.03576422</td><td> 529.00</td><td>yes</td></tr>\n",
       "\t<tr><th scope=row>5</th><td> 7519</td><td> 1.23423505</td><td> 3.0197404</td><td> -4.3045969</td><td> 4.732795</td><td> 3.62420083</td><td>-1.3577457</td><td>  1.71344499</td><td>-0.49635849</td><td>-1.2828578</td><td>...</td><td>-0.3790683</td><td>-0.704181032</td><td>-0.656804756</td><td>-1.63265296</td><td> 1.48890145</td><td> 0.56679727</td><td>-0.01001622</td><td> 0.14679274</td><td>   1.00</td><td>yes</td></tr>\n",
       "\t<tr><th scope=row>7</th><td> 7535</td><td> 0.02677923</td><td> 4.1324639</td><td> -6.5606000</td><td> 6.348557</td><td> 1.32966567</td><td>-2.5134788</td><td> -1.68910220</td><td> 0.30325280</td><td>-3.1394091</td><td>...</td><td> 0.3705087</td><td>-0.576752473</td><td>-0.669605372</td><td>-0.75990753</td><td> 1.60505555</td><td> 0.54067540</td><td> 0.73704038</td><td> 0.49669911</td><td>   1.00</td><td>yes</td></tr>\n",
       "\t<tr><th scope=row>8</th><td> 7543</td><td> 0.32959433</td><td> 3.7128893</td><td> -5.7759351</td><td> 6.078266</td><td> 1.66735901</td><td>-2.4201684</td><td> -0.81289125</td><td> 0.13308012</td><td>-2.2143113</td><td>...</td><td> 0.1566172</td><td>-0.652450441</td><td>-0.551572219</td><td>-0.71652163</td><td> 1.41571662</td><td> 0.55526474</td><td> 0.53050739</td><td> 0.40447405</td><td>   1.00</td><td>yes</td></tr>\n",
       "\t<tr><th scope=row>9</th><td> 7551</td><td> 0.31645900</td><td> 3.8090759</td><td> -5.6151590</td><td> 6.047445</td><td> 1.55402596</td><td>-2.6513531</td><td> -0.74657927</td><td> 0.05558631</td><td>-2.6786785</td><td>...</td><td> 0.2088284</td><td>-0.511746619</td><td>-0.583813221</td><td>-0.21984503</td><td> 1.47475258</td><td> 0.49119193</td><td> 0.51886829</td><td> 0.40252807</td><td>   1.00</td><td>yes</td></tr>\n",
       "\t<tr><th scope=row>10</th><td> 7610</td><td> 0.72564574</td><td> 2.3008944</td><td> -5.3299762</td><td> 4.007683</td><td>-1.73041059</td><td>-1.7321926</td><td> -3.96859262</td><td> 1.06372815</td><td>-0.4860966</td><td>...</td><td> 0.5896691</td><td> 0.109541319</td><td> 0.601045277</td><td>-0.36470028</td><td>-1.84307769</td><td> 0.35190930</td><td> 0.59454998</td><td> 0.09937224</td><td>   1.00</td><td>yes</td></tr>\n",
       "\t<tr><th scope=row>11</th><td> 7672</td><td> 0.70270990</td><td> 2.4264328</td><td> -5.2345133</td><td> 4.416661</td><td>-2.17080622</td><td>-2.6675536</td><td> -3.87808845</td><td> 0.91133712</td><td>-0.1661990</td><td>...</td><td> 0.5511797</td><td>-0.009802357</td><td> 0.721698230</td><td> 0.47324575</td><td>-1.95930377</td><td> 0.31947554</td><td> 0.60048492</td><td> 0.12930522</td><td>   1.00</td><td>yes</td></tr>\n",
       "\t<tr><th scope=row>12</th><td> 7740</td><td> 1.02387387</td><td> 2.0014853</td><td> -4.7697518</td><td> 3.819195</td><td>-1.27175423</td><td>-1.7346624</td><td> -3.05924503</td><td> 0.88980479</td><td> 0.4153821</td><td>...</td><td> 0.3432826</td><td>-0.054195664</td><td> 0.709653952</td><td>-0.37221587</td><td>-2.03206837</td><td> 0.36677760</td><td> 0.39517067</td><td> 0.02020554</td><td>   1.00</td><td>yes</td></tr>\n",
       "\t<tr><th scope=row>13</th><td> 7891</td><td>-1.58550537</td><td> 3.2615845</td><td> -4.1374220</td><td> 2.357096</td><td>-1.40504331</td><td>-1.8794372</td><td> -3.51368687</td><td> 1.51560675</td><td>-1.2071664</td><td>...</td><td> 0.5015431</td><td>-0.546868812</td><td>-0.076583636</td><td>-0.42555037</td><td> 0.12364419</td><td> 0.32198454</td><td> 0.26402816</td><td> 0.13281672</td><td>   1.00</td><td>yes</td></tr>\n",
       "\t<tr><th scope=row>14</th><td> 8090</td><td>-1.78322884</td><td> 3.4027937</td><td> -3.8227423</td><td> 2.625368</td><td>-1.97641541</td><td>-2.7316890</td><td> -3.43055915</td><td> 1.41320351</td><td>-0.7769415</td><td>...</td><td> 0.4540319</td><td>-0.577525824</td><td> 0.045966538</td><td> 0.46170002</td><td> 0.04414616</td><td> 0.30570443</td><td> 0.53098099</td><td> 0.24374560</td><td>   1.00</td><td>yes</td></tr>\n",
       "\t<tr><th scope=row>15</th><td> 8169</td><td> 0.85732100</td><td> 4.0939118</td><td> -7.4238936</td><td> 7.380245</td><td> 0.97336602</td><td>-2.7307615</td><td> -1.49649706</td><td> 0.54301517</td><td>-2.3511902</td><td>...</td><td> 0.3750263</td><td> 0.145399853</td><td> 0.240603265</td><td>-0.23464922</td><td>-1.00488095</td><td> 0.43583192</td><td> 0.61832380</td><td> 0.14846894</td><td>   1.00</td><td>yes</td></tr>\n",
       "\t<tr><th scope=row>17</th><td> 8415</td><td>-0.25147096</td><td> 4.3135233</td><td> -6.8914377</td><td> 6.796797</td><td> 0.61629650</td><td>-2.9663265</td><td> -2.43665253</td><td> 0.48932790</td><td>-3.3716386</td><td>...</td><td> 0.5368921</td><td>-0.546126024</td><td>-0.605239548</td><td>-0.26374346</td><td> 1.53991583</td><td> 0.52357370</td><td> 0.89102469</td><td> 0.57274067</td><td>   1.00</td><td>yes</td></tr>\n",
       "\t<tr><th scope=row>18</th><td> 8451</td><td> 0.31459659</td><td> 2.6606703</td><td> -5.9200374</td><td> 4.522500</td><td>-2.31502729</td><td>-2.2783517</td><td> -4.68405394</td><td> 1.20227026</td><td>-0.6946955</td><td>...</td><td> 0.7433140</td><td> 0.064038356</td><td> 0.677841675</td><td> 0.08300782</td><td>-1.91103446</td><td> 0.32218840</td><td> 0.62086654</td><td> 0.18503036</td><td>   1.00</td><td>yes</td></tr>\n",
       "\t<tr><th scope=row>19</th><td> 8528</td><td> 0.44739555</td><td> 2.4819539</td><td> -5.6608139</td><td> 4.455923</td><td>-2.44377975</td><td>-2.1850403</td><td> -4.71614294</td><td> 1.24980325</td><td>-0.7183261</td><td>...</td><td> 0.7560526</td><td> 0.140167769</td><td> 0.665411101</td><td> 0.13146379</td><td>-1.90821741</td><td> 0.33480760</td><td> 0.74853428</td><td> 0.17541379</td><td>   1.00</td><td>yes</td></tr>\n",
       "\t<tr><th scope=row>20</th><td> 8614</td><td>-2.16992898</td><td> 3.6396540</td><td> -4.5084978</td><td> 2.730668</td><td>-2.12269287</td><td>-2.3410168</td><td> -4.23525308</td><td> 1.70353766</td><td>-1.3052791</td><td>...</td><td> 0.6451033</td><td>-0.503529449</td><td>-0.000522822</td><td> 0.07169578</td><td> 0.09200743</td><td> 0.30849793</td><td> 0.55259092</td><td> 0.29895448</td><td>   1.00</td><td>yes</td></tr>\n",
       "\t<tr><th scope=row>21</th><td> 8757</td><td>-1.86375555</td><td> 3.4426440</td><td> -4.4682597</td><td> 2.805336</td><td>-2.11841248</td><td>-2.3322849</td><td> -4.26123720</td><td> 1.70168184</td><td>-1.4393959</td><td>...</td><td> 0.6679266</td><td>-0.516242362</td><td>-0.012217812</td><td> 0.07061370</td><td> 0.05850447</td><td> 0.30488284</td><td> 0.41801247</td><td> 0.20885828</td><td>   1.00</td><td>yes</td></tr>\n",
       "\t<tr><th scope=row>22</th><td> 8808</td><td>-4.61721720</td><td> 1.6956937</td><td> -3.1143722</td><td> 4.328199</td><td>-1.87325699</td><td>-0.9899081</td><td> -4.57726463</td><td> 0.47221616</td><td> 0.4720170</td><td>...</td><td> 0.4818297</td><td> 0.146023056</td><td> 0.117038528</td><td>-0.21756460</td><td>-0.13877604</td><td>-0.42445288</td><td>-1.00204143</td><td> 0.89078029</td><td>   1.10</td><td>yes</td></tr>\n",
       "\t<tr><th scope=row>23</th><td> 8878</td><td>-2.66180218</td><td> 5.8563932</td><td> -7.6536162</td><td> 6.379742</td><td>-0.06071212</td><td>-3.1315497</td><td> -3.10356975</td><td> 1.77849157</td><td>-3.8311537</td><td>...</td><td> 0.7347750</td><td>-0.435901182</td><td>-0.384765904</td><td>-0.28601566</td><td> 1.00793382</td><td> 0.41319553</td><td> 0.28028416</td><td> 0.30393655</td><td>   1.00</td><td>yes</td></tr>\n",
       "\t<tr><th scope=row>25</th><td> 9064</td><td>-3.49910754</td><td> 0.2585552</td><td> -4.4895581</td><td> 4.853894</td><td>-6.97452154</td><td> 3.6283821</td><td>  5.43127092</td><td>-1.94673371</td><td>-0.7756801</td><td>...</td><td>-1.0523683</td><td> 0.204816874</td><td>-2.119007440</td><td> 0.17027861</td><td>-0.39384412</td><td> 0.29636719</td><td> 1.98591322</td><td>-0.90045164</td><td>1809.68</td><td>yes</td></tr>\n",
       "\t<tr><th scope=row>26</th><td>11080</td><td>-2.12548983</td><td> 5.9735557</td><td>-11.0347272</td><td> 9.007147</td><td>-1.68945053</td><td>-2.8544153</td><td> -7.81044075</td><td> 2.03086995</td><td>-5.9028281</td><td>...</td><td> 1.6465183</td><td>-0.278484511</td><td>-0.664841294</td><td>-1.16455537</td><td> 1.70179641</td><td> 0.69080562</td><td> 2.11974873</td><td> 1.10893340</td><td>   1.00</td><td>yes</td></tr>\n",
       "\t<tr><th scope=row>28</th><td>11131</td><td>-1.42662331</td><td> 4.1419862</td><td> -9.8041034</td><td> 6.666273</td><td>-4.74952679</td><td>-2.0731290</td><td>-10.08993116</td><td> 2.79134530</td><td>-3.2495156</td><td>...</td><td> 1.8656788</td><td> 0.407809282</td><td> 0.605809354</td><td>-0.76934812</td><td>-1.74633683</td><td> 0.50203952</td><td> 1.97725833</td><td> 0.71160653</td><td>   1.00</td><td>yes</td></tr>\n",
       "\t<tr><th scope=row>32</th><td>12095</td><td>-4.72771266</td><td> 3.0444691</td><td> -5.5983543</td><td> 5.928191</td><td>-2.19076973</td><td>-1.5293230</td><td> -4.48742196</td><td> 0.91639181</td><td>-1.3070104</td><td>...</td><td> 0.6509882</td><td> 0.254983289</td><td> 0.628843469</td><td>-0.23812845</td><td>-0.67133233</td><td>-0.03359006</td><td>-1.33177732</td><td> 0.70569759</td><td>  30.39</td><td>yes</td></tr>\n",
       "\t<tr><th scope=row>33</th><td>12393</td><td>-4.06400474</td><td> 3.1009349</td><td> -1.1884980</td><td> 3.264633</td><td>-1.90356236</td><td> 0.3203506</td><td> -0.95494004</td><td>-3.27753492</td><td> 2.8208287</td><td>...</td><td> 1.6886654</td><td>-0.078844698</td><td> 0.193730927</td><td> 0.47949595</td><td>-0.50660306</td><td>-0.40986274</td><td>-3.03627133</td><td>-0.63060520</td><td> 179.66</td><td>yes</td></tr>\n",
       "\t<tr><th scope=row>34</th><td>12597</td><td>-2.58961720</td><td> 7.0167144</td><td>-13.7054073</td><td>10.343228</td><td>-2.95446104</td><td>-3.0551158</td><td> -9.30128862</td><td> 3.34957336</td><td>-5.6542120</td><td>...</td><td> 1.8877377</td><td> 0.333998185</td><td> 0.287659041</td><td>-1.18640641</td><td>-0.69027267</td><td> 0.63170377</td><td> 1.93422076</td><td> 0.78968717</td><td>   1.00</td><td>yes</td></tr>\n",
       "\t<tr><th scope=row>35</th><td>13126</td><td>-2.88004235</td><td> 5.2254423</td><td>-11.0633303</td><td> 6.689951</td><td>-5.75992399</td><td>-2.2440308</td><td>-11.19997522</td><td> 4.01472181</td><td>-3.4293043</td><td>...</td><td> 2.0028829</td><td> 0.351102065</td><td> 0.795255140</td><td>-0.77837938</td><td>-1.64681511</td><td> 0.48753882</td><td> 1.42771310</td><td> 0.58317249</td><td>   1.00</td><td>yes</td></tr>\n",
       "\t<tr><th scope=row>37</th><td>14073</td><td>-4.15301450</td><td> 8.2047965</td><td>-15.0317142</td><td>10.330100</td><td>-3.99442610</td><td>-3.2500132</td><td>-10.41569781</td><td> 4.62080391</td><td>-5.7112480</td><td>...</td><td> 1.9769884</td><td> 0.256510487</td><td> 0.485908107</td><td>-1.19882131</td><td>-0.52656740</td><td> 0.63487350</td><td> 1.62720908</td><td> 0.72323507</td><td>   1.00</td><td>yes</td></tr>\n",
       "\t<tr><th scope=row>38</th><td>14152</td><td>-4.71052878</td><td> 8.6362144</td><td>-15.4962220</td><td>10.313349</td><td>-4.35134098</td><td>-3.3226887</td><td>-10.78837284</td><td> 5.06038112</td><td>-5.6893112</td><td>...</td><td> 1.9905454</td><td> 0.223785003</td><td> 0.554408429</td><td>-1.20404160</td><td>-0.45068460</td><td> 0.64183606</td><td> 1.60595763</td><td> 0.72164361</td><td>   1.00</td><td>yes</td></tr>\n",
       "\t<tr><th scope=row>39</th><td>15817</td><td>-4.64189285</td><td> 2.9020864</td><td> -1.5729387</td><td> 2.507299</td><td>-0.87178256</td><td>-1.0409026</td><td> -1.59390074</td><td>-3.25490509</td><td> 1.9089627</td><td>...</td><td> 1.9635967</td><td>-0.217413916</td><td>-0.549339956</td><td> 0.64554520</td><td>-0.35455782</td><td>-0.61176385</td><td>-3.90808048</td><td>-0.67124827</td><td>  11.39</td><td>yes</td></tr>\n",
       "\t<tr><th scope=row>40</th><td>17187</td><td> 1.08837494</td><td> 0.8984740</td><td>  0.3946843</td><td> 3.170258</td><td> 0.17573880</td><td>-0.2219809</td><td> -0.02298873</td><td>-0.01087354</td><td> 0.8600436</td><td>...</td><td>-0.4235539</td><td>-0.800852285</td><td> 0.077614455</td><td> 0.16760845</td><td> 0.35018182</td><td>-0.11894093</td><td> 0.01294777</td><td> 0.05425427</td><td>   3.79</td><td>yes</td></tr>\n",
       "\t<tr><th scope=row>...</th><td>...</td><td>...</td><td>...</td><td>...</td><td>...</td><td>...</td><td>...</td><td>...</td><td>...</td><td>...</td><td></td><td>...</td><td>...</td><td>...</td><td>...</td><td>...</td><td>...</td><td>...</td><td>...</td><td>...</td><td>...</td></tr>\n",
       "\t<tr><th scope=row>49650</th><td>153633</td><td>  2.13864714</td><td>-1.4578024</td><td>-0.2176373</td><td>-0.961502126</td><td>-1.050824992</td><td> 1.23969550</td><td>-1.89768541</td><td> 0.530594365</td><td> 0.99944111</td><td>...</td><td> 0.105560681</td><td> 0.509421147</td><td> 0.15720549</td><td>-0.35645692</td><td>-0.27033557</td><td>-0.16957665</td><td> 0.048119498</td><td>-0.054246506</td><td>   2.00</td><td>no</td></tr>\n",
       "\t<tr><th scope=row>49652</th><td> 55739</td><td>  1.26082771</td><td>-1.1179751</td><td> 0.7732977</td><td>-2.167475334</td><td>-1.686632836</td><td>-0.47300501</td><td>-1.14211101</td><td> 0.186283662</td><td> 0.44594216</td><td>...</td><td>-0.261858919</td><td>-0.266929506</td><td> 0.13169936</td><td> 0.18601774</td><td> 0.02023871</td><td>-0.07034652</td><td> 0.060409383</td><td> 0.020612565</td><td>  24.30</td><td>no</td></tr>\n",
       "\t<tr><th scope=row>49653</th><td> 48233</td><td>  1.16814707</td><td>-0.7873766</td><td> 1.7453255</td><td> 1.128223760</td><td>-1.702523955</td><td> 0.51841643</td><td>-1.23939993</td><td> 0.208084411</td><td> 0.40820118</td><td>...</td><td>-0.469771343</td><td>-0.378405024</td><td>-0.01880983</td><td> 0.41965437</td><td> 0.46655833</td><td>-0.28324939</td><td> 0.132418572</td><td> 0.048379947</td><td>  30.00</td><td>no</td></tr>\n",
       "\t<tr><th scope=row>49654</th><td> 12119</td><td> -7.26794629</td><td> 3.9225915</td><td>-2.7353520</td><td>-3.003616177</td><td> 0.830614072</td><td> 4.30690419</td><td>-2.00232850</td><td>-4.906855300</td><td> 4.98177383</td><td>...</td><td> 0.846113587</td><td>-0.666472794</td><td> 0.28507358</td><td> 0.92466827</td><td> 0.76621763</td><td> 0.84049146</td><td>-0.007059049</td><td>-0.266638703</td><td>  50.00</td><td>no</td></tr>\n",
       "\t<tr><th scope=row>49655</th><td>149438</td><td> -1.15982924</td><td>-5.4963114</td><td>-2.0646488</td><td> 1.634686560</td><td>-2.285163927</td><td> 0.15414821</td><td> 1.49332356</td><td>-0.358192846</td><td> 0.81072322</td><td>...</td><td> 1.248269426</td><td> 0.102806862</td><td>-1.26528801</td><td> 0.11317045</td><td>-0.78752079</td><td>-0.43451224</td><td>-0.269436338</td><td> 0.232848878</td><td>1609.65</td><td>no</td></tr>\n",
       "\t<tr><th scope=row>49656</th><td> 94037</td><td>  2.05913021</td><td> 0.2292687</td><td>-2.4027605</td><td> 1.028489475</td><td> 1.364404008</td><td>-0.19689597</td><td> 0.56997667</td><td>-0.269576403</td><td> 1.08866779</td><td>...</td><td> 0.003828619</td><td> 0.177561523</td><td>-0.16565849</td><td>-0.38545033</td><td> 0.60787906</td><td>-0.44293333</td><td>-0.089473858</td><td>-0.084165739</td><td>  36.00</td><td>no</td></tr>\n",
       "\t<tr><th scope=row>49657</th><td>147861</td><td>-11.25902341</td><td> 6.0140246</td><td>-6.6288899</td><td> 0.827752534</td><td>-5.457141587</td><td>-0.40160016</td><td>-5.30779811</td><td> 6.228680309</td><td> 0.10532153</td><td>...</td><td> 0.335787887</td><td>-1.396907268</td><td> 0.87506344</td><td> 0.52771616</td><td>-0.24449903</td><td>-1.52158453</td><td>-6.095003831</td><td>-0.913046174</td><td>  23.89</td><td>no</td></tr>\n",
       "\t<tr><th scope=row>49659</th><td>126071</td><td>  2.28133356</td><td>-1.3521490</td><td>-1.0586022</td><td>-1.680747946</td><td>-1.059093404</td><td>-0.49760542</td><td>-1.06040467</td><td>-0.160784222</td><td>-1.52044509</td><td>...</td><td>-0.140906970</td><td> 0.100090128</td><td> 0.14951161</td><td>-0.49872166</td><td>-0.12371499</td><td>-0.15263437</td><td> 0.006043716</td><td>-0.064626323</td><td>  20.00</td><td>no</td></tr>\n",
       "\t<tr><th scope=row>49661</th><td>134318</td><td> -0.06831965</td><td> 0.1298016</td><td>-1.4986862</td><td>-2.568798546</td><td> 0.146846128</td><td>-0.64150074</td><td> 0.89149678</td><td> 0.323455240</td><td> 0.77163706</td><td>...</td><td> 0.096310682</td><td>-0.006167675</td><td> 0.33284018</td><td> 0.15231828</td><td>-0.59008379</td><td>-0.50112733</td><td>-0.072858533</td><td> 0.023985745</td><td> 120.49</td><td>no</td></tr>\n",
       "\t<tr><th scope=row>49662</th><td> 74191</td><td> -3.75662473</td><td> 0.7069459</td><td>-0.8866443</td><td>-0.157640734</td><td>-3.453654718</td><td>-0.06494550</td><td>-0.38589288</td><td> 1.919736911</td><td> 0.41780370</td><td>...</td><td>-0.079155723</td><td>-0.173890775</td><td> 0.33546387</td><td> 0.49668863</td><td>-0.75405760</td><td> 0.64095035</td><td>-0.167415320</td><td>-0.463097538</td><td> 245.58</td><td>no</td></tr>\n",
       "\t<tr><th scope=row>49663</th><td> 78417</td><td>  1.13204091</td><td>-0.5553952</td><td> 0.7886766</td><td> 0.028412178</td><td>-0.909375293</td><td> 0.20576632</td><td>-0.78556092</td><td> 0.242748625</td><td> 0.80760075</td><td>...</td><td> 0.099227977</td><td> 0.259289307</td><td>-0.15987899</td><td>-0.27104652</td><td> 0.23013627</td><td> 1.13070718</td><td>-0.054836906</td><td> 0.005232232</td><td>  57.50</td><td>no</td></tr>\n",
       "\t<tr><th scope=row>49664</th><td> 50705</td><td>  0.78424742</td><td>-1.0980289</td><td> 0.2141179</td><td>-0.581364265</td><td>-1.073656243</td><td>-0.51505243</td><td>-0.11046243</td><td>-0.008120341</td><td> 1.72146234</td><td>...</td><td> 0.149541450</td><td> 0.148581271</td><td>-0.26052363</td><td> 0.07962882</td><td> 0.48341449</td><td>-0.61677551</td><td> 0.038748636</td><td> 0.060512937</td><td> 230.97</td><td>no</td></tr>\n",
       "\t<tr><th scope=row>49665</th><td> 35357</td><td>  0.99358087</td><td>-0.1724184</td><td> 1.3593420</td><td> 1.366763275</td><td>-0.829358240</td><td> 0.51725782</td><td>-0.67789220</td><td> 0.345964847</td><td> 0.50818946</td><td>...</td><td> 0.049650117</td><td> 0.290200042</td><td> 0.01207178</td><td> 0.22909556</td><td> 0.27612813</td><td>-0.39708652</td><td> 0.080361528</td><td> 0.032306368</td><td>  37.70</td><td>no</td></tr>\n",
       "\t<tr><th scope=row>49666</th><td>115821</td><td>  0.13640213</td><td>-1.1197699</td><td> 0.2552953</td><td>-3.646416849</td><td> 1.681210994</td><td> 3.96971259</td><td>-1.01707219</td><td> 0.610109727</td><td>-1.40992980</td><td>...</td><td> 0.045179553</td><td> 0.837285907</td><td>-0.29557127</td><td> 0.71717465</td><td>-0.10916616</td><td>-0.01025753</td><td>-0.338317344</td><td>-0.431737561</td><td>   4.22</td><td>no</td></tr>\n",
       "\t<tr><th scope=row>49669</th><td>118261</td><td> -0.55972084</td><td> 1.2899864</td><td>-0.1002479</td><td>-0.701588473</td><td> 0.105090654</td><td>-0.91513154</td><td> 0.56998271</td><td> 0.345105663</td><td>-0.36110484</td><td>...</td><td>-0.185710298</td><td>-0.434639815</td><td> 0.12504840</td><td> 0.07906838</td><td>-0.44060151</td><td> 0.12049292</td><td> 0.227335964</td><td> 0.086815186</td><td>   1.98</td><td>no</td></tr>\n",
       "\t<tr><th scope=row>49672</th><td>161836</td><td> -1.01541520</td><td> 0.3960299</td><td> 2.0675021</td><td>-1.133480343</td><td> 0.515307016</td><td> 0.17435417</td><td> 0.24741819</td><td> 0.287084649</td><td> 0.03516315</td><td>...</td><td> 0.268028714</td><td> 0.746850939</td><td>-0.45861072</td><td> 0.80066825</td><td> 0.79278517</td><td>-0.23186386</td><td> 0.036079156</td><td> 0.062311483</td><td>   9.99</td><td>no</td></tr>\n",
       "\t<tr><th scope=row>49673</th><td>120313</td><td> -1.61151538</td><td> 0.1201329</td><td> 1.5628727</td><td> 0.298314108</td><td>-0.235515098</td><td>-0.43151326</td><td>-0.28720683</td><td> 0.498691462</td><td> 0.20400439</td><td>...</td><td> 0.299546109</td><td> 0.809447182</td><td>-0.25091151</td><td> 0.02401262</td><td> 0.64302686</td><td> 0.13473775</td><td>-0.136974683</td><td>-0.022183055</td><td>  32.89</td><td>no</td></tr>\n",
       "\t<tr><th scope=row>49674</th><td> 85307</td><td>  1.11115514</td><td> 0.4008422</td><td> 0.8767840</td><td> 2.562013738</td><td>-0.388258565</td><td>-0.18260231</td><td>-0.08553977</td><td> 0.126685454</td><td>-0.60395115</td><td>...</td><td>-0.174941371</td><td>-0.541128116</td><td> 0.08624431</td><td> 0.47613041</td><td> 0.31887186</td><td>-0.17487764</td><td>-0.012075961</td><td> 0.014164872</td><td>   5.41</td><td>no</td></tr>\n",
       "\t<tr><th scope=row>49675</th><td> 57140</td><td> -0.36025075</td><td> 0.4278836</td><td> 0.6481319</td><td> 2.854582270</td><td> 1.418611194</td><td>-0.59625333</td><td> 0.43839016</td><td>-0.120135745</td><td>-1.35097964</td><td>...</td><td> 0.173116863</td><td> 0.535072925</td><td> 0.14111886</td><td>-0.02641585</td><td>-1.02967926</td><td> 0.07652538</td><td> 0.284885075</td><td> 0.086793307</td><td>  12.13</td><td>no</td></tr>\n",
       "\t<tr><th scope=row>49676</th><td>162849</td><td>  0.21881788</td><td> 0.4237271</td><td>-0.9900458</td><td>-0.070984301</td><td> 1.318903418</td><td>-0.91750305</td><td> 0.89279042</td><td>-0.325981729</td><td>-0.40739006</td><td>...</td><td> 0.257088897</td><td> 1.009105188</td><td> 0.08057340</td><td>-0.29637606</td><td>-1.84411096</td><td> 0.33093214</td><td> 0.240561329</td><td> 0.305539617</td><td>  12.95</td><td>no</td></tr>\n",
       "\t<tr><th scope=row>49677</th><td>165024</td><td>  0.38202426</td><td>-4.0144154</td><td>-2.2852323</td><td> 0.133510822</td><td>-1.608711544</td><td>-0.26651765</td><td> 0.61045572</td><td>-0.448538953</td><td> 0.18276549</td><td>...</td><td> 1.001424828</td><td> 1.063626767</td><td>-1.02643674</td><td>-0.26713711</td><td> 0.14970573</td><td> 0.22268350</td><td>-0.192919002</td><td> 0.087538687</td><td> 956.31</td><td>no</td></tr>\n",
       "\t<tr><th scope=row>49678</th><td> 71242</td><td>  1.40919484</td><td>-1.0665598</td><td> 0.5265116</td><td>-1.273912961</td><td>-1.559178394</td><td>-0.74360434</td><td>-0.95729586</td><td>-0.133220949</td><td>-1.85687348</td><td>...</td><td>-0.152735892</td><td>-0.069530814</td><td> 0.08576495</td><td> 0.37510706</td><td> 0.25855470</td><td>-0.19875150</td><td> 0.041861360</td><td> 0.024576538</td><td>  36.39</td><td>no</td></tr>\n",
       "\t<tr><th scope=row>49682</th><td>152806</td><td> -0.73611994</td><td>-0.1817158</td><td> 1.5409861</td><td>-3.453554318</td><td>-0.565205819</td><td>-0.67612191</td><td> 0.19955424</td><td>-0.109750400</td><td>-2.48758021</td><td>...</td><td>-0.105897989</td><td>-0.015467392</td><td>-0.43858753</td><td> 0.05655519</td><td> 0.74018096</td><td>-0.25706304</td><td>-0.127234497</td><td> 0.019835257</td><td>  20.00</td><td>no</td></tr>\n",
       "\t<tr><th scope=row>49683</th><td> 62524</td><td> -1.91792391</td><td>-0.1512524</td><td> 1.0027831</td><td> 1.621657159</td><td> 0.514757644</td><td> 0.50208292</td><td>-0.83685601</td><td>-2.364316936</td><td>-0.69169743</td><td>...</td><td>-1.296503609</td><td> 0.784130942</td><td> 0.87203768</td><td>-0.01671594</td><td>-0.04421431</td><td>-0.22753210</td><td> 0.342523115</td><td> 0.034825623</td><td>  84.84</td><td>no</td></tr>\n",
       "\t<tr><th scope=row>49684</th><td> 27883</td><td> -0.19546631</td><td> 1.3180066</td><td>-0.1501938</td><td> 0.937095003</td><td> 0.158548252</td><td>-0.74705083</td><td> 0.51336041</td><td> 0.346224304</td><td>-0.56996936</td><td>...</td><td> 0.192522486</td><td> 0.644545609</td><td> 0.10221863</td><td> 0.06644752</td><td>-0.78991221</td><td>-0.38047100</td><td> 0.326370157</td><td> 0.163030340</td><td>   0.89</td><td>no</td></tr>\n",
       "\t<tr><th scope=row>49686</th><td> 68262</td><td> -1.05791806</td><td> 1.3283417</td><td> 2.1185766</td><td> 0.718058295</td><td>-0.344530405</td><td> 0.09995318</td><td> 0.10563926</td><td> 0.411812497</td><td>-0.31584310</td><td>...</td><td>-0.014731393</td><td> 0.092131003</td><td>-0.17913218</td><td> 0.05594940</td><td> 0.11901144</td><td>-0.37053923</td><td>-0.058055834</td><td>-0.137683138</td><td>   2.50</td><td>no</td></tr>\n",
       "\t<tr><th scope=row>49687</th><td>138217</td><td> -0.75267035</td><td> 0.3750429</td><td> 1.8162161</td><td>-0.667050094</td><td> 0.181250045</td><td>-0.51714616</td><td> 0.68830488</td><td>-0.360454032</td><td> 0.91042125</td><td>...</td><td> 0.077695312</td><td> 0.885586586</td><td>-0.31794087</td><td> 0.10637849</td><td>-0.06600045</td><td> 0.57965081</td><td> 0.114978557</td><td>-0.141167409</td><td>  32.30</td><td>no</td></tr>\n",
       "\t<tr><th scope=row>49690</th><td> 65083</td><td> -2.74301511</td><td>-3.8643478</td><td> 1.2034485</td><td>-0.608998393</td><td> 3.730415133</td><td>-3.08885139</td><td>-1.92624255</td><td>-0.059977727</td><td>-0.89356214</td><td>...</td><td> 0.612837839</td><td> 0.889010998</td><td> 0.58232530</td><td> 0.14040650</td><td>-0.19920392</td><td>-0.34071633</td><td>-0.126776895</td><td> 0.026456036</td><td>  20.00</td><td>no</td></tr>\n",
       "\t<tr><th scope=row>49691</th><td> 14492</td><td>  1.01858394</td><td>-0.2759122</td><td> 0.7674317</td><td>-0.003349824</td><td> 0.008896668</td><td> 1.51356468</td><td>-0.89574816</td><td> 0.559504173</td><td> 1.50328869</td><td>...</td><td> 0.100861005</td><td> 0.654582428</td><td> 0.10355540</td><td>-1.00956848</td><td>-0.14728847</td><td> 1.14362120</td><td>-0.023483692</td><td>-0.019945738</td><td>  14.95</td><td>no</td></tr>\n",
       "\t<tr><th scope=row>49692</th><td>121384</td><td> -1.53628989</td><td> 1.7579059</td><td>-1.0014199</td><td>-0.633174632</td><td>-0.732239428</td><td>-1.06628939</td><td>-0.22118464</td><td> 1.284403662</td><td>-0.27505657</td><td>...</td><td>-0.152771032</td><td>-0.611876994</td><td> 0.23292544</td><td> 0.03654382</td><td>-0.39939027</td><td> 0.13419162</td><td> 0.092217138</td><td>-0.005596181</td><td>  17.98</td><td>no</td></tr>\n",
       "</tbody>\n",
       "</table>\n"
      ],
      "text/latex": [
       "A data.frame: 34785 × 31\n",
       "\\begin{tabular}{r|lllllllllllllllllllll}\n",
       "  & Time & V1 & V2 & V3 & V4 & V5 & V6 & V7 & V8 & V9 & ... & V21 & V22 & V23 & V24 & V25 & V26 & V27 & V28 & Amount & class\\\\\n",
       "  & <int> & <dbl> & <dbl> & <dbl> & <dbl> & <dbl> & <dbl> & <dbl> & <dbl> & <dbl> & ... & <dbl> & <dbl> & <dbl> & <dbl> & <dbl> & <dbl> & <dbl> & <dbl> & <dbl> & <fct>\\\\\n",
       "\\hline\n",
       "\t1 &   406 & -2.31222654 &  1.9519920 &  -1.6098507 &  3.997906 & -0.52218787 & -1.4265453 &  -2.53738731 &  1.39165725 & -2.7700893 & ... &  0.5172324 & -0.035049369 & -0.465211076 &  0.32019820 &  0.04451917 &  0.17783980 &  0.26114500 & -0.14327587 &    0.00 & yes\\\\\n",
       "\t2 &   472 & -3.04354062 & -3.1573071 &   1.0884628 &  2.288644 &  1.35980513 & -1.0648225 &   0.32557427 & -0.06779365 & -0.2709528 & ... &  0.6616959 &  0.435477209 &  1.375965743 & -0.29380315 &  0.27979803 & -0.14536172 & -0.25277312 &  0.03576422 &  529.00 & yes\\\\\n",
       "\t5 &  7519 &  1.23423505 &  3.0197404 &  -4.3045969 &  4.732795 &  3.62420083 & -1.3577457 &   1.71344499 & -0.49635849 & -1.2828578 & ... & -0.3790683 & -0.704181032 & -0.656804756 & -1.63265296 &  1.48890145 &  0.56679727 & -0.01001622 &  0.14679274 &    1.00 & yes\\\\\n",
       "\t7 &  7535 &  0.02677923 &  4.1324639 &  -6.5606000 &  6.348557 &  1.32966567 & -2.5134788 &  -1.68910220 &  0.30325280 & -3.1394091 & ... &  0.3705087 & -0.576752473 & -0.669605372 & -0.75990753 &  1.60505555 &  0.54067540 &  0.73704038 &  0.49669911 &    1.00 & yes\\\\\n",
       "\t8 &  7543 &  0.32959433 &  3.7128893 &  -5.7759351 &  6.078266 &  1.66735901 & -2.4201684 &  -0.81289125 &  0.13308012 & -2.2143113 & ... &  0.1566172 & -0.652450441 & -0.551572219 & -0.71652163 &  1.41571662 &  0.55526474 &  0.53050739 &  0.40447405 &    1.00 & yes\\\\\n",
       "\t9 &  7551 &  0.31645900 &  3.8090759 &  -5.6151590 &  6.047445 &  1.55402596 & -2.6513531 &  -0.74657927 &  0.05558631 & -2.6786785 & ... &  0.2088284 & -0.511746619 & -0.583813221 & -0.21984503 &  1.47475258 &  0.49119193 &  0.51886829 &  0.40252807 &    1.00 & yes\\\\\n",
       "\t10 &  7610 &  0.72564574 &  2.3008944 &  -5.3299762 &  4.007683 & -1.73041059 & -1.7321926 &  -3.96859262 &  1.06372815 & -0.4860966 & ... &  0.5896691 &  0.109541319 &  0.601045277 & -0.36470028 & -1.84307769 &  0.35190930 &  0.59454998 &  0.09937224 &    1.00 & yes\\\\\n",
       "\t11 &  7672 &  0.70270990 &  2.4264328 &  -5.2345133 &  4.416661 & -2.17080622 & -2.6675536 &  -3.87808845 &  0.91133712 & -0.1661990 & ... &  0.5511797 & -0.009802357 &  0.721698230 &  0.47324575 & -1.95930377 &  0.31947554 &  0.60048492 &  0.12930522 &    1.00 & yes\\\\\n",
       "\t12 &  7740 &  1.02387387 &  2.0014853 &  -4.7697518 &  3.819195 & -1.27175423 & -1.7346624 &  -3.05924503 &  0.88980479 &  0.4153821 & ... &  0.3432826 & -0.054195664 &  0.709653952 & -0.37221587 & -2.03206837 &  0.36677760 &  0.39517067 &  0.02020554 &    1.00 & yes\\\\\n",
       "\t13 &  7891 & -1.58550537 &  3.2615845 &  -4.1374220 &  2.357096 & -1.40504331 & -1.8794372 &  -3.51368687 &  1.51560675 & -1.2071664 & ... &  0.5015431 & -0.546868812 & -0.076583636 & -0.42555037 &  0.12364419 &  0.32198454 &  0.26402816 &  0.13281672 &    1.00 & yes\\\\\n",
       "\t14 &  8090 & -1.78322884 &  3.4027937 &  -3.8227423 &  2.625368 & -1.97641541 & -2.7316890 &  -3.43055915 &  1.41320351 & -0.7769415 & ... &  0.4540319 & -0.577525824 &  0.045966538 &  0.46170002 &  0.04414616 &  0.30570443 &  0.53098099 &  0.24374560 &    1.00 & yes\\\\\n",
       "\t15 &  8169 &  0.85732100 &  4.0939118 &  -7.4238936 &  7.380245 &  0.97336602 & -2.7307615 &  -1.49649706 &  0.54301517 & -2.3511902 & ... &  0.3750263 &  0.145399853 &  0.240603265 & -0.23464922 & -1.00488095 &  0.43583192 &  0.61832380 &  0.14846894 &    1.00 & yes\\\\\n",
       "\t17 &  8415 & -0.25147096 &  4.3135233 &  -6.8914377 &  6.796797 &  0.61629650 & -2.9663265 &  -2.43665253 &  0.48932790 & -3.3716386 & ... &  0.5368921 & -0.546126024 & -0.605239548 & -0.26374346 &  1.53991583 &  0.52357370 &  0.89102469 &  0.57274067 &    1.00 & yes\\\\\n",
       "\t18 &  8451 &  0.31459659 &  2.6606703 &  -5.9200374 &  4.522500 & -2.31502729 & -2.2783517 &  -4.68405394 &  1.20227026 & -0.6946955 & ... &  0.7433140 &  0.064038356 &  0.677841675 &  0.08300782 & -1.91103446 &  0.32218840 &  0.62086654 &  0.18503036 &    1.00 & yes\\\\\n",
       "\t19 &  8528 &  0.44739555 &  2.4819539 &  -5.6608139 &  4.455923 & -2.44377975 & -2.1850403 &  -4.71614294 &  1.24980325 & -0.7183261 & ... &  0.7560526 &  0.140167769 &  0.665411101 &  0.13146379 & -1.90821741 &  0.33480760 &  0.74853428 &  0.17541379 &    1.00 & yes\\\\\n",
       "\t20 &  8614 & -2.16992898 &  3.6396540 &  -4.5084978 &  2.730668 & -2.12269287 & -2.3410168 &  -4.23525308 &  1.70353766 & -1.3052791 & ... &  0.6451033 & -0.503529449 & -0.000522822 &  0.07169578 &  0.09200743 &  0.30849793 &  0.55259092 &  0.29895448 &    1.00 & yes\\\\\n",
       "\t21 &  8757 & -1.86375555 &  3.4426440 &  -4.4682597 &  2.805336 & -2.11841248 & -2.3322849 &  -4.26123720 &  1.70168184 & -1.4393959 & ... &  0.6679266 & -0.516242362 & -0.012217812 &  0.07061370 &  0.05850447 &  0.30488284 &  0.41801247 &  0.20885828 &    1.00 & yes\\\\\n",
       "\t22 &  8808 & -4.61721720 &  1.6956937 &  -3.1143722 &  4.328199 & -1.87325699 & -0.9899081 &  -4.57726463 &  0.47221616 &  0.4720170 & ... &  0.4818297 &  0.146023056 &  0.117038528 & -0.21756460 & -0.13877604 & -0.42445288 & -1.00204143 &  0.89078029 &    1.10 & yes\\\\\n",
       "\t23 &  8878 & -2.66180218 &  5.8563932 &  -7.6536162 &  6.379742 & -0.06071212 & -3.1315497 &  -3.10356975 &  1.77849157 & -3.8311537 & ... &  0.7347750 & -0.435901182 & -0.384765904 & -0.28601566 &  1.00793382 &  0.41319553 &  0.28028416 &  0.30393655 &    1.00 & yes\\\\\n",
       "\t25 &  9064 & -3.49910754 &  0.2585552 &  -4.4895581 &  4.853894 & -6.97452154 &  3.6283821 &   5.43127092 & -1.94673371 & -0.7756801 & ... & -1.0523683 &  0.204816874 & -2.119007440 &  0.17027861 & -0.39384412 &  0.29636719 &  1.98591322 & -0.90045164 & 1809.68 & yes\\\\\n",
       "\t26 & 11080 & -2.12548983 &  5.9735557 & -11.0347272 &  9.007147 & -1.68945053 & -2.8544153 &  -7.81044075 &  2.03086995 & -5.9028281 & ... &  1.6465183 & -0.278484511 & -0.664841294 & -1.16455537 &  1.70179641 &  0.69080562 &  2.11974873 &  1.10893340 &    1.00 & yes\\\\\n",
       "\t28 & 11131 & -1.42662331 &  4.1419862 &  -9.8041034 &  6.666273 & -4.74952679 & -2.0731290 & -10.08993116 &  2.79134530 & -3.2495156 & ... &  1.8656788 &  0.407809282 &  0.605809354 & -0.76934812 & -1.74633683 &  0.50203952 &  1.97725833 &  0.71160653 &    1.00 & yes\\\\\n",
       "\t32 & 12095 & -4.72771266 &  3.0444691 &  -5.5983543 &  5.928191 & -2.19076973 & -1.5293230 &  -4.48742196 &  0.91639181 & -1.3070104 & ... &  0.6509882 &  0.254983289 &  0.628843469 & -0.23812845 & -0.67133233 & -0.03359006 & -1.33177732 &  0.70569759 &   30.39 & yes\\\\\n",
       "\t33 & 12393 & -4.06400474 &  3.1009349 &  -1.1884980 &  3.264633 & -1.90356236 &  0.3203506 &  -0.95494004 & -3.27753492 &  2.8208287 & ... &  1.6886654 & -0.078844698 &  0.193730927 &  0.47949595 & -0.50660306 & -0.40986274 & -3.03627133 & -0.63060520 &  179.66 & yes\\\\\n",
       "\t34 & 12597 & -2.58961720 &  7.0167144 & -13.7054073 & 10.343228 & -2.95446104 & -3.0551158 &  -9.30128862 &  3.34957336 & -5.6542120 & ... &  1.8877377 &  0.333998185 &  0.287659041 & -1.18640641 & -0.69027267 &  0.63170377 &  1.93422076 &  0.78968717 &    1.00 & yes\\\\\n",
       "\t35 & 13126 & -2.88004235 &  5.2254423 & -11.0633303 &  6.689951 & -5.75992399 & -2.2440308 & -11.19997522 &  4.01472181 & -3.4293043 & ... &  2.0028829 &  0.351102065 &  0.795255140 & -0.77837938 & -1.64681511 &  0.48753882 &  1.42771310 &  0.58317249 &    1.00 & yes\\\\\n",
       "\t37 & 14073 & -4.15301450 &  8.2047965 & -15.0317142 & 10.330100 & -3.99442610 & -3.2500132 & -10.41569781 &  4.62080391 & -5.7112480 & ... &  1.9769884 &  0.256510487 &  0.485908107 & -1.19882131 & -0.52656740 &  0.63487350 &  1.62720908 &  0.72323507 &    1.00 & yes\\\\\n",
       "\t38 & 14152 & -4.71052878 &  8.6362144 & -15.4962220 & 10.313349 & -4.35134098 & -3.3226887 & -10.78837284 &  5.06038112 & -5.6893112 & ... &  1.9905454 &  0.223785003 &  0.554408429 & -1.20404160 & -0.45068460 &  0.64183606 &  1.60595763 &  0.72164361 &    1.00 & yes\\\\\n",
       "\t39 & 15817 & -4.64189285 &  2.9020864 &  -1.5729387 &  2.507299 & -0.87178256 & -1.0409026 &  -1.59390074 & -3.25490509 &  1.9089627 & ... &  1.9635967 & -0.217413916 & -0.549339956 &  0.64554520 & -0.35455782 & -0.61176385 & -3.90808048 & -0.67124827 &   11.39 & yes\\\\\n",
       "\t40 & 17187 &  1.08837494 &  0.8984740 &   0.3946843 &  3.170258 &  0.17573880 & -0.2219809 &  -0.02298873 & -0.01087354 &  0.8600436 & ... & -0.4235539 & -0.800852285 &  0.077614455 &  0.16760845 &  0.35018182 & -0.11894093 &  0.01294777 &  0.05425427 &    3.79 & yes\\\\\n",
       "\t... & ... & ... & ... & ... & ... & ... & ... & ... & ... & ... &  & ... & ... & ... & ... & ... & ... & ... & ... & ... & ...\\\\\n",
       "\t49650 & 153633 &   2.13864714 & -1.4578024 & -0.2176373 & -0.961502126 & -1.050824992 &  1.23969550 & -1.89768541 &  0.530594365 &  0.99944111 & ... &  0.105560681 &  0.509421147 &  0.15720549 & -0.35645692 & -0.27033557 & -0.16957665 &  0.048119498 & -0.054246506 &    2.00 & no\\\\\n",
       "\t49652 &  55739 &   1.26082771 & -1.1179751 &  0.7732977 & -2.167475334 & -1.686632836 & -0.47300501 & -1.14211101 &  0.186283662 &  0.44594216 & ... & -0.261858919 & -0.266929506 &  0.13169936 &  0.18601774 &  0.02023871 & -0.07034652 &  0.060409383 &  0.020612565 &   24.30 & no\\\\\n",
       "\t49653 &  48233 &   1.16814707 & -0.7873766 &  1.7453255 &  1.128223760 & -1.702523955 &  0.51841643 & -1.23939993 &  0.208084411 &  0.40820118 & ... & -0.469771343 & -0.378405024 & -0.01880983 &  0.41965437 &  0.46655833 & -0.28324939 &  0.132418572 &  0.048379947 &   30.00 & no\\\\\n",
       "\t49654 &  12119 &  -7.26794629 &  3.9225915 & -2.7353520 & -3.003616177 &  0.830614072 &  4.30690419 & -2.00232850 & -4.906855300 &  4.98177383 & ... &  0.846113587 & -0.666472794 &  0.28507358 &  0.92466827 &  0.76621763 &  0.84049146 & -0.007059049 & -0.266638703 &   50.00 & no\\\\\n",
       "\t49655 & 149438 &  -1.15982924 & -5.4963114 & -2.0646488 &  1.634686560 & -2.285163927 &  0.15414821 &  1.49332356 & -0.358192846 &  0.81072322 & ... &  1.248269426 &  0.102806862 & -1.26528801 &  0.11317045 & -0.78752079 & -0.43451224 & -0.269436338 &  0.232848878 & 1609.65 & no\\\\\n",
       "\t49656 &  94037 &   2.05913021 &  0.2292687 & -2.4027605 &  1.028489475 &  1.364404008 & -0.19689597 &  0.56997667 & -0.269576403 &  1.08866779 & ... &  0.003828619 &  0.177561523 & -0.16565849 & -0.38545033 &  0.60787906 & -0.44293333 & -0.089473858 & -0.084165739 &   36.00 & no\\\\\n",
       "\t49657 & 147861 & -11.25902341 &  6.0140246 & -6.6288899 &  0.827752534 & -5.457141587 & -0.40160016 & -5.30779811 &  6.228680309 &  0.10532153 & ... &  0.335787887 & -1.396907268 &  0.87506344 &  0.52771616 & -0.24449903 & -1.52158453 & -6.095003831 & -0.913046174 &   23.89 & no\\\\\n",
       "\t49659 & 126071 &   2.28133356 & -1.3521490 & -1.0586022 & -1.680747946 & -1.059093404 & -0.49760542 & -1.06040467 & -0.160784222 & -1.52044509 & ... & -0.140906970 &  0.100090128 &  0.14951161 & -0.49872166 & -0.12371499 & -0.15263437 &  0.006043716 & -0.064626323 &   20.00 & no\\\\\n",
       "\t49661 & 134318 &  -0.06831965 &  0.1298016 & -1.4986862 & -2.568798546 &  0.146846128 & -0.64150074 &  0.89149678 &  0.323455240 &  0.77163706 & ... &  0.096310682 & -0.006167675 &  0.33284018 &  0.15231828 & -0.59008379 & -0.50112733 & -0.072858533 &  0.023985745 &  120.49 & no\\\\\n",
       "\t49662 &  74191 &  -3.75662473 &  0.7069459 & -0.8866443 & -0.157640734 & -3.453654718 & -0.06494550 & -0.38589288 &  1.919736911 &  0.41780370 & ... & -0.079155723 & -0.173890775 &  0.33546387 &  0.49668863 & -0.75405760 &  0.64095035 & -0.167415320 & -0.463097538 &  245.58 & no\\\\\n",
       "\t49663 &  78417 &   1.13204091 & -0.5553952 &  0.7886766 &  0.028412178 & -0.909375293 &  0.20576632 & -0.78556092 &  0.242748625 &  0.80760075 & ... &  0.099227977 &  0.259289307 & -0.15987899 & -0.27104652 &  0.23013627 &  1.13070718 & -0.054836906 &  0.005232232 &   57.50 & no\\\\\n",
       "\t49664 &  50705 &   0.78424742 & -1.0980289 &  0.2141179 & -0.581364265 & -1.073656243 & -0.51505243 & -0.11046243 & -0.008120341 &  1.72146234 & ... &  0.149541450 &  0.148581271 & -0.26052363 &  0.07962882 &  0.48341449 & -0.61677551 &  0.038748636 &  0.060512937 &  230.97 & no\\\\\n",
       "\t49665 &  35357 &   0.99358087 & -0.1724184 &  1.3593420 &  1.366763275 & -0.829358240 &  0.51725782 & -0.67789220 &  0.345964847 &  0.50818946 & ... &  0.049650117 &  0.290200042 &  0.01207178 &  0.22909556 &  0.27612813 & -0.39708652 &  0.080361528 &  0.032306368 &   37.70 & no\\\\\n",
       "\t49666 & 115821 &   0.13640213 & -1.1197699 &  0.2552953 & -3.646416849 &  1.681210994 &  3.96971259 & -1.01707219 &  0.610109727 & -1.40992980 & ... &  0.045179553 &  0.837285907 & -0.29557127 &  0.71717465 & -0.10916616 & -0.01025753 & -0.338317344 & -0.431737561 &    4.22 & no\\\\\n",
       "\t49669 & 118261 &  -0.55972084 &  1.2899864 & -0.1002479 & -0.701588473 &  0.105090654 & -0.91513154 &  0.56998271 &  0.345105663 & -0.36110484 & ... & -0.185710298 & -0.434639815 &  0.12504840 &  0.07906838 & -0.44060151 &  0.12049292 &  0.227335964 &  0.086815186 &    1.98 & no\\\\\n",
       "\t49672 & 161836 &  -1.01541520 &  0.3960299 &  2.0675021 & -1.133480343 &  0.515307016 &  0.17435417 &  0.24741819 &  0.287084649 &  0.03516315 & ... &  0.268028714 &  0.746850939 & -0.45861072 &  0.80066825 &  0.79278517 & -0.23186386 &  0.036079156 &  0.062311483 &    9.99 & no\\\\\n",
       "\t49673 & 120313 &  -1.61151538 &  0.1201329 &  1.5628727 &  0.298314108 & -0.235515098 & -0.43151326 & -0.28720683 &  0.498691462 &  0.20400439 & ... &  0.299546109 &  0.809447182 & -0.25091151 &  0.02401262 &  0.64302686 &  0.13473775 & -0.136974683 & -0.022183055 &   32.89 & no\\\\\n",
       "\t49674 &  85307 &   1.11115514 &  0.4008422 &  0.8767840 &  2.562013738 & -0.388258565 & -0.18260231 & -0.08553977 &  0.126685454 & -0.60395115 & ... & -0.174941371 & -0.541128116 &  0.08624431 &  0.47613041 &  0.31887186 & -0.17487764 & -0.012075961 &  0.014164872 &    5.41 & no\\\\\n",
       "\t49675 &  57140 &  -0.36025075 &  0.4278836 &  0.6481319 &  2.854582270 &  1.418611194 & -0.59625333 &  0.43839016 & -0.120135745 & -1.35097964 & ... &  0.173116863 &  0.535072925 &  0.14111886 & -0.02641585 & -1.02967926 &  0.07652538 &  0.284885075 &  0.086793307 &   12.13 & no\\\\\n",
       "\t49676 & 162849 &   0.21881788 &  0.4237271 & -0.9900458 & -0.070984301 &  1.318903418 & -0.91750305 &  0.89279042 & -0.325981729 & -0.40739006 & ... &  0.257088897 &  1.009105188 &  0.08057340 & -0.29637606 & -1.84411096 &  0.33093214 &  0.240561329 &  0.305539617 &   12.95 & no\\\\\n",
       "\t49677 & 165024 &   0.38202426 & -4.0144154 & -2.2852323 &  0.133510822 & -1.608711544 & -0.26651765 &  0.61045572 & -0.448538953 &  0.18276549 & ... &  1.001424828 &  1.063626767 & -1.02643674 & -0.26713711 &  0.14970573 &  0.22268350 & -0.192919002 &  0.087538687 &  956.31 & no\\\\\n",
       "\t49678 &  71242 &   1.40919484 & -1.0665598 &  0.5265116 & -1.273912961 & -1.559178394 & -0.74360434 & -0.95729586 & -0.133220949 & -1.85687348 & ... & -0.152735892 & -0.069530814 &  0.08576495 &  0.37510706 &  0.25855470 & -0.19875150 &  0.041861360 &  0.024576538 &   36.39 & no\\\\\n",
       "\t49682 & 152806 &  -0.73611994 & -0.1817158 &  1.5409861 & -3.453554318 & -0.565205819 & -0.67612191 &  0.19955424 & -0.109750400 & -2.48758021 & ... & -0.105897989 & -0.015467392 & -0.43858753 &  0.05655519 &  0.74018096 & -0.25706304 & -0.127234497 &  0.019835257 &   20.00 & no\\\\\n",
       "\t49683 &  62524 &  -1.91792391 & -0.1512524 &  1.0027831 &  1.621657159 &  0.514757644 &  0.50208292 & -0.83685601 & -2.364316936 & -0.69169743 & ... & -1.296503609 &  0.784130942 &  0.87203768 & -0.01671594 & -0.04421431 & -0.22753210 &  0.342523115 &  0.034825623 &   84.84 & no\\\\\n",
       "\t49684 &  27883 &  -0.19546631 &  1.3180066 & -0.1501938 &  0.937095003 &  0.158548252 & -0.74705083 &  0.51336041 &  0.346224304 & -0.56996936 & ... &  0.192522486 &  0.644545609 &  0.10221863 &  0.06644752 & -0.78991221 & -0.38047100 &  0.326370157 &  0.163030340 &    0.89 & no\\\\\n",
       "\t49686 &  68262 &  -1.05791806 &  1.3283417 &  2.1185766 &  0.718058295 & -0.344530405 &  0.09995318 &  0.10563926 &  0.411812497 & -0.31584310 & ... & -0.014731393 &  0.092131003 & -0.17913218 &  0.05594940 &  0.11901144 & -0.37053923 & -0.058055834 & -0.137683138 &    2.50 & no\\\\\n",
       "\t49687 & 138217 &  -0.75267035 &  0.3750429 &  1.8162161 & -0.667050094 &  0.181250045 & -0.51714616 &  0.68830488 & -0.360454032 &  0.91042125 & ... &  0.077695312 &  0.885586586 & -0.31794087 &  0.10637849 & -0.06600045 &  0.57965081 &  0.114978557 & -0.141167409 &   32.30 & no\\\\\n",
       "\t49690 &  65083 &  -2.74301511 & -3.8643478 &  1.2034485 & -0.608998393 &  3.730415133 & -3.08885139 & -1.92624255 & -0.059977727 & -0.89356214 & ... &  0.612837839 &  0.889010998 &  0.58232530 &  0.14040650 & -0.19920392 & -0.34071633 & -0.126776895 &  0.026456036 &   20.00 & no\\\\\n",
       "\t49691 &  14492 &   1.01858394 & -0.2759122 &  0.7674317 & -0.003349824 &  0.008896668 &  1.51356468 & -0.89574816 &  0.559504173 &  1.50328869 & ... &  0.100861005 &  0.654582428 &  0.10355540 & -1.00956848 & -0.14728847 &  1.14362120 & -0.023483692 & -0.019945738 &   14.95 & no\\\\\n",
       "\t49692 & 121384 &  -1.53628989 &  1.7579059 & -1.0014199 & -0.633174632 & -0.732239428 & -1.06628939 & -0.22118464 &  1.284403662 & -0.27505657 & ... & -0.152771032 & -0.611876994 &  0.23292544 &  0.03654382 & -0.39939027 &  0.13419162 &  0.092217138 & -0.005596181 &   17.98 & no\\\\\n",
       "\\end{tabular}\n"
      ],
      "text/markdown": [
       "\n",
       "A data.frame: 34785 × 31\n",
       "\n",
       "| <!--/--> | Time &lt;int&gt; | V1 &lt;dbl&gt; | V2 &lt;dbl&gt; | V3 &lt;dbl&gt; | V4 &lt;dbl&gt; | V5 &lt;dbl&gt; | V6 &lt;dbl&gt; | V7 &lt;dbl&gt; | V8 &lt;dbl&gt; | V9 &lt;dbl&gt; | ... ... | V21 &lt;dbl&gt; | V22 &lt;dbl&gt; | V23 &lt;dbl&gt; | V24 &lt;dbl&gt; | V25 &lt;dbl&gt; | V26 &lt;dbl&gt; | V27 &lt;dbl&gt; | V28 &lt;dbl&gt; | Amount &lt;dbl&gt; | class &lt;fct&gt; |\n",
       "|---|---|---|---|---|---|---|---|---|---|---|---|---|---|---|---|---|---|---|---|---|---|\n",
       "| 1 |   406 | -2.31222654 |  1.9519920 |  -1.6098507 |  3.997906 | -0.52218787 | -1.4265453 |  -2.53738731 |  1.39165725 | -2.7700893 | ... |  0.5172324 | -0.035049369 | -0.465211076 |  0.32019820 |  0.04451917 |  0.17783980 |  0.26114500 | -0.14327587 |    0.00 | yes |\n",
       "| 2 |   472 | -3.04354062 | -3.1573071 |   1.0884628 |  2.288644 |  1.35980513 | -1.0648225 |   0.32557427 | -0.06779365 | -0.2709528 | ... |  0.6616959 |  0.435477209 |  1.375965743 | -0.29380315 |  0.27979803 | -0.14536172 | -0.25277312 |  0.03576422 |  529.00 | yes |\n",
       "| 5 |  7519 |  1.23423505 |  3.0197404 |  -4.3045969 |  4.732795 |  3.62420083 | -1.3577457 |   1.71344499 | -0.49635849 | -1.2828578 | ... | -0.3790683 | -0.704181032 | -0.656804756 | -1.63265296 |  1.48890145 |  0.56679727 | -0.01001622 |  0.14679274 |    1.00 | yes |\n",
       "| 7 |  7535 |  0.02677923 |  4.1324639 |  -6.5606000 |  6.348557 |  1.32966567 | -2.5134788 |  -1.68910220 |  0.30325280 | -3.1394091 | ... |  0.3705087 | -0.576752473 | -0.669605372 | -0.75990753 |  1.60505555 |  0.54067540 |  0.73704038 |  0.49669911 |    1.00 | yes |\n",
       "| 8 |  7543 |  0.32959433 |  3.7128893 |  -5.7759351 |  6.078266 |  1.66735901 | -2.4201684 |  -0.81289125 |  0.13308012 | -2.2143113 | ... |  0.1566172 | -0.652450441 | -0.551572219 | -0.71652163 |  1.41571662 |  0.55526474 |  0.53050739 |  0.40447405 |    1.00 | yes |\n",
       "| 9 |  7551 |  0.31645900 |  3.8090759 |  -5.6151590 |  6.047445 |  1.55402596 | -2.6513531 |  -0.74657927 |  0.05558631 | -2.6786785 | ... |  0.2088284 | -0.511746619 | -0.583813221 | -0.21984503 |  1.47475258 |  0.49119193 |  0.51886829 |  0.40252807 |    1.00 | yes |\n",
       "| 10 |  7610 |  0.72564574 |  2.3008944 |  -5.3299762 |  4.007683 | -1.73041059 | -1.7321926 |  -3.96859262 |  1.06372815 | -0.4860966 | ... |  0.5896691 |  0.109541319 |  0.601045277 | -0.36470028 | -1.84307769 |  0.35190930 |  0.59454998 |  0.09937224 |    1.00 | yes |\n",
       "| 11 |  7672 |  0.70270990 |  2.4264328 |  -5.2345133 |  4.416661 | -2.17080622 | -2.6675536 |  -3.87808845 |  0.91133712 | -0.1661990 | ... |  0.5511797 | -0.009802357 |  0.721698230 |  0.47324575 | -1.95930377 |  0.31947554 |  0.60048492 |  0.12930522 |    1.00 | yes |\n",
       "| 12 |  7740 |  1.02387387 |  2.0014853 |  -4.7697518 |  3.819195 | -1.27175423 | -1.7346624 |  -3.05924503 |  0.88980479 |  0.4153821 | ... |  0.3432826 | -0.054195664 |  0.709653952 | -0.37221587 | -2.03206837 |  0.36677760 |  0.39517067 |  0.02020554 |    1.00 | yes |\n",
       "| 13 |  7891 | -1.58550537 |  3.2615845 |  -4.1374220 |  2.357096 | -1.40504331 | -1.8794372 |  -3.51368687 |  1.51560675 | -1.2071664 | ... |  0.5015431 | -0.546868812 | -0.076583636 | -0.42555037 |  0.12364419 |  0.32198454 |  0.26402816 |  0.13281672 |    1.00 | yes |\n",
       "| 14 |  8090 | -1.78322884 |  3.4027937 |  -3.8227423 |  2.625368 | -1.97641541 | -2.7316890 |  -3.43055915 |  1.41320351 | -0.7769415 | ... |  0.4540319 | -0.577525824 |  0.045966538 |  0.46170002 |  0.04414616 |  0.30570443 |  0.53098099 |  0.24374560 |    1.00 | yes |\n",
       "| 15 |  8169 |  0.85732100 |  4.0939118 |  -7.4238936 |  7.380245 |  0.97336602 | -2.7307615 |  -1.49649706 |  0.54301517 | -2.3511902 | ... |  0.3750263 |  0.145399853 |  0.240603265 | -0.23464922 | -1.00488095 |  0.43583192 |  0.61832380 |  0.14846894 |    1.00 | yes |\n",
       "| 17 |  8415 | -0.25147096 |  4.3135233 |  -6.8914377 |  6.796797 |  0.61629650 | -2.9663265 |  -2.43665253 |  0.48932790 | -3.3716386 | ... |  0.5368921 | -0.546126024 | -0.605239548 | -0.26374346 |  1.53991583 |  0.52357370 |  0.89102469 |  0.57274067 |    1.00 | yes |\n",
       "| 18 |  8451 |  0.31459659 |  2.6606703 |  -5.9200374 |  4.522500 | -2.31502729 | -2.2783517 |  -4.68405394 |  1.20227026 | -0.6946955 | ... |  0.7433140 |  0.064038356 |  0.677841675 |  0.08300782 | -1.91103446 |  0.32218840 |  0.62086654 |  0.18503036 |    1.00 | yes |\n",
       "| 19 |  8528 |  0.44739555 |  2.4819539 |  -5.6608139 |  4.455923 | -2.44377975 | -2.1850403 |  -4.71614294 |  1.24980325 | -0.7183261 | ... |  0.7560526 |  0.140167769 |  0.665411101 |  0.13146379 | -1.90821741 |  0.33480760 |  0.74853428 |  0.17541379 |    1.00 | yes |\n",
       "| 20 |  8614 | -2.16992898 |  3.6396540 |  -4.5084978 |  2.730668 | -2.12269287 | -2.3410168 |  -4.23525308 |  1.70353766 | -1.3052791 | ... |  0.6451033 | -0.503529449 | -0.000522822 |  0.07169578 |  0.09200743 |  0.30849793 |  0.55259092 |  0.29895448 |    1.00 | yes |\n",
       "| 21 |  8757 | -1.86375555 |  3.4426440 |  -4.4682597 |  2.805336 | -2.11841248 | -2.3322849 |  -4.26123720 |  1.70168184 | -1.4393959 | ... |  0.6679266 | -0.516242362 | -0.012217812 |  0.07061370 |  0.05850447 |  0.30488284 |  0.41801247 |  0.20885828 |    1.00 | yes |\n",
       "| 22 |  8808 | -4.61721720 |  1.6956937 |  -3.1143722 |  4.328199 | -1.87325699 | -0.9899081 |  -4.57726463 |  0.47221616 |  0.4720170 | ... |  0.4818297 |  0.146023056 |  0.117038528 | -0.21756460 | -0.13877604 | -0.42445288 | -1.00204143 |  0.89078029 |    1.10 | yes |\n",
       "| 23 |  8878 | -2.66180218 |  5.8563932 |  -7.6536162 |  6.379742 | -0.06071212 | -3.1315497 |  -3.10356975 |  1.77849157 | -3.8311537 | ... |  0.7347750 | -0.435901182 | -0.384765904 | -0.28601566 |  1.00793382 |  0.41319553 |  0.28028416 |  0.30393655 |    1.00 | yes |\n",
       "| 25 |  9064 | -3.49910754 |  0.2585552 |  -4.4895581 |  4.853894 | -6.97452154 |  3.6283821 |   5.43127092 | -1.94673371 | -0.7756801 | ... | -1.0523683 |  0.204816874 | -2.119007440 |  0.17027861 | -0.39384412 |  0.29636719 |  1.98591322 | -0.90045164 | 1809.68 | yes |\n",
       "| 26 | 11080 | -2.12548983 |  5.9735557 | -11.0347272 |  9.007147 | -1.68945053 | -2.8544153 |  -7.81044075 |  2.03086995 | -5.9028281 | ... |  1.6465183 | -0.278484511 | -0.664841294 | -1.16455537 |  1.70179641 |  0.69080562 |  2.11974873 |  1.10893340 |    1.00 | yes |\n",
       "| 28 | 11131 | -1.42662331 |  4.1419862 |  -9.8041034 |  6.666273 | -4.74952679 | -2.0731290 | -10.08993116 |  2.79134530 | -3.2495156 | ... |  1.8656788 |  0.407809282 |  0.605809354 | -0.76934812 | -1.74633683 |  0.50203952 |  1.97725833 |  0.71160653 |    1.00 | yes |\n",
       "| 32 | 12095 | -4.72771266 |  3.0444691 |  -5.5983543 |  5.928191 | -2.19076973 | -1.5293230 |  -4.48742196 |  0.91639181 | -1.3070104 | ... |  0.6509882 |  0.254983289 |  0.628843469 | -0.23812845 | -0.67133233 | -0.03359006 | -1.33177732 |  0.70569759 |   30.39 | yes |\n",
       "| 33 | 12393 | -4.06400474 |  3.1009349 |  -1.1884980 |  3.264633 | -1.90356236 |  0.3203506 |  -0.95494004 | -3.27753492 |  2.8208287 | ... |  1.6886654 | -0.078844698 |  0.193730927 |  0.47949595 | -0.50660306 | -0.40986274 | -3.03627133 | -0.63060520 |  179.66 | yes |\n",
       "| 34 | 12597 | -2.58961720 |  7.0167144 | -13.7054073 | 10.343228 | -2.95446104 | -3.0551158 |  -9.30128862 |  3.34957336 | -5.6542120 | ... |  1.8877377 |  0.333998185 |  0.287659041 | -1.18640641 | -0.69027267 |  0.63170377 |  1.93422076 |  0.78968717 |    1.00 | yes |\n",
       "| 35 | 13126 | -2.88004235 |  5.2254423 | -11.0633303 |  6.689951 | -5.75992399 | -2.2440308 | -11.19997522 |  4.01472181 | -3.4293043 | ... |  2.0028829 |  0.351102065 |  0.795255140 | -0.77837938 | -1.64681511 |  0.48753882 |  1.42771310 |  0.58317249 |    1.00 | yes |\n",
       "| 37 | 14073 | -4.15301450 |  8.2047965 | -15.0317142 | 10.330100 | -3.99442610 | -3.2500132 | -10.41569781 |  4.62080391 | -5.7112480 | ... |  1.9769884 |  0.256510487 |  0.485908107 | -1.19882131 | -0.52656740 |  0.63487350 |  1.62720908 |  0.72323507 |    1.00 | yes |\n",
       "| 38 | 14152 | -4.71052878 |  8.6362144 | -15.4962220 | 10.313349 | -4.35134098 | -3.3226887 | -10.78837284 |  5.06038112 | -5.6893112 | ... |  1.9905454 |  0.223785003 |  0.554408429 | -1.20404160 | -0.45068460 |  0.64183606 |  1.60595763 |  0.72164361 |    1.00 | yes |\n",
       "| 39 | 15817 | -4.64189285 |  2.9020864 |  -1.5729387 |  2.507299 | -0.87178256 | -1.0409026 |  -1.59390074 | -3.25490509 |  1.9089627 | ... |  1.9635967 | -0.217413916 | -0.549339956 |  0.64554520 | -0.35455782 | -0.61176385 | -3.90808048 | -0.67124827 |   11.39 | yes |\n",
       "| 40 | 17187 |  1.08837494 |  0.8984740 |   0.3946843 |  3.170258 |  0.17573880 | -0.2219809 |  -0.02298873 | -0.01087354 |  0.8600436 | ... | -0.4235539 | -0.800852285 |  0.077614455 |  0.16760845 |  0.35018182 | -0.11894093 |  0.01294777 |  0.05425427 |    3.79 | yes |\n",
       "| ... | ... | ... | ... | ... | ... | ... | ... | ... | ... | ... | <!----> | ... | ... | ... | ... | ... | ... | ... | ... | ... | ... |\n",
       "| 49650 | 153633 |   2.13864714 | -1.4578024 | -0.2176373 | -0.961502126 | -1.050824992 |  1.23969550 | -1.89768541 |  0.530594365 |  0.99944111 | ... |  0.105560681 |  0.509421147 |  0.15720549 | -0.35645692 | -0.27033557 | -0.16957665 |  0.048119498 | -0.054246506 |    2.00 | no |\n",
       "| 49652 |  55739 |   1.26082771 | -1.1179751 |  0.7732977 | -2.167475334 | -1.686632836 | -0.47300501 | -1.14211101 |  0.186283662 |  0.44594216 | ... | -0.261858919 | -0.266929506 |  0.13169936 |  0.18601774 |  0.02023871 | -0.07034652 |  0.060409383 |  0.020612565 |   24.30 | no |\n",
       "| 49653 |  48233 |   1.16814707 | -0.7873766 |  1.7453255 |  1.128223760 | -1.702523955 |  0.51841643 | -1.23939993 |  0.208084411 |  0.40820118 | ... | -0.469771343 | -0.378405024 | -0.01880983 |  0.41965437 |  0.46655833 | -0.28324939 |  0.132418572 |  0.048379947 |   30.00 | no |\n",
       "| 49654 |  12119 |  -7.26794629 |  3.9225915 | -2.7353520 | -3.003616177 |  0.830614072 |  4.30690419 | -2.00232850 | -4.906855300 |  4.98177383 | ... |  0.846113587 | -0.666472794 |  0.28507358 |  0.92466827 |  0.76621763 |  0.84049146 | -0.007059049 | -0.266638703 |   50.00 | no |\n",
       "| 49655 | 149438 |  -1.15982924 | -5.4963114 | -2.0646488 |  1.634686560 | -2.285163927 |  0.15414821 |  1.49332356 | -0.358192846 |  0.81072322 | ... |  1.248269426 |  0.102806862 | -1.26528801 |  0.11317045 | -0.78752079 | -0.43451224 | -0.269436338 |  0.232848878 | 1609.65 | no |\n",
       "| 49656 |  94037 |   2.05913021 |  0.2292687 | -2.4027605 |  1.028489475 |  1.364404008 | -0.19689597 |  0.56997667 | -0.269576403 |  1.08866779 | ... |  0.003828619 |  0.177561523 | -0.16565849 | -0.38545033 |  0.60787906 | -0.44293333 | -0.089473858 | -0.084165739 |   36.00 | no |\n",
       "| 49657 | 147861 | -11.25902341 |  6.0140246 | -6.6288899 |  0.827752534 | -5.457141587 | -0.40160016 | -5.30779811 |  6.228680309 |  0.10532153 | ... |  0.335787887 | -1.396907268 |  0.87506344 |  0.52771616 | -0.24449903 | -1.52158453 | -6.095003831 | -0.913046174 |   23.89 | no |\n",
       "| 49659 | 126071 |   2.28133356 | -1.3521490 | -1.0586022 | -1.680747946 | -1.059093404 | -0.49760542 | -1.06040467 | -0.160784222 | -1.52044509 | ... | -0.140906970 |  0.100090128 |  0.14951161 | -0.49872166 | -0.12371499 | -0.15263437 |  0.006043716 | -0.064626323 |   20.00 | no |\n",
       "| 49661 | 134318 |  -0.06831965 |  0.1298016 | -1.4986862 | -2.568798546 |  0.146846128 | -0.64150074 |  0.89149678 |  0.323455240 |  0.77163706 | ... |  0.096310682 | -0.006167675 |  0.33284018 |  0.15231828 | -0.59008379 | -0.50112733 | -0.072858533 |  0.023985745 |  120.49 | no |\n",
       "| 49662 |  74191 |  -3.75662473 |  0.7069459 | -0.8866443 | -0.157640734 | -3.453654718 | -0.06494550 | -0.38589288 |  1.919736911 |  0.41780370 | ... | -0.079155723 | -0.173890775 |  0.33546387 |  0.49668863 | -0.75405760 |  0.64095035 | -0.167415320 | -0.463097538 |  245.58 | no |\n",
       "| 49663 |  78417 |   1.13204091 | -0.5553952 |  0.7886766 |  0.028412178 | -0.909375293 |  0.20576632 | -0.78556092 |  0.242748625 |  0.80760075 | ... |  0.099227977 |  0.259289307 | -0.15987899 | -0.27104652 |  0.23013627 |  1.13070718 | -0.054836906 |  0.005232232 |   57.50 | no |\n",
       "| 49664 |  50705 |   0.78424742 | -1.0980289 |  0.2141179 | -0.581364265 | -1.073656243 | -0.51505243 | -0.11046243 | -0.008120341 |  1.72146234 | ... |  0.149541450 |  0.148581271 | -0.26052363 |  0.07962882 |  0.48341449 | -0.61677551 |  0.038748636 |  0.060512937 |  230.97 | no |\n",
       "| 49665 |  35357 |   0.99358087 | -0.1724184 |  1.3593420 |  1.366763275 | -0.829358240 |  0.51725782 | -0.67789220 |  0.345964847 |  0.50818946 | ... |  0.049650117 |  0.290200042 |  0.01207178 |  0.22909556 |  0.27612813 | -0.39708652 |  0.080361528 |  0.032306368 |   37.70 | no |\n",
       "| 49666 | 115821 |   0.13640213 | -1.1197699 |  0.2552953 | -3.646416849 |  1.681210994 |  3.96971259 | -1.01707219 |  0.610109727 | -1.40992980 | ... |  0.045179553 |  0.837285907 | -0.29557127 |  0.71717465 | -0.10916616 | -0.01025753 | -0.338317344 | -0.431737561 |    4.22 | no |\n",
       "| 49669 | 118261 |  -0.55972084 |  1.2899864 | -0.1002479 | -0.701588473 |  0.105090654 | -0.91513154 |  0.56998271 |  0.345105663 | -0.36110484 | ... | -0.185710298 | -0.434639815 |  0.12504840 |  0.07906838 | -0.44060151 |  0.12049292 |  0.227335964 |  0.086815186 |    1.98 | no |\n",
       "| 49672 | 161836 |  -1.01541520 |  0.3960299 |  2.0675021 | -1.133480343 |  0.515307016 |  0.17435417 |  0.24741819 |  0.287084649 |  0.03516315 | ... |  0.268028714 |  0.746850939 | -0.45861072 |  0.80066825 |  0.79278517 | -0.23186386 |  0.036079156 |  0.062311483 |    9.99 | no |\n",
       "| 49673 | 120313 |  -1.61151538 |  0.1201329 |  1.5628727 |  0.298314108 | -0.235515098 | -0.43151326 | -0.28720683 |  0.498691462 |  0.20400439 | ... |  0.299546109 |  0.809447182 | -0.25091151 |  0.02401262 |  0.64302686 |  0.13473775 | -0.136974683 | -0.022183055 |   32.89 | no |\n",
       "| 49674 |  85307 |   1.11115514 |  0.4008422 |  0.8767840 |  2.562013738 | -0.388258565 | -0.18260231 | -0.08553977 |  0.126685454 | -0.60395115 | ... | -0.174941371 | -0.541128116 |  0.08624431 |  0.47613041 |  0.31887186 | -0.17487764 | -0.012075961 |  0.014164872 |    5.41 | no |\n",
       "| 49675 |  57140 |  -0.36025075 |  0.4278836 |  0.6481319 |  2.854582270 |  1.418611194 | -0.59625333 |  0.43839016 | -0.120135745 | -1.35097964 | ... |  0.173116863 |  0.535072925 |  0.14111886 | -0.02641585 | -1.02967926 |  0.07652538 |  0.284885075 |  0.086793307 |   12.13 | no |\n",
       "| 49676 | 162849 |   0.21881788 |  0.4237271 | -0.9900458 | -0.070984301 |  1.318903418 | -0.91750305 |  0.89279042 | -0.325981729 | -0.40739006 | ... |  0.257088897 |  1.009105188 |  0.08057340 | -0.29637606 | -1.84411096 |  0.33093214 |  0.240561329 |  0.305539617 |   12.95 | no |\n",
       "| 49677 | 165024 |   0.38202426 | -4.0144154 | -2.2852323 |  0.133510822 | -1.608711544 | -0.26651765 |  0.61045572 | -0.448538953 |  0.18276549 | ... |  1.001424828 |  1.063626767 | -1.02643674 | -0.26713711 |  0.14970573 |  0.22268350 | -0.192919002 |  0.087538687 |  956.31 | no |\n",
       "| 49678 |  71242 |   1.40919484 | -1.0665598 |  0.5265116 | -1.273912961 | -1.559178394 | -0.74360434 | -0.95729586 | -0.133220949 | -1.85687348 | ... | -0.152735892 | -0.069530814 |  0.08576495 |  0.37510706 |  0.25855470 | -0.19875150 |  0.041861360 |  0.024576538 |   36.39 | no |\n",
       "| 49682 | 152806 |  -0.73611994 | -0.1817158 |  1.5409861 | -3.453554318 | -0.565205819 | -0.67612191 |  0.19955424 | -0.109750400 | -2.48758021 | ... | -0.105897989 | -0.015467392 | -0.43858753 |  0.05655519 |  0.74018096 | -0.25706304 | -0.127234497 |  0.019835257 |   20.00 | no |\n",
       "| 49683 |  62524 |  -1.91792391 | -0.1512524 |  1.0027831 |  1.621657159 |  0.514757644 |  0.50208292 | -0.83685601 | -2.364316936 | -0.69169743 | ... | -1.296503609 |  0.784130942 |  0.87203768 | -0.01671594 | -0.04421431 | -0.22753210 |  0.342523115 |  0.034825623 |   84.84 | no |\n",
       "| 49684 |  27883 |  -0.19546631 |  1.3180066 | -0.1501938 |  0.937095003 |  0.158548252 | -0.74705083 |  0.51336041 |  0.346224304 | -0.56996936 | ... |  0.192522486 |  0.644545609 |  0.10221863 |  0.06644752 | -0.78991221 | -0.38047100 |  0.326370157 |  0.163030340 |    0.89 | no |\n",
       "| 49686 |  68262 |  -1.05791806 |  1.3283417 |  2.1185766 |  0.718058295 | -0.344530405 |  0.09995318 |  0.10563926 |  0.411812497 | -0.31584310 | ... | -0.014731393 |  0.092131003 | -0.17913218 |  0.05594940 |  0.11901144 | -0.37053923 | -0.058055834 | -0.137683138 |    2.50 | no |\n",
       "| 49687 | 138217 |  -0.75267035 |  0.3750429 |  1.8162161 | -0.667050094 |  0.181250045 | -0.51714616 |  0.68830488 | -0.360454032 |  0.91042125 | ... |  0.077695312 |  0.885586586 | -0.31794087 |  0.10637849 | -0.06600045 |  0.57965081 |  0.114978557 | -0.141167409 |   32.30 | no |\n",
       "| 49690 |  65083 |  -2.74301511 | -3.8643478 |  1.2034485 | -0.608998393 |  3.730415133 | -3.08885139 | -1.92624255 | -0.059977727 | -0.89356214 | ... |  0.612837839 |  0.889010998 |  0.58232530 |  0.14040650 | -0.19920392 | -0.34071633 | -0.126776895 |  0.026456036 |   20.00 | no |\n",
       "| 49691 |  14492 |   1.01858394 | -0.2759122 |  0.7674317 | -0.003349824 |  0.008896668 |  1.51356468 | -0.89574816 |  0.559504173 |  1.50328869 | ... |  0.100861005 |  0.654582428 |  0.10355540 | -1.00956848 | -0.14728847 |  1.14362120 | -0.023483692 | -0.019945738 |   14.95 | no |\n",
       "| 49692 | 121384 |  -1.53628989 |  1.7579059 | -1.0014199 | -0.633174632 | -0.732239428 | -1.06628939 | -0.22118464 |  1.284403662 | -0.27505657 | ... | -0.152771032 | -0.611876994 |  0.23292544 |  0.03654382 | -0.39939027 |  0.13419162 |  0.092217138 | -0.005596181 |   17.98 | no |\n",
       "\n"
      ],
      "text/plain": [
       "      Time   V1           V2         V3          V4           V5          \n",
       "1       406  -2.31222654   1.9519920  -1.6098507  3.997906    -0.52218787 \n",
       "2       472  -3.04354062  -3.1573071   1.0884628  2.288644     1.35980513 \n",
       "5      7519   1.23423505   3.0197404  -4.3045969  4.732795     3.62420083 \n",
       "7      7535   0.02677923   4.1324639  -6.5606000  6.348557     1.32966567 \n",
       "8      7543   0.32959433   3.7128893  -5.7759351  6.078266     1.66735901 \n",
       "9      7551   0.31645900   3.8090759  -5.6151590  6.047445     1.55402596 \n",
       "10     7610   0.72564574   2.3008944  -5.3299762  4.007683    -1.73041059 \n",
       "11     7672   0.70270990   2.4264328  -5.2345133  4.416661    -2.17080622 \n",
       "12     7740   1.02387387   2.0014853  -4.7697518  3.819195    -1.27175423 \n",
       "13     7891  -1.58550537   3.2615845  -4.1374220  2.357096    -1.40504331 \n",
       "14     8090  -1.78322884   3.4027937  -3.8227423  2.625368    -1.97641541 \n",
       "15     8169   0.85732100   4.0939118  -7.4238936  7.380245     0.97336602 \n",
       "17     8415  -0.25147096   4.3135233  -6.8914377  6.796797     0.61629650 \n",
       "18     8451   0.31459659   2.6606703  -5.9200374  4.522500    -2.31502729 \n",
       "19     8528   0.44739555   2.4819539  -5.6608139  4.455923    -2.44377975 \n",
       "20     8614  -2.16992898   3.6396540  -4.5084978  2.730668    -2.12269287 \n",
       "21     8757  -1.86375555   3.4426440  -4.4682597  2.805336    -2.11841248 \n",
       "22     8808  -4.61721720   1.6956937  -3.1143722  4.328199    -1.87325699 \n",
       "23     8878  -2.66180218   5.8563932  -7.6536162  6.379742    -0.06071212 \n",
       "25     9064  -3.49910754   0.2585552  -4.4895581  4.853894    -6.97452154 \n",
       "26    11080  -2.12548983   5.9735557 -11.0347272  9.007147    -1.68945053 \n",
       "28    11131  -1.42662331   4.1419862  -9.8041034  6.666273    -4.74952679 \n",
       "32    12095  -4.72771266   3.0444691  -5.5983543  5.928191    -2.19076973 \n",
       "33    12393  -4.06400474   3.1009349  -1.1884980  3.264633    -1.90356236 \n",
       "34    12597  -2.58961720   7.0167144 -13.7054073 10.343228    -2.95446104 \n",
       "35    13126  -2.88004235   5.2254423 -11.0633303  6.689951    -5.75992399 \n",
       "37    14073  -4.15301450   8.2047965 -15.0317142 10.330100    -3.99442610 \n",
       "38    14152  -4.71052878   8.6362144 -15.4962220 10.313349    -4.35134098 \n",
       "39    15817  -4.64189285   2.9020864  -1.5729387  2.507299    -0.87178256 \n",
       "40    17187   1.08837494   0.8984740   0.3946843  3.170258     0.17573880 \n",
       "...   ...    ...          ...        ...         ...          ...         \n",
       "49650 153633   2.13864714 -1.4578024 -0.2176373  -0.961502126 -1.050824992\n",
       "49652  55739   1.26082771 -1.1179751  0.7732977  -2.167475334 -1.686632836\n",
       "49653  48233   1.16814707 -0.7873766  1.7453255   1.128223760 -1.702523955\n",
       "49654  12119  -7.26794629  3.9225915 -2.7353520  -3.003616177  0.830614072\n",
       "49655 149438  -1.15982924 -5.4963114 -2.0646488   1.634686560 -2.285163927\n",
       "49656  94037   2.05913021  0.2292687 -2.4027605   1.028489475  1.364404008\n",
       "49657 147861 -11.25902341  6.0140246 -6.6288899   0.827752534 -5.457141587\n",
       "49659 126071   2.28133356 -1.3521490 -1.0586022  -1.680747946 -1.059093404\n",
       "49661 134318  -0.06831965  0.1298016 -1.4986862  -2.568798546  0.146846128\n",
       "49662  74191  -3.75662473  0.7069459 -0.8866443  -0.157640734 -3.453654718\n",
       "49663  78417   1.13204091 -0.5553952  0.7886766   0.028412178 -0.909375293\n",
       "49664  50705   0.78424742 -1.0980289  0.2141179  -0.581364265 -1.073656243\n",
       "49665  35357   0.99358087 -0.1724184  1.3593420   1.366763275 -0.829358240\n",
       "49666 115821   0.13640213 -1.1197699  0.2552953  -3.646416849  1.681210994\n",
       "49669 118261  -0.55972084  1.2899864 -0.1002479  -0.701588473  0.105090654\n",
       "49672 161836  -1.01541520  0.3960299  2.0675021  -1.133480343  0.515307016\n",
       "49673 120313  -1.61151538  0.1201329  1.5628727   0.298314108 -0.235515098\n",
       "49674  85307   1.11115514  0.4008422  0.8767840   2.562013738 -0.388258565\n",
       "49675  57140  -0.36025075  0.4278836  0.6481319   2.854582270  1.418611194\n",
       "49676 162849   0.21881788  0.4237271 -0.9900458  -0.070984301  1.318903418\n",
       "49677 165024   0.38202426 -4.0144154 -2.2852323   0.133510822 -1.608711544\n",
       "49678  71242   1.40919484 -1.0665598  0.5265116  -1.273912961 -1.559178394\n",
       "49682 152806  -0.73611994 -0.1817158  1.5409861  -3.453554318 -0.565205819\n",
       "49683  62524  -1.91792391 -0.1512524  1.0027831   1.621657159  0.514757644\n",
       "49684  27883  -0.19546631  1.3180066 -0.1501938   0.937095003  0.158548252\n",
       "49686  68262  -1.05791806  1.3283417  2.1185766   0.718058295 -0.344530405\n",
       "49687 138217  -0.75267035  0.3750429  1.8162161  -0.667050094  0.181250045\n",
       "49690  65083  -2.74301511 -3.8643478  1.2034485  -0.608998393  3.730415133\n",
       "49691  14492   1.01858394 -0.2759122  0.7674317  -0.003349824  0.008896668\n",
       "49692 121384  -1.53628989  1.7579059 -1.0014199  -0.633174632 -0.732239428\n",
       "      V6          V7           V8           V9          ... V21         \n",
       "1     -1.4265453   -2.53738731  1.39165725  -2.7700893  ...  0.5172324  \n",
       "2     -1.0648225    0.32557427 -0.06779365  -0.2709528  ...  0.6616959  \n",
       "5     -1.3577457    1.71344499 -0.49635849  -1.2828578  ... -0.3790683  \n",
       "7     -2.5134788   -1.68910220  0.30325280  -3.1394091  ...  0.3705087  \n",
       "8     -2.4201684   -0.81289125  0.13308012  -2.2143113  ...  0.1566172  \n",
       "9     -2.6513531   -0.74657927  0.05558631  -2.6786785  ...  0.2088284  \n",
       "10    -1.7321926   -3.96859262  1.06372815  -0.4860966  ...  0.5896691  \n",
       "11    -2.6675536   -3.87808845  0.91133712  -0.1661990  ...  0.5511797  \n",
       "12    -1.7346624   -3.05924503  0.88980479   0.4153821  ...  0.3432826  \n",
       "13    -1.8794372   -3.51368687  1.51560675  -1.2071664  ...  0.5015431  \n",
       "14    -2.7316890   -3.43055915  1.41320351  -0.7769415  ...  0.4540319  \n",
       "15    -2.7307615   -1.49649706  0.54301517  -2.3511902  ...  0.3750263  \n",
       "17    -2.9663265   -2.43665253  0.48932790  -3.3716386  ...  0.5368921  \n",
       "18    -2.2783517   -4.68405394  1.20227026  -0.6946955  ...  0.7433140  \n",
       "19    -2.1850403   -4.71614294  1.24980325  -0.7183261  ...  0.7560526  \n",
       "20    -2.3410168   -4.23525308  1.70353766  -1.3052791  ...  0.6451033  \n",
       "21    -2.3322849   -4.26123720  1.70168184  -1.4393959  ...  0.6679266  \n",
       "22    -0.9899081   -4.57726463  0.47221616   0.4720170  ...  0.4818297  \n",
       "23    -3.1315497   -3.10356975  1.77849157  -3.8311537  ...  0.7347750  \n",
       "25     3.6283821    5.43127092 -1.94673371  -0.7756801  ... -1.0523683  \n",
       "26    -2.8544153   -7.81044075  2.03086995  -5.9028281  ...  1.6465183  \n",
       "28    -2.0731290  -10.08993116  2.79134530  -3.2495156  ...  1.8656788  \n",
       "32    -1.5293230   -4.48742196  0.91639181  -1.3070104  ...  0.6509882  \n",
       "33     0.3203506   -0.95494004 -3.27753492   2.8208287  ...  1.6886654  \n",
       "34    -3.0551158   -9.30128862  3.34957336  -5.6542120  ...  1.8877377  \n",
       "35    -2.2440308  -11.19997522  4.01472181  -3.4293043  ...  2.0028829  \n",
       "37    -3.2500132  -10.41569781  4.62080391  -5.7112480  ...  1.9769884  \n",
       "38    -3.3226887  -10.78837284  5.06038112  -5.6893112  ...  1.9905454  \n",
       "39    -1.0409026   -1.59390074 -3.25490509   1.9089627  ...  1.9635967  \n",
       "40    -0.2219809   -0.02298873 -0.01087354   0.8600436  ... -0.4235539  \n",
       "...   ...         ...          ...          ...             ...         \n",
       "49650  1.23969550 -1.89768541   0.530594365  0.99944111 ...  0.105560681\n",
       "49652 -0.47300501 -1.14211101   0.186283662  0.44594216 ... -0.261858919\n",
       "49653  0.51841643 -1.23939993   0.208084411  0.40820118 ... -0.469771343\n",
       "49654  4.30690419 -2.00232850  -4.906855300  4.98177383 ...  0.846113587\n",
       "49655  0.15414821  1.49332356  -0.358192846  0.81072322 ...  1.248269426\n",
       "49656 -0.19689597  0.56997667  -0.269576403  1.08866779 ...  0.003828619\n",
       "49657 -0.40160016 -5.30779811   6.228680309  0.10532153 ...  0.335787887\n",
       "49659 -0.49760542 -1.06040467  -0.160784222 -1.52044509 ... -0.140906970\n",
       "49661 -0.64150074  0.89149678   0.323455240  0.77163706 ...  0.096310682\n",
       "49662 -0.06494550 -0.38589288   1.919736911  0.41780370 ... -0.079155723\n",
       "49663  0.20576632 -0.78556092   0.242748625  0.80760075 ...  0.099227977\n",
       "49664 -0.51505243 -0.11046243  -0.008120341  1.72146234 ...  0.149541450\n",
       "49665  0.51725782 -0.67789220   0.345964847  0.50818946 ...  0.049650117\n",
       "49666  3.96971259 -1.01707219   0.610109727 -1.40992980 ...  0.045179553\n",
       "49669 -0.91513154  0.56998271   0.345105663 -0.36110484 ... -0.185710298\n",
       "49672  0.17435417  0.24741819   0.287084649  0.03516315 ...  0.268028714\n",
       "49673 -0.43151326 -0.28720683   0.498691462  0.20400439 ...  0.299546109\n",
       "49674 -0.18260231 -0.08553977   0.126685454 -0.60395115 ... -0.174941371\n",
       "49675 -0.59625333  0.43839016  -0.120135745 -1.35097964 ...  0.173116863\n",
       "49676 -0.91750305  0.89279042  -0.325981729 -0.40739006 ...  0.257088897\n",
       "49677 -0.26651765  0.61045572  -0.448538953  0.18276549 ...  1.001424828\n",
       "49678 -0.74360434 -0.95729586  -0.133220949 -1.85687348 ... -0.152735892\n",
       "49682 -0.67612191  0.19955424  -0.109750400 -2.48758021 ... -0.105897989\n",
       "49683  0.50208292 -0.83685601  -2.364316936 -0.69169743 ... -1.296503609\n",
       "49684 -0.74705083  0.51336041   0.346224304 -0.56996936 ...  0.192522486\n",
       "49686  0.09995318  0.10563926   0.411812497 -0.31584310 ... -0.014731393\n",
       "49687 -0.51714616  0.68830488  -0.360454032  0.91042125 ...  0.077695312\n",
       "49690 -3.08885139 -1.92624255  -0.059977727 -0.89356214 ...  0.612837839\n",
       "49691  1.51356468 -0.89574816   0.559504173  1.50328869 ...  0.100861005\n",
       "49692 -1.06628939 -0.22118464   1.284403662 -0.27505657 ... -0.152771032\n",
       "      V22          V23          V24         V25         V26        \n",
       "1     -0.035049369 -0.465211076  0.32019820  0.04451917  0.17783980\n",
       "2      0.435477209  1.375965743 -0.29380315  0.27979803 -0.14536172\n",
       "5     -0.704181032 -0.656804756 -1.63265296  1.48890145  0.56679727\n",
       "7     -0.576752473 -0.669605372 -0.75990753  1.60505555  0.54067540\n",
       "8     -0.652450441 -0.551572219 -0.71652163  1.41571662  0.55526474\n",
       "9     -0.511746619 -0.583813221 -0.21984503  1.47475258  0.49119193\n",
       "10     0.109541319  0.601045277 -0.36470028 -1.84307769  0.35190930\n",
       "11    -0.009802357  0.721698230  0.47324575 -1.95930377  0.31947554\n",
       "12    -0.054195664  0.709653952 -0.37221587 -2.03206837  0.36677760\n",
       "13    -0.546868812 -0.076583636 -0.42555037  0.12364419  0.32198454\n",
       "14    -0.577525824  0.045966538  0.46170002  0.04414616  0.30570443\n",
       "15     0.145399853  0.240603265 -0.23464922 -1.00488095  0.43583192\n",
       "17    -0.546126024 -0.605239548 -0.26374346  1.53991583  0.52357370\n",
       "18     0.064038356  0.677841675  0.08300782 -1.91103446  0.32218840\n",
       "19     0.140167769  0.665411101  0.13146379 -1.90821741  0.33480760\n",
       "20    -0.503529449 -0.000522822  0.07169578  0.09200743  0.30849793\n",
       "21    -0.516242362 -0.012217812  0.07061370  0.05850447  0.30488284\n",
       "22     0.146023056  0.117038528 -0.21756460 -0.13877604 -0.42445288\n",
       "23    -0.435901182 -0.384765904 -0.28601566  1.00793382  0.41319553\n",
       "25     0.204816874 -2.119007440  0.17027861 -0.39384412  0.29636719\n",
       "26    -0.278484511 -0.664841294 -1.16455537  1.70179641  0.69080562\n",
       "28     0.407809282  0.605809354 -0.76934812 -1.74633683  0.50203952\n",
       "32     0.254983289  0.628843469 -0.23812845 -0.67133233 -0.03359006\n",
       "33    -0.078844698  0.193730927  0.47949595 -0.50660306 -0.40986274\n",
       "34     0.333998185  0.287659041 -1.18640641 -0.69027267  0.63170377\n",
       "35     0.351102065  0.795255140 -0.77837938 -1.64681511  0.48753882\n",
       "37     0.256510487  0.485908107 -1.19882131 -0.52656740  0.63487350\n",
       "38     0.223785003  0.554408429 -1.20404160 -0.45068460  0.64183606\n",
       "39    -0.217413916 -0.549339956  0.64554520 -0.35455782 -0.61176385\n",
       "40    -0.800852285  0.077614455  0.16760845  0.35018182 -0.11894093\n",
       "...   ...          ...          ...         ...         ...        \n",
       "49650  0.509421147  0.15720549  -0.35645692 -0.27033557 -0.16957665\n",
       "49652 -0.266929506  0.13169936   0.18601774  0.02023871 -0.07034652\n",
       "49653 -0.378405024 -0.01880983   0.41965437  0.46655833 -0.28324939\n",
       "49654 -0.666472794  0.28507358   0.92466827  0.76621763  0.84049146\n",
       "49655  0.102806862 -1.26528801   0.11317045 -0.78752079 -0.43451224\n",
       "49656  0.177561523 -0.16565849  -0.38545033  0.60787906 -0.44293333\n",
       "49657 -1.396907268  0.87506344   0.52771616 -0.24449903 -1.52158453\n",
       "49659  0.100090128  0.14951161  -0.49872166 -0.12371499 -0.15263437\n",
       "49661 -0.006167675  0.33284018   0.15231828 -0.59008379 -0.50112733\n",
       "49662 -0.173890775  0.33546387   0.49668863 -0.75405760  0.64095035\n",
       "49663  0.259289307 -0.15987899  -0.27104652  0.23013627  1.13070718\n",
       "49664  0.148581271 -0.26052363   0.07962882  0.48341449 -0.61677551\n",
       "49665  0.290200042  0.01207178   0.22909556  0.27612813 -0.39708652\n",
       "49666  0.837285907 -0.29557127   0.71717465 -0.10916616 -0.01025753\n",
       "49669 -0.434639815  0.12504840   0.07906838 -0.44060151  0.12049292\n",
       "49672  0.746850939 -0.45861072   0.80066825  0.79278517 -0.23186386\n",
       "49673  0.809447182 -0.25091151   0.02401262  0.64302686  0.13473775\n",
       "49674 -0.541128116  0.08624431   0.47613041  0.31887186 -0.17487764\n",
       "49675  0.535072925  0.14111886  -0.02641585 -1.02967926  0.07652538\n",
       "49676  1.009105188  0.08057340  -0.29637606 -1.84411096  0.33093214\n",
       "49677  1.063626767 -1.02643674  -0.26713711  0.14970573  0.22268350\n",
       "49678 -0.069530814  0.08576495   0.37510706  0.25855470 -0.19875150\n",
       "49682 -0.015467392 -0.43858753   0.05655519  0.74018096 -0.25706304\n",
       "49683  0.784130942  0.87203768  -0.01671594 -0.04421431 -0.22753210\n",
       "49684  0.644545609  0.10221863   0.06644752 -0.78991221 -0.38047100\n",
       "49686  0.092131003 -0.17913218   0.05594940  0.11901144 -0.37053923\n",
       "49687  0.885586586 -0.31794087   0.10637849 -0.06600045  0.57965081\n",
       "49690  0.889010998  0.58232530   0.14040650 -0.19920392 -0.34071633\n",
       "49691  0.654582428  0.10355540  -1.00956848 -0.14728847  1.14362120\n",
       "49692 -0.611876994  0.23292544   0.03654382 -0.39939027  0.13419162\n",
       "      V27          V28          Amount  class\n",
       "1      0.26114500  -0.14327587     0.00 yes  \n",
       "2     -0.25277312   0.03576422   529.00 yes  \n",
       "5     -0.01001622   0.14679274     1.00 yes  \n",
       "7      0.73704038   0.49669911     1.00 yes  \n",
       "8      0.53050739   0.40447405     1.00 yes  \n",
       "9      0.51886829   0.40252807     1.00 yes  \n",
       "10     0.59454998   0.09937224     1.00 yes  \n",
       "11     0.60048492   0.12930522     1.00 yes  \n",
       "12     0.39517067   0.02020554     1.00 yes  \n",
       "13     0.26402816   0.13281672     1.00 yes  \n",
       "14     0.53098099   0.24374560     1.00 yes  \n",
       "15     0.61832380   0.14846894     1.00 yes  \n",
       "17     0.89102469   0.57274067     1.00 yes  \n",
       "18     0.62086654   0.18503036     1.00 yes  \n",
       "19     0.74853428   0.17541379     1.00 yes  \n",
       "20     0.55259092   0.29895448     1.00 yes  \n",
       "21     0.41801247   0.20885828     1.00 yes  \n",
       "22    -1.00204143   0.89078029     1.10 yes  \n",
       "23     0.28028416   0.30393655     1.00 yes  \n",
       "25     1.98591322  -0.90045164  1809.68 yes  \n",
       "26     2.11974873   1.10893340     1.00 yes  \n",
       "28     1.97725833   0.71160653     1.00 yes  \n",
       "32    -1.33177732   0.70569759    30.39 yes  \n",
       "33    -3.03627133  -0.63060520   179.66 yes  \n",
       "34     1.93422076   0.78968717     1.00 yes  \n",
       "35     1.42771310   0.58317249     1.00 yes  \n",
       "37     1.62720908   0.72323507     1.00 yes  \n",
       "38     1.60595763   0.72164361     1.00 yes  \n",
       "39    -3.90808048  -0.67124827    11.39 yes  \n",
       "40     0.01294777   0.05425427     3.79 yes  \n",
       "...   ...          ...          ...     ...  \n",
       "49650  0.048119498 -0.054246506    2.00 no   \n",
       "49652  0.060409383  0.020612565   24.30 no   \n",
       "49653  0.132418572  0.048379947   30.00 no   \n",
       "49654 -0.007059049 -0.266638703   50.00 no   \n",
       "49655 -0.269436338  0.232848878 1609.65 no   \n",
       "49656 -0.089473858 -0.084165739   36.00 no   \n",
       "49657 -6.095003831 -0.913046174   23.89 no   \n",
       "49659  0.006043716 -0.064626323   20.00 no   \n",
       "49661 -0.072858533  0.023985745  120.49 no   \n",
       "49662 -0.167415320 -0.463097538  245.58 no   \n",
       "49663 -0.054836906  0.005232232   57.50 no   \n",
       "49664  0.038748636  0.060512937  230.97 no   \n",
       "49665  0.080361528  0.032306368   37.70 no   \n",
       "49666 -0.338317344 -0.431737561    4.22 no   \n",
       "49669  0.227335964  0.086815186    1.98 no   \n",
       "49672  0.036079156  0.062311483    9.99 no   \n",
       "49673 -0.136974683 -0.022183055   32.89 no   \n",
       "49674 -0.012075961  0.014164872    5.41 no   \n",
       "49675  0.284885075  0.086793307   12.13 no   \n",
       "49676  0.240561329  0.305539617   12.95 no   \n",
       "49677 -0.192919002  0.087538687  956.31 no   \n",
       "49678  0.041861360  0.024576538   36.39 no   \n",
       "49682 -0.127234497  0.019835257   20.00 no   \n",
       "49683  0.342523115  0.034825623   84.84 no   \n",
       "49684  0.326370157  0.163030340    0.89 no   \n",
       "49686 -0.058055834 -0.137683138    2.50 no   \n",
       "49687  0.114978557 -0.141167409   32.30 no   \n",
       "49690 -0.126776895  0.026456036   20.00 no   \n",
       "49691 -0.023483692 -0.019945738   14.95 no   \n",
       "49692  0.092217138 -0.005596181   17.98 no   "
      ]
     },
     "metadata": {},
     "output_type": "display_data"
    }
   ],
   "source": [
    "# The training dataset ( original unbalanced dataset)\n",
    "\n",
    "\n",
    "train_original <- data[train,]\n",
    "train_original"
   ]
  },
  {
   "cell_type": "code",
   "execution_count": 13,
   "id": "142e2a2b-9574-415b-b97a-e5850c0585c1",
   "metadata": {},
   "outputs": [],
   "source": [
    "# The unbiased validation set\n",
    "\n",
    "test <- data[-train,]\n",
    "# test"
   ]
  },
  {
   "cell_type": "markdown",
   "id": "10a7ef90-78b7-4b88-b581-245ea2a6c064",
   "metadata": {},
   "source": [
    "#### The proportion of observations allocated to each group (70-30)"
   ]
  },
  {
   "cell_type": "code",
   "execution_count": 14,
   "id": "a77fc1d7-42da-4564-948a-33094045d8f3",
   "metadata": {},
   "outputs": [
    {
     "data": {
      "text/html": [
       "<style>\n",
       ".list-inline {list-style: none; margin:0; padding: 0}\n",
       ".list-inline>li {display: inline-block}\n",
       ".list-inline>li:not(:last-child)::after {content: \"\\00b7\"; padding: 0 .5ex}\n",
       "</style>\n",
       "<ol class=list-inline><li>0.700012074378169</li><li>1</li></ol>\n"
      ],
      "text/latex": [
       "\\begin{enumerate*}\n",
       "\\item 0.700012074378169\n",
       "\\item 1\n",
       "\\end{enumerate*}\n"
      ],
      "text/markdown": [
       "1. 0.700012074378169\n",
       "2. 1\n",
       "\n",
       "\n"
      ],
      "text/plain": [
       "[1] 0.7000121 1.0000000"
      ]
     },
     "metadata": {},
     "output_type": "display_data"
    }
   ],
   "source": [
    "\n",
    "dim(train_original)/dim(data)"
   ]
  },
  {
   "cell_type": "code",
   "execution_count": 15,
   "id": "bafbe0cb-92ef-4d2e-9e1c-5ec3e92d7e4b",
   "metadata": {},
   "outputs": [
    {
     "data": {
      "text/html": [
       "<style>\n",
       ".list-inline {list-style: none; margin:0; padding: 0}\n",
       ".list-inline>li {display: inline-block}\n",
       ".list-inline>li:not(:last-child)::after {content: \"\\00b7\"; padding: 0 .5ex}\n",
       "</style>\n",
       "<ol class=list-inline><li>0.29998792562183</li><li>1</li></ol>\n"
      ],
      "text/latex": [
       "\\begin{enumerate*}\n",
       "\\item 0.29998792562183\n",
       "\\item 1\n",
       "\\end{enumerate*}\n"
      ],
      "text/markdown": [
       "1. 0.29998792562183\n",
       "2. 1\n",
       "\n",
       "\n"
      ],
      "text/plain": [
       "[1] 0.2999879 1.0000000"
      ]
     },
     "metadata": {},
     "output_type": "display_data"
    }
   ],
   "source": [
    "dim(test)/dim(data)"
   ]
  },
  {
   "cell_type": "markdown",
   "id": "86ae6ca9-9e33-4cf2-80dd-daa29e131414",
   "metadata": {},
   "source": [
    "#### Class balance within the training dataset"
   ]
  },
  {
   "cell_type": "code",
   "execution_count": 16,
   "id": "7c1bbeae-d0c8-4cbf-bb6b-a130c7b9e0b4",
   "metadata": {},
   "outputs": [
    {
     "data": {
      "text/plain": [
       "\n",
       "         no         yes \n",
       "0.990081932 0.009918068 "
      ]
     },
     "metadata": {},
     "output_type": "display_data"
    }
   ],
   "source": [
    "prop.table(table(train_original$class))"
   ]
  },
  {
   "cell_type": "markdown",
   "id": "60cadd11-436f-45d2-adf9-8e438f14de27",
   "metadata": {},
   "source": [
    "#### Class balance within the testing dataset"
   ]
  },
  {
   "cell_type": "code",
   "execution_count": 17,
   "id": "e60dc75b-ca59-47b5-aef8-add78eedc769",
   "metadata": {},
   "outputs": [
    {
     "data": {
      "text/plain": [
       "\n",
       "         no         yes \n",
       "0.990081932 0.009918068 "
      ]
     },
     "metadata": {},
     "output_type": "display_data"
    }
   ],
   "source": [
    "prop.table(table(train_original$class))"
   ]
  },
  {
   "cell_type": "markdown",
   "id": "db868055-a616-4e2e-b0c4-b8d474cbd42a",
   "metadata": {},
   "source": [
    "\n",
    "* **Both sets of data are unbalanced (99.0081% no)**"
   ]
  },
  {
   "cell_type": "markdown",
   "id": "c1ffe3d7-f019-4f83-a77c-697d92e4f306",
   "metadata": {},
   "source": [
    "### 5. Balancing the training set <a class=\"anchor\" id=\"Balancing_the_training_set\"></a>"
   ]
  },
  {
   "cell_type": "markdown",
   "id": "45c2c801-5e81-4456-99e3-5bf6b6a7d73a",
   "metadata": {},
   "source": [
    "#### SMOTE Balanced"
   ]
  },
  {
   "cell_type": "code",
   "execution_count": 18,
   "id": "9936a781-c581-4cb4-9a35-fbe3fc38442b",
   "metadata": {},
   "outputs": [],
   "source": [
    "train_smote <- smotefamily::SMOTE(train_original[,-31], train_original[,31], K=5)"
   ]
  },
  {
   "cell_type": "code",
   "execution_count": 19,
   "id": "d685c37f-308a-4f2b-aad0-345f38960e5d",
   "metadata": {},
   "outputs": [
    {
     "data": {
      "text/html": [
       "<style>\n",
       ".list-inline {list-style: none; margin:0; padding: 0}\n",
       ".list-inline>li {display: inline-block}\n",
       ".list-inline>li:not(:last-child)::after {content: \"\\00b7\"; padding: 0 .5ex}\n",
       "</style>\n",
       "<ol class=list-inline><li>'data'</li><li>'syn_data'</li><li>'orig_N'</li><li>'orig_P'</li><li>'K'</li><li>'K_all'</li><li>'dup_size'</li><li>'outcast'</li><li>'eps'</li><li>'method'</li></ol>\n"
      ],
      "text/latex": [
       "\\begin{enumerate*}\n",
       "\\item 'data'\n",
       "\\item 'syn\\_data'\n",
       "\\item 'orig\\_N'\n",
       "\\item 'orig\\_P'\n",
       "\\item 'K'\n",
       "\\item 'K\\_all'\n",
       "\\item 'dup\\_size'\n",
       "\\item 'outcast'\n",
       "\\item 'eps'\n",
       "\\item 'method'\n",
       "\\end{enumerate*}\n"
      ],
      "text/markdown": [
       "1. 'data'\n",
       "2. 'syn_data'\n",
       "3. 'orig_N'\n",
       "4. 'orig_P'\n",
       "5. 'K'\n",
       "6. 'K_all'\n",
       "7. 'dup_size'\n",
       "8. 'outcast'\n",
       "9. 'eps'\n",
       "10. 'method'\n",
       "\n",
       "\n"
      ],
      "text/plain": [
       " [1] \"data\"     \"syn_data\" \"orig_N\"   \"orig_P\"   \"K\"        \"K_all\"   \n",
       " [7] \"dup_size\" \"outcast\"  \"eps\"      \"method\"  "
      ]
     },
     "metadata": {},
     "output_type": "display_data"
    }
   ],
   "source": [
    "names(train_smote)"
   ]
  },
  {
   "cell_type": "code",
   "execution_count": 20,
   "id": "1d51b63d-21a7-4abe-b4a5-f7eb6cfe7ff7",
   "metadata": {},
   "outputs": [],
   "source": [
    "# Assigning the data\n",
    "train_smote <- train_smote$data"
   ]
  },
  {
   "cell_type": "code",
   "execution_count": 21,
   "id": "91b4c210-0cf7-4b94-ae75-11cfef3b68f0",
   "metadata": {},
   "outputs": [],
   "source": [
    "train_smote$class <- as.factor(train_smote$class)"
   ]
  },
  {
   "cell_type": "markdown",
   "id": "a4778673-ac42-45fa-816b-210381c11f3e",
   "metadata": {},
   "source": [
    "#### ADASYN ( Adaptive Synthetic Sampling)"
   ]
  },
  {
   "cell_type": "code",
   "execution_count": 22,
   "id": "2589db22-3c95-4d53-8075-8055d1d71ac5",
   "metadata": {},
   "outputs": [],
   "source": [
    "train_adas <- smotefamily::ADAS(train_original[,-31], train_original[,31], K=5)"
   ]
  },
  {
   "cell_type": "code",
   "execution_count": 23,
   "id": "d3f40eb2-ae51-487f-812d-6bb1c9547b26",
   "metadata": {},
   "outputs": [],
   "source": [
    "train_adas <- train_adas$data"
   ]
  },
  {
   "cell_type": "code",
   "execution_count": 24,
   "id": "d53de702-964f-4793-97c2-13f006b64b5b",
   "metadata": {},
   "outputs": [],
   "source": [
    "train_adas$class <- as.factor(train_adas$class)"
   ]
  },
  {
   "cell_type": "markdown",
   "id": "7db5abe1-f2b8-4f87-b328-4fb4cd7c3028",
   "metadata": {},
   "source": [
    "\n",
    "#### DB-SMOTE ( Densty-based SMOTE)"
   ]
  },
  {
   "cell_type": "code",
   "execution_count": 25,
   "id": "3ca36fcb-c463-4cd5-8ed8-176ea22feb7f",
   "metadata": {},
   "outputs": [],
   "source": [
    "train_db <- smotefamily::ADAS(train_original[,-31], train_original[,31], K=5)"
   ]
  },
  {
   "cell_type": "code",
   "execution_count": 26,
   "id": "7ded7235-a47a-4b3d-abf3-731b7040d782",
   "metadata": {},
   "outputs": [],
   "source": [
    "train_db <- train_db$data"
   ]
  },
  {
   "cell_type": "code",
   "execution_count": 27,
   "id": "5409f177-c68e-438c-b721-1e1fb5ee3219",
   "metadata": {},
   "outputs": [],
   "source": [
    "train_db$class <- as.factor(train_db$class)"
   ]
  },
  {
   "cell_type": "markdown",
   "id": "cc676f91-47df-4297-9e18-33e0daa6084a",
   "metadata": {},
   "source": [
    "#### The class distribution of the balanced datasets"
   ]
  },
  {
   "cell_type": "code",
   "execution_count": 28,
   "id": "b23b65be-a3f2-47c4-b67a-d7f587a4b0d1",
   "metadata": {},
   "outputs": [
    {
     "data": {
      "text/plain": [
       "\n",
       "       no       yes \n",
       "0.5020774 0.4979226 "
      ]
     },
     "metadata": {},
     "output_type": "display_data"
    }
   ],
   "source": [
    "prop.table(table(train_smote$class))"
   ]
  },
  {
   "cell_type": "code",
   "execution_count": 29,
   "id": "f3077447-9194-4f37-8f13-a66fed5a214b",
   "metadata": {},
   "outputs": [
    {
     "data": {
      "text/plain": [
       "\n",
       "       no       yes \n",
       "0.4993041 0.5006959 "
      ]
     },
     "metadata": {},
     "output_type": "display_data"
    }
   ],
   "source": [
    "prop.table(table(train_adas$class))"
   ]
  },
  {
   "cell_type": "code",
   "execution_count": 30,
   "id": "4fe3d46a-6355-475f-9071-011c3a3b9111",
   "metadata": {},
   "outputs": [
    {
     "data": {
      "text/plain": [
       "\n",
       "       no       yes \n",
       "0.4993041 0.5006959 "
      ]
     },
     "metadata": {},
     "output_type": "display_data"
    }
   ],
   "source": [
    "prop.table(table(train_db$class))"
   ]
  },
  {
   "cell_type": "markdown",
   "id": "7b6bd4ce-15bd-4742-a880-bf934cbe2f02",
   "metadata": {},
   "source": [
    "**We have balanced the proportion of cases available for each class of the problem**"
   ]
  },
  {
   "cell_type": "markdown",
   "id": "e50df614-ad19-4b5b-b022-cf8a958af233",
   "metadata": {},
   "source": [
    "### 6. Training classifiers on the original imbalanced dataset <a class=\"anchor\" id=\"Training_classifiers_on_the_original_imbalanced_dataset\"></a>"
   ]
  },
  {
   "cell_type": "markdown",
   "id": "2de3fe69-6f25-4d9c-9f26-1bd12258753f",
   "metadata": {},
   "source": [
    "#### Setting the global train control parameters"
   ]
  },
  {
   "cell_type": "markdown",
   "id": "5c246511-0a1b-4747-b8f2-1943906fb091",
   "metadata": {},
   "source": [
    "We will be using cross validation 10 times."
   ]
  },
  {
   "cell_type": "code",
   "execution_count": 31,
   "id": "330ae8de-91eb-4df0-a229-e288047369ff",
   "metadata": {},
   "outputs": [],
   "source": [
    "control <- caret::trainControl(method= \"cv\", number = 10, classProbs = 10, \n",
    "                               summaryFunction = twoClassSummary)"
   ]
  },
  {
   "cell_type": "markdown",
   "id": "34da64d4-b98f-46db-92f5-6b22b15c8ee6",
   "metadata": {},
   "source": [
    "#### Constructing models"
   ]
  },
  {
   "cell_type": "markdown",
   "id": "4ffef76e-0f01-4618-82f1-656a4035c330",
   "metadata": {},
   "source": [
    "##### Decision tree: original data"
   ]
  },
  {
   "cell_type": "code",
   "execution_count": 32,
   "id": "94ba3d46-2748-412e-b372-57ed955721ef",
   "metadata": {},
   "outputs": [],
   "source": [
    "dt_original <- caret::train(class~., data=train_original, method=\"rpart\", \n",
    "                     trControl = control, metric= \"ROC\")"
   ]
  },
  {
   "cell_type": "markdown",
   "id": "3ef4d6e0-90d9-4be1-80df-a1a7961118c0",
   "metadata": {
    "tags": []
   },
   "source": [
    "##### Naive bayes regression: original data"
   ]
  },
  {
   "cell_type": "code",
   "execution_count": 33,
   "id": "95ebef57-2216-412c-af46-5a89c03158af",
   "metadata": {},
   "outputs": [],
   "source": [
    "nb_original <- caret::train(class~., data=train_original, method = \"naive_bayes\", \n",
    "                     trControl = control, metric= \"ROC\")"
   ]
  },
  {
   "cell_type": "markdown",
   "id": "4c1870c4-5e42-4951-b048-5a48c58f9dd6",
   "metadata": {},
   "source": [
    "##### Linear discriminant analysis: originial data"
   ]
  },
  {
   "cell_type": "code",
   "execution_count": 34,
   "id": "9a189b70-39ed-4fb1-959c-2514d81b3b1b",
   "metadata": {},
   "outputs": [],
   "source": [
    "lda_original <- caret::train(class~., data=train_original, method=\"lda\", \n",
    "                     trControl = control, metric= \"ROC\")"
   ]
  },
  {
   "cell_type": "markdown",
   "id": "13cf2758-7725-4b44-90d1-0f2e6b11f913",
   "metadata": {},
   "source": [
    "#### Decision Tree"
   ]
  },
  {
   "cell_type": "markdown",
   "id": "1339eacb-49e4-405f-929b-3b100d101977",
   "metadata": {},
   "source": [
    "##### Predicting"
   ]
  },
  {
   "cell_type": "code",
   "execution_count": 35,
   "id": "b0adc715-fc58-4385-a93a-6b19f52a17c7",
   "metadata": {},
   "outputs": [],
   "source": [
    "dt_original_prediction  <- predict(dt_original, test, type=\"prob\")"
   ]
  },
  {
   "cell_type": "markdown",
   "id": "bd3bb0dd-7c5b-4046-8bbd-c3b9da77e78a",
   "metadata": {},
   "source": [
    "##### Assigning class to probabilities, assuring variable is a factor"
   ]
  },
  {
   "cell_type": "code",
   "execution_count": 36,
   "id": "092dcae3-4631-4fcd-8188-bbd1319d9ef6",
   "metadata": {},
   "outputs": [],
   "source": [
    "dt_original_test <- factor( ifelse(dt_original_prediction$yes>0.5, \"yes\", \"no\"))"
   ]
  },
  {
   "cell_type": "markdown",
   "id": "1ecb644d-8a09-4aaf-9ef6-0ee67c265364",
   "metadata": {},
   "source": [
    "##### Saving precision, recall, and F-measure ($F_{1}$) (decision tree)"
   ]
  },
  {
   "cell_type": "code",
   "execution_count": 37,
   "id": "b74d7091-6ab9-41a9-acff-22a31ae214b7",
   "metadata": {},
   "outputs": [],
   "source": [
    "precision_dt_original <- caret::posPredValue(dt_original_test, test$class, positive = \"yes\")\n",
    "\n",
    "recall_dt_original <- caret::sensitivity(dt_original_test, test$class, positive = \"yes\")\n",
    "\n",
    "F1_dt_original <- \n",
    "(2*precision_dt_original*recall_dt_original) / (precision_dt_original+recall_dt_original)"
   ]
  },
  {
   "cell_type": "code",
   "execution_count": 38,
   "id": "2a56a7f7-ffcd-4c4f-b381-c55f237afa74",
   "metadata": {},
   "outputs": [
    {
     "data": {
      "text/html": [
       "0.9296875"
      ],
      "text/latex": [
       "0.9296875"
      ],
      "text/markdown": [
       "0.9296875"
      ],
      "text/plain": [
       "[1] 0.9296875"
      ]
     },
     "metadata": {},
     "output_type": "display_data"
    },
    {
     "data": {
      "text/html": [
       "0.80952380952381"
      ],
      "text/latex": [
       "0.80952380952381"
      ],
      "text/markdown": [
       "0.80952380952381"
      ],
      "text/plain": [
       "[1] 0.8095238"
      ]
     },
     "metadata": {},
     "output_type": "display_data"
    },
    {
     "data": {
      "text/html": [
       "0.865454545454545"
      ],
      "text/latex": [
       "0.865454545454545"
      ],
      "text/markdown": [
       "0.865454545454545"
      ],
      "text/plain": [
       "[1] 0.8654545"
      ]
     },
     "metadata": {},
     "output_type": "display_data"
    }
   ],
   "source": [
    "precision_dt_original\n",
    "recall_dt_original \n",
    "\n",
    "F1_dt_original"
   ]
  },
  {
   "cell_type": "markdown",
   "id": "ab17d1d3-9b2c-46f1-898a-2ce80a986edb",
   "metadata": {},
   "source": [
    "#### Naive bayes"
   ]
  },
  {
   "cell_type": "markdown",
   "id": "49d0d3e5-e7af-40c3-8ab1-e38b9a378ed1",
   "metadata": {},
   "source": [
    "##### Predicting"
   ]
  },
  {
   "cell_type": "code",
   "execution_count": 39,
   "id": "33f60546-d7a9-4791-aa99-4cae4a70ec09",
   "metadata": {},
   "outputs": [],
   "source": [
    "nb_original_prediction <- predict(nb_original, test, type=\"prob\")"
   ]
  },
  {
   "cell_type": "markdown",
   "id": "32753d8b-65db-447f-8dbb-37ec0402df49",
   "metadata": {},
   "source": [
    "##### Assigning class to probabilities, assuring variable is a factor"
   ]
  },
  {
   "cell_type": "code",
   "execution_count": 40,
   "id": "b5ea9e86-0766-417f-8024-f03dbcfbcd71",
   "metadata": {},
   "outputs": [],
   "source": [
    "nb_original_test <- factor( ifelse(nb_original_prediction$yes>0.5, \"yes\", \"no\"))"
   ]
  },
  {
   "cell_type": "markdown",
   "id": "cfe328d9-ecc0-40db-bf81-ede559070924",
   "metadata": {},
   "source": [
    "##### Saving precision, recall, and F-measure ($F_{1}$) (naive bayes)"
   ]
  },
  {
   "cell_type": "code",
   "execution_count": 41,
   "id": "6f26b412-4d91-4e0e-af10-33aaf91455b4",
   "metadata": {},
   "outputs": [],
   "source": [
    "precision_nb_original <- caret::posPredValue(nb_original_test, test$class, positive = \"yes\")\n",
    "\n",
    "recall_nb_original <- caret::sensitivity(nb_original_test, test$class, positive = \"yes\")\n",
    "\n",
    "F1_nb_original <- \n",
    "(2*precision_nb_original*recall_nb_original) / (precision_nb_original+recall_nb_original)"
   ]
  },
  {
   "cell_type": "code",
   "execution_count": 42,
   "id": "e23eefa5-fbe1-422f-8751-59f2e5f456b4",
   "metadata": {},
   "outputs": [
    {
     "data": {
      "text/html": [
       "0.473895582329317"
      ],
      "text/latex": [
       "0.473895582329317"
      ],
      "text/markdown": [
       "0.473895582329317"
      ],
      "text/plain": [
       "[1] 0.4738956"
      ]
     },
     "metadata": {},
     "output_type": "display_data"
    },
    {
     "data": {
      "text/html": [
       "0.802721088435374"
      ],
      "text/latex": [
       "0.802721088435374"
      ],
      "text/markdown": [
       "0.802721088435374"
      ],
      "text/plain": [
       "[1] 0.8027211"
      ]
     },
     "metadata": {},
     "output_type": "display_data"
    },
    {
     "data": {
      "text/html": [
       "0.595959595959596"
      ],
      "text/latex": [
       "0.595959595959596"
      ],
      "text/markdown": [
       "0.595959595959596"
      ],
      "text/plain": [
       "[1] 0.5959596"
      ]
     },
     "metadata": {},
     "output_type": "display_data"
    }
   ],
   "source": [
    "precision_nb_original\n",
    "recall_nb_original\n",
    "\n",
    "F1_nb_original"
   ]
  },
  {
   "cell_type": "markdown",
   "id": "415bb4a8-3c33-4ead-9505-6ccf16c7bf26",
   "metadata": {},
   "source": [
    "#### Linear discriminant analysis"
   ]
  },
  {
   "cell_type": "markdown",
   "id": "e06078a5-cecb-47a5-ae9b-9b7562c1cb67",
   "metadata": {},
   "source": [
    "##### Predicting"
   ]
  },
  {
   "cell_type": "code",
   "execution_count": 43,
   "id": "af044f2a-b316-4bbe-b41d-21d54a5f580d",
   "metadata": {},
   "outputs": [],
   "source": [
    "lda_original_prediction  <- predict(lda_original, test, type=\"prob\")"
   ]
  },
  {
   "cell_type": "markdown",
   "id": "650edbc9-e2ef-42d4-81ef-e2cee908d62e",
   "metadata": {},
   "source": [
    "##### Assigning class to probabilities, assuring variable is a factor"
   ]
  },
  {
   "cell_type": "code",
   "execution_count": 44,
   "id": "4345c13b-4ef1-4e3d-9fb7-54230af40bd6",
   "metadata": {},
   "outputs": [],
   "source": [
    "lda_original_test <- factor( ifelse(lda_original_prediction$yes>0.5, \"yes\", \"no\"))"
   ]
  },
  {
   "cell_type": "markdown",
   "id": "7acb5dd6-dc72-40c3-974b-d36c2c878b64",
   "metadata": {},
   "source": [
    "##### Saving precision, recall, and F-measure ($F_{1}$) (LDA)"
   ]
  },
  {
   "cell_type": "code",
   "execution_count": 45,
   "id": "265bbbfc-9861-4e62-9310-88d22d344391",
   "metadata": {},
   "outputs": [],
   "source": [
    "precision_lda_original <- caret::posPredValue(lda_original_test, test$class, positive = \"yes\")\n",
    "\n",
    "recall_lda_original <- caret::sensitivity(lda_original_test, test$class, positive = \"yes\")\n",
    "\n",
    "F1_lda_original <- \n",
    "(2*precision_lda_original*recall_lda_original) / (precision_lda_original+recall_lda_original)"
   ]
  },
  {
   "cell_type": "code",
   "execution_count": 46,
   "id": "8dd67901-fada-4704-a68f-5ba32a7eef02",
   "metadata": {},
   "outputs": [
    {
     "data": {
      "text/html": [
       "0.981818181818188"
      ],
      "text/latex": [
       "0.981818181818188"
      ],
      "text/markdown": [
       "0.981818181818188"
      ],
      "text/plain": [
       "[1] 0.9818182"
      ]
     },
     "metadata": {},
     "output_type": "display_data"
    },
    {
     "data": {
      "text/html": [
       "0.73469387755102"
      ],
      "text/latex": [
       "0.73469387755102"
      ],
      "text/markdown": [
       "0.73469387755102"
      ],
      "text/plain": [
       "[1] 0.7346939"
      ]
     },
     "metadata": {},
     "output_type": "display_data"
    },
    {
     "data": {
      "text/html": [
       "0.840466926070041"
      ],
      "text/latex": [
       "0.840466926070041"
      ],
      "text/markdown": [
       "0.840466926070041"
      ],
      "text/plain": [
       "[1] 0.8404669"
      ]
     },
     "metadata": {},
     "output_type": "display_data"
    }
   ],
   "source": [
    "precision_lda_original\n",
    "recall_lda_original\n",
    "\n",
    "F1_lda_original"
   ]
  },
  {
   "cell_type": "markdown",
   "id": "0df3f65c-1e51-4863-a7e8-7960509c0f48",
   "metadata": {},
   "source": [
    "### 7. Training classifiers on the SMOTE balanced dataset <a class=\"anchor\" id=\"Training_classifiers_on_the_SMOTE_balanced_dataset\"></a>"
   ]
  },
  {
   "cell_type": "markdown",
   "id": "a7c81319-0c81-423f-9f93-df829d61182e",
   "metadata": {},
   "source": [
    "#### Constructing models"
   ]
  },
  {
   "cell_type": "markdown",
   "id": "55e73d83-f53c-41c5-9b15-be854f076030",
   "metadata": {},
   "source": [
    "##### Decision tree: balanced dataset"
   ]
  },
  {
   "cell_type": "code",
   "execution_count": 47,
   "id": "1f887138-721a-42f4-988d-9eb1707cd38f",
   "metadata": {},
   "outputs": [],
   "source": [
    "dt_smote <- caret::train(class~., data=train_smote, method=\"rpart\", \n",
    "                     trControl = control, metric= \"ROC\")"
   ]
  },
  {
   "cell_type": "markdown",
   "id": "008801cd-c110-4c90-9952-229b2e891d47",
   "metadata": {
    "tags": []
   },
   "source": [
    "##### Naive bayes:  balanced dataset"
   ]
  },
  {
   "cell_type": "code",
   "execution_count": 48,
   "id": "88889ac4-e39c-48c4-abea-e6e49c8778e7",
   "metadata": {},
   "outputs": [],
   "source": [
    "nb_smote <- caret::train(class~., data=train_smote, method = \"naive_bayes\", \n",
    "                     trControl = control, metric= \"ROC\")"
   ]
  },
  {
   "cell_type": "markdown",
   "id": "fe050149-089a-40c4-b5d1-0ae7d2db91a5",
   "metadata": {},
   "source": [
    "##### LDA:  balanced dataset"
   ]
  },
  {
   "cell_type": "code",
   "execution_count": 49,
   "id": "b2cb5865-54d2-4620-8d04-ab903e21f1be",
   "metadata": {},
   "outputs": [],
   "source": [
    "lda_smote <- caret::train(class~., data=train_smote, method=\"lda\", \n",
    "                     trControl = control, metric= \"ROC\")"
   ]
  },
  {
   "cell_type": "markdown",
   "id": "2cd83fc3-552f-4811-8eb0-5e36848628f1",
   "metadata": {},
   "source": [
    "#### Decision tree"
   ]
  },
  {
   "cell_type": "markdown",
   "id": "14b24711-84fa-4581-9913-20c3688f60ac",
   "metadata": {},
   "source": [
    "##### Predicting"
   ]
  },
  {
   "cell_type": "code",
   "execution_count": 50,
   "id": "39882898-8a5b-42c3-9ac6-7fe925b7d9b7",
   "metadata": {},
   "outputs": [],
   "source": [
    "dt_smote_pred <- predict(dt_smote, test, type=\"prob\")"
   ]
  },
  {
   "cell_type": "markdown",
   "id": "c4346535-4ebe-4e49-a690-d3bf807fdc5a",
   "metadata": {},
   "source": [
    "##### Assigning class to probabilities, assuring variable is a factor"
   ]
  },
  {
   "cell_type": "code",
   "execution_count": 51,
   "id": "7d078002-6676-4f51-8ae2-161cb596d9e9",
   "metadata": {},
   "outputs": [],
   "source": [
    "dt_smote_test <- factor(ifelse(dt_smote_pred$yes>0.50, \"yes\", \"no\"))"
   ]
  },
  {
   "cell_type": "markdown",
   "id": "2a96b06f-58d2-4b2a-a0d4-062d5d6af2ff",
   "metadata": {},
   "source": [
    "##### Saving precision, recall, and F-measure ($F_{1}$) (decision tree: smote)"
   ]
  },
  {
   "cell_type": "code",
   "execution_count": 52,
   "id": "da8b20e8-0985-4fde-82ee-451623cd5e48",
   "metadata": {},
   "outputs": [],
   "source": [
    "precision_dt_smote <- caret::posPredValue(dt_smote_test, test$class, positive = \"yes\")\n",
    "recall_dt_smote <- caret::sensitivity(dt_smote_test, test$class, positive = \"yes\")\n",
    "\n",
    "F1_dt_smote <- \n",
    "(2*precision_dt_smote*recall_dt_smote) / (precision_dt_smote+recall_dt_smote)\n"
   ]
  },
  {
   "cell_type": "code",
   "execution_count": 53,
   "id": "b68d9cab-eaaf-41d4-acc2-7a393bc1d67e",
   "metadata": {},
   "outputs": [
    {
     "data": {
      "text/html": [
       "0.188148148148148"
      ],
      "text/latex": [
       "0.188148148148148"
      ],
      "text/markdown": [
       "0.188148148148148"
      ],
      "text/plain": [
       "[1] 0.1881481"
      ]
     },
     "metadata": {},
     "output_type": "display_data"
    },
    {
     "data": {
      "text/html": [
       "0.863945578231292"
      ],
      "text/latex": [
       "0.863945578231292"
      ],
      "text/markdown": [
       "0.863945578231292"
      ],
      "text/plain": [
       "[1] 0.8639456"
      ]
     },
     "metadata": {},
     "output_type": "display_data"
    },
    {
     "data": {
      "text/html": [
       "0.309002433090025"
      ],
      "text/latex": [
       "0.309002433090025"
      ],
      "text/markdown": [
       "0.309002433090025"
      ],
      "text/plain": [
       "[1] 0.3090024"
      ]
     },
     "metadata": {},
     "output_type": "display_data"
    }
   ],
   "source": [
    "precision_dt_smote\n",
    "recall_dt_smote\n",
    "\n",
    "F1_dt_smote"
   ]
  },
  {
   "cell_type": "markdown",
   "id": "98b929d5-698e-41ee-bf26-e66b9a12a2d2",
   "metadata": {},
   "source": [
    "#### Naive bayes"
   ]
  },
  {
   "cell_type": "markdown",
   "id": "852e9651-f6f5-4e76-8320-d3a380d23011",
   "metadata": {},
   "source": [
    "##### Predicting"
   ]
  },
  {
   "cell_type": "code",
   "execution_count": 54,
   "id": "938c99e1-8f85-4e49-9c80-077ceae076a5",
   "metadata": {},
   "outputs": [],
   "source": [
    "nb_smote_pred <- predict(nb_smote, test, type=\"prob\")"
   ]
  },
  {
   "cell_type": "markdown",
   "id": "13173840-f4e5-4f52-b216-6dbe3c34ae5b",
   "metadata": {},
   "source": [
    "##### Assigning class to probabilities, assuring variable is a factor"
   ]
  },
  {
   "cell_type": "code",
   "execution_count": 55,
   "id": "aed853f3-2a81-40d8-895a-814d94faefa8",
   "metadata": {},
   "outputs": [],
   "source": [
    "nb_smote_test <- factor(ifelse(nb_smote_pred$yes>0.50, \"yes\", \"no\"))"
   ]
  },
  {
   "cell_type": "markdown",
   "id": "5a5e06f8-2f5d-4cee-93af-129e8d926467",
   "metadata": {},
   "source": [
    "##### Saving precision, recall, and F-measure ($F_{1}$) (naive bayes: smote)"
   ]
  },
  {
   "cell_type": "code",
   "execution_count": 56,
   "id": "f8bdae82-a84c-43ec-8659-9c988af39a5f",
   "metadata": {},
   "outputs": [],
   "source": [
    "precision_nb_smote <- caret::posPredValue(nb_smote_test, test$class, positive = \"yes\")\n",
    "recall_nb_smote <- caret::sensitivity(nb_smote_test, test$class, positive = \"yes\")\n",
    "\n",
    "F1_nb_smote <- \n",
    "(2*precision_nb_smote*recall_nb_smote) / (precision_nb_smote+recall_nb_smote)\n"
   ]
  },
  {
   "cell_type": "code",
   "execution_count": 57,
   "id": "65961ae5-7877-46bf-a8b5-2ebc75ecfc9b",
   "metadata": {},
   "outputs": [
    {
     "data": {
      "text/html": [
       "0.55140186915888"
      ],
      "text/latex": [
       "0.55140186915888"
      ],
      "text/markdown": [
       "0.55140186915888"
      ],
      "text/plain": [
       "[1] 0.5514019"
      ]
     },
     "metadata": {},
     "output_type": "display_data"
    },
    {
     "data": {
      "text/html": [
       "0.802721088435374"
      ],
      "text/latex": [
       "0.802721088435374"
      ],
      "text/markdown": [
       "0.802721088435374"
      ],
      "text/plain": [
       "[1] 0.8027211"
      ]
     },
     "metadata": {},
     "output_type": "display_data"
    },
    {
     "data": {
      "text/html": [
       "0.653739612188366"
      ],
      "text/latex": [
       "0.653739612188366"
      ],
      "text/markdown": [
       "0.653739612188366"
      ],
      "text/plain": [
       "[1] 0.6537396"
      ]
     },
     "metadata": {},
     "output_type": "display_data"
    }
   ],
   "source": [
    "precision_nb_smote\n",
    "recall_nb_smote\n",
    "\n",
    "F1_nb_smote"
   ]
  },
  {
   "cell_type": "markdown",
   "id": "3da0ff36-0ac6-4a3f-ac63-a2c34a3fddca",
   "metadata": {},
   "source": [
    "#### Linear discriminant analysis"
   ]
  },
  {
   "cell_type": "markdown",
   "id": "9330eb8e-b361-4b0a-99b4-13534077216c",
   "metadata": {},
   "source": [
    "##### Predicting"
   ]
  },
  {
   "cell_type": "code",
   "execution_count": 58,
   "id": "1814ddcf-b523-4c1c-95c5-510e8080ce46",
   "metadata": {},
   "outputs": [],
   "source": [
    "lda_smote_pred <- predict(lda_smote, test, type=\"prob\")"
   ]
  },
  {
   "cell_type": "markdown",
   "id": "29b2e9f5-b263-4991-ac65-ca6fec0e5de0",
   "metadata": {},
   "source": [
    "##### Assigning class to probabilities, assuring variable is a factor"
   ]
  },
  {
   "cell_type": "code",
   "execution_count": 59,
   "id": "5ae5c13a-082b-4fbf-b641-5fa61d8d7786",
   "metadata": {},
   "outputs": [],
   "source": [
    "lda_smote_test <- factor(ifelse(lda_smote_pred$yes>0.50, \"yes\", \"no\"))"
   ]
  },
  {
   "cell_type": "markdown",
   "id": "c0901faa-a04b-4d54-9462-0027b93d494e",
   "metadata": {},
   "source": [
    "##### Saving precision, recall, and F-measure ($F_{1}$) (LDA: smote)"
   ]
  },
  {
   "cell_type": "code",
   "execution_count": 60,
   "id": "bba4b87e-0f26-455c-aaee-f38763ed5e60",
   "metadata": {},
   "outputs": [],
   "source": [
    "precision_lda_smote <- caret::posPredValue(lda_smote_test, test$class, positive = \"yes\")\n",
    "recall_lda_smote <- caret::sensitivity(lda_smote_test, test$class, positive = \"yes\")\n",
    "\n",
    "F1_lda_smote <- \n",
    "(2*precision_lda_smote*recall_lda_smote) / (precision_lda_smote+recall_lda_smote)\n"
   ]
  },
  {
   "cell_type": "code",
   "execution_count": 61,
   "id": "dd8551f0-a25c-4ebd-a2bf-33e3eca62fe4",
   "metadata": {},
   "outputs": [
    {
     "data": {
      "text/html": [
       "0.395104895104896"
      ],
      "text/latex": [
       "0.395104895104896"
      ],
      "text/markdown": [
       "0.395104895104896"
      ],
      "text/plain": [
       "[1] 0.3951049"
      ]
     },
     "metadata": {},
     "output_type": "display_data"
    },
    {
     "data": {
      "text/html": [
       "0.768707482993197"
      ],
      "text/latex": [
       "0.768707482993197"
      ],
      "text/markdown": [
       "0.768707482993197"
      ],
      "text/plain": [
       "[1] 0.7687075"
      ]
     },
     "metadata": {},
     "output_type": "display_data"
    },
    {
     "data": {
      "text/html": [
       "0.521939953810624"
      ],
      "text/latex": [
       "0.521939953810624"
      ],
      "text/markdown": [
       "0.521939953810624"
      ],
      "text/plain": [
       "[1] 0.52194"
      ]
     },
     "metadata": {},
     "output_type": "display_data"
    }
   ],
   "source": [
    "precision_lda_smote\n",
    "recall_lda_smote \n",
    "\n",
    "F1_lda_smote"
   ]
  },
  {
   "cell_type": "markdown",
   "id": "14344237-217d-4690-8925-d9d23fa9dead",
   "metadata": {},
   "source": [
    "### 8. Training classifiers on the ADASYN balanced dataset <a class=\"anchor\" id=\"Training_classifiers_on_the_ADASYN_balanced_dataset\"></a>"
   ]
  },
  {
   "cell_type": "markdown",
   "id": "b0d72a6b-b60d-4245-a8b4-a2aca15dca3c",
   "metadata": {},
   "source": [
    "We train models using the ADASYN balanced training dataset, to generate predictions on the test dataset. we then compute precision, recall, and $F_{1}$-score."
   ]
  },
  {
   "cell_type": "markdown",
   "id": "8eac1144-00a0-4c55-8dab-2103e843473f",
   "metadata": {},
   "source": [
    "#### Constructing models"
   ]
  },
  {
   "cell_type": "markdown",
   "id": "96410ae0-f548-4a9f-a9ae-043c8f0b181f",
   "metadata": {},
   "source": [
    "##### Decision tree: ADASYN balanced dataset"
   ]
  },
  {
   "cell_type": "code",
   "execution_count": 62,
   "id": "8390c7a3-8ce8-43b6-af4b-42d4ecb755c4",
   "metadata": {},
   "outputs": [],
   "source": [
    "dt_adas <- caret::train(class~., data=train_adas, method=\"rpart\", \n",
    "                     trControl = control, metric= \"ROC\")"
   ]
  },
  {
   "cell_type": "markdown",
   "id": "253a23b7-972d-44b5-aba3-2aae527fb651",
   "metadata": {
    "tags": []
   },
   "source": [
    "##### Naive bayes:  ADASYN balanced dataset"
   ]
  },
  {
   "cell_type": "code",
   "execution_count": 63,
   "id": "7cf36c99-742e-47d2-968f-b3a4f70a99ef",
   "metadata": {},
   "outputs": [],
   "source": [
    "nb_adas <- caret::train(class~., data=train_adas, method = \"naive_bayes\", \n",
    "                     trControl = control, metric= \"ROC\")"
   ]
  },
  {
   "cell_type": "markdown",
   "id": "a01929e1-3a53-4b57-80ad-1dad90974354",
   "metadata": {},
   "source": [
    "##### LDA:  ADASYN balanced dataset"
   ]
  },
  {
   "cell_type": "code",
   "execution_count": 64,
   "id": "ff1d98fc-1813-4f06-9c5a-666c39d3829d",
   "metadata": {},
   "outputs": [],
   "source": [
    "lda_adas <- caret::train(class~., data=train_adas, method=\"lda\", \n",
    "                     trControl = control, metric= \"ROC\")"
   ]
  },
  {
   "cell_type": "markdown",
   "id": "d0632e35-1465-4eaf-8147-b7c6301a8a65",
   "metadata": {},
   "source": [
    "#### Decision tree"
   ]
  },
  {
   "cell_type": "markdown",
   "id": "f304266b-6d55-4e0d-a057-8e99720201ca",
   "metadata": {},
   "source": [
    "##### Predicting"
   ]
  },
  {
   "cell_type": "code",
   "execution_count": 65,
   "id": "342a9ec3-340f-488c-8088-ed25791f0f41",
   "metadata": {},
   "outputs": [],
   "source": [
    "dt_adas_pred <- predict(dt_adas, test, type=\"prob\")"
   ]
  },
  {
   "cell_type": "markdown",
   "id": "36c33259-5179-4966-8506-363def720ed8",
   "metadata": {},
   "source": [
    "##### Assigning class to probabilities, assuring variable is a factor"
   ]
  },
  {
   "cell_type": "code",
   "execution_count": 66,
   "id": "047e4420-c2d6-4841-810d-93c47658a4b9",
   "metadata": {},
   "outputs": [],
   "source": [
    "dt_adas_test <- factor(ifelse(dt_adas_pred$yes>0.50, \"yes\", \"no\"))"
   ]
  },
  {
   "cell_type": "markdown",
   "id": "b0584870-47cd-496b-9104-0e7f260b97ec",
   "metadata": {},
   "source": [
    "##### Saving precision, recall, and F-measure ($F_{1}$) (decision tree: adasyn)"
   ]
  },
  {
   "cell_type": "code",
   "execution_count": 67,
   "id": "873912f2-952e-4427-a979-6de8c57d1483",
   "metadata": {},
   "outputs": [],
   "source": [
    "precision_dt_adas <- caret::posPredValue(dt_adas_test, test$class, positive = \"yes\")\n",
    "recall_dt_adas <- caret::sensitivity(dt_adas_test, test$class, positive = \"yes\")\n",
    "\n",
    "F1_dt_adas <- \n",
    "(2*precision_dt_adas*recall_dt_adas) / (precision_dt_adas+recall_dt_adas)\n"
   ]
  },
  {
   "cell_type": "code",
   "execution_count": 68,
   "id": "b97088bc-0d81-4bfc-a494-77348be9304c",
   "metadata": {},
   "outputs": [
    {
     "data": {
      "text/html": [
       "0.184325108853411"
      ],
      "text/latex": [
       "0.184325108853411"
      ],
      "text/markdown": [
       "0.184325108853411"
      ],
      "text/plain": [
       "[1] 0.1843251"
      ]
     },
     "metadata": {},
     "output_type": "display_data"
    },
    {
     "data": {
      "text/html": [
       "0.863945578231292"
      ],
      "text/latex": [
       "0.863945578231292"
      ],
      "text/markdown": [
       "0.863945578231292"
      ],
      "text/plain": [
       "[1] 0.8639456"
      ]
     },
     "metadata": {},
     "output_type": "display_data"
    },
    {
     "data": {
      "text/html": [
       "0.303827751196172"
      ],
      "text/latex": [
       "0.303827751196172"
      ],
      "text/markdown": [
       "0.303827751196172"
      ],
      "text/plain": [
       "[1] 0.3038278"
      ]
     },
     "metadata": {},
     "output_type": "display_data"
    }
   ],
   "source": [
    "precision_dt_adas\n",
    "recall_dt_adas\n",
    "\n",
    "F1_dt_adas"
   ]
  },
  {
   "cell_type": "markdown",
   "id": "ceec16ef-3d48-4779-bfd8-762fe49b4bb3",
   "metadata": {},
   "source": [
    "#### Naive bayes"
   ]
  },
  {
   "cell_type": "markdown",
   "id": "e4105aed-6f68-4b09-ae4a-4df0eec477eb",
   "metadata": {},
   "source": [
    "##### Predicting"
   ]
  },
  {
   "cell_type": "code",
   "execution_count": 69,
   "id": "ed1af838-b9bb-454a-b67f-85adb079df51",
   "metadata": {},
   "outputs": [],
   "source": [
    "nb_adas_pred <- predict(nb_adas, test, type=\"prob\")"
   ]
  },
  {
   "cell_type": "markdown",
   "id": "e3a9ecf6-ca44-4b0a-bf01-7922c6d8d1ca",
   "metadata": {},
   "source": [
    "##### Assigning class to probabilities, assuring variable is a factor"
   ]
  },
  {
   "cell_type": "code",
   "execution_count": 70,
   "id": "2dcf2e82-abb8-4d96-99e0-ffda97cbc818",
   "metadata": {},
   "outputs": [],
   "source": [
    "nb_adas_test <- factor(ifelse(nb_adas_pred$yes>0.50, \"yes\", \"no\"))"
   ]
  },
  {
   "cell_type": "markdown",
   "id": "1d3f9c8b-d057-4ebf-ba61-7a06929a6c52",
   "metadata": {},
   "source": [
    "##### Saving precision, recall, and F-measure ($F_{1}$) (naive bayes: adasyn)"
   ]
  },
  {
   "cell_type": "code",
   "execution_count": 71,
   "id": "a4967fa1-ac2d-4b09-918c-305a6de340f4",
   "metadata": {},
   "outputs": [],
   "source": [
    "precision_nb_adas <- caret::posPredValue(nb_adas_test, test$class, positive = \"yes\")\n",
    "recall_nb_adas <- caret::sensitivity(nb_adas_test, test$class, positive = \"yes\")\n",
    "\n",
    "F1_nb_adas <- \n",
    "(2*precision_nb_adas*recall_nb_adas) / (precision_nb_adas+recall_nb_adas)\n"
   ]
  },
  {
   "cell_type": "code",
   "execution_count": 72,
   "id": "30f989b4-5a4b-46c9-85e7-f328844c15ca",
   "metadata": {},
   "outputs": [
    {
     "data": {
      "text/html": [
       "0.543378995433791"
      ],
      "text/latex": [
       "0.543378995433791"
      ],
      "text/markdown": [
       "0.543378995433791"
      ],
      "text/plain": [
       "[1] 0.543379"
      ]
     },
     "metadata": {},
     "output_type": "display_data"
    },
    {
     "data": {
      "text/html": [
       "0.80952380952381"
      ],
      "text/latex": [
       "0.80952380952381"
      ],
      "text/markdown": [
       "0.80952380952381"
      ],
      "text/plain": [
       "[1] 0.8095238"
      ]
     },
     "metadata": {},
     "output_type": "display_data"
    },
    {
     "data": {
      "text/html": [
       "0.650273224043716"
      ],
      "text/latex": [
       "0.650273224043716"
      ],
      "text/markdown": [
       "0.650273224043716"
      ],
      "text/plain": [
       "[1] 0.6502732"
      ]
     },
     "metadata": {},
     "output_type": "display_data"
    }
   ],
   "source": [
    "precision_nb_adas\n",
    "recall_nb_adas\n",
    "\n",
    "F1_nb_adas"
   ]
  },
  {
   "cell_type": "markdown",
   "id": "a6271c92-57ff-4119-8127-54692a7f55e2",
   "metadata": {},
   "source": [
    "#### Linear discriminant analysis"
   ]
  },
  {
   "cell_type": "markdown",
   "id": "800af06c-b0e1-48f1-8fb5-ed86c50cf20e",
   "metadata": {},
   "source": [
    "##### Predicting"
   ]
  },
  {
   "cell_type": "code",
   "execution_count": 73,
   "id": "bf1e34de-385e-4649-9c32-f504fe67c306",
   "metadata": {},
   "outputs": [],
   "source": [
    "lda_adas_pred <- predict(lda_adas, test, type=\"prob\")"
   ]
  },
  {
   "cell_type": "markdown",
   "id": "4c0beaba-8f79-4091-aa95-816510a21001",
   "metadata": {},
   "source": [
    "##### Assigning class to probabilities, assuring variable is a factor"
   ]
  },
  {
   "cell_type": "code",
   "execution_count": 74,
   "id": "26ac38f2-bae9-45cb-9e36-bb43ae254b07",
   "metadata": {},
   "outputs": [],
   "source": [
    "lda_adas_test <- factor(ifelse(lda_adas_pred$yes>0.50, \"yes\", \"no\"))"
   ]
  },
  {
   "cell_type": "markdown",
   "id": "ac7059bc-c40e-4193-81e9-215cceebcfc2",
   "metadata": {},
   "source": [
    "##### Saving precision, recall, and F-measure ($F_{1}$) (LDA: adasyn)"
   ]
  },
  {
   "cell_type": "code",
   "execution_count": 75,
   "id": "68cefa12-9317-4550-8344-018b4f07904b",
   "metadata": {},
   "outputs": [],
   "source": [
    "precision_lda_adas <- caret::posPredValue(lda_adas_test, test$class, positive = \"yes\")\n",
    "recall_lda_adas <- caret::sensitivity(lda_adas_test, test$class, positive = \"yes\")\n",
    "\n",
    "F1_lda_adas <- \n",
    "(2*precision_lda_adas*recall_lda_adas) / (precision_lda_adas+recall_lda_adas)\n"
   ]
  },
  {
   "cell_type": "code",
   "execution_count": 76,
   "id": "a1e51c24-94d5-431b-bc74-c86984f216b5",
   "metadata": {},
   "outputs": [
    {
     "data": {
      "text/html": [
       "0.396610169491526"
      ],
      "text/latex": [
       "0.396610169491526"
      ],
      "text/markdown": [
       "0.396610169491526"
      ],
      "text/plain": [
       "[1] 0.3966102"
      ]
     },
     "metadata": {},
     "output_type": "display_data"
    },
    {
     "data": {
      "text/html": [
       "0.795918367346939"
      ],
      "text/latex": [
       "0.795918367346939"
      ],
      "text/markdown": [
       "0.795918367346939"
      ],
      "text/plain": [
       "[1] 0.7959184"
      ]
     },
     "metadata": {},
     "output_type": "display_data"
    },
    {
     "data": {
      "text/html": [
       "0.529411764705883"
      ],
      "text/latex": [
       "0.529411764705883"
      ],
      "text/markdown": [
       "0.529411764705883"
      ],
      "text/plain": [
       "[1] 0.5294118"
      ]
     },
     "metadata": {},
     "output_type": "display_data"
    }
   ],
   "source": [
    "precision_lda_adas\n",
    "recall_lda_adas \n",
    "\n",
    "F1_lda_adas"
   ]
  },
  {
   "cell_type": "markdown",
   "id": "b5debd30-18bc-4c7b-bcbe-b7b197f37203",
   "metadata": {},
   "source": [
    "### 9. Training classifiers on the DB-SMOTE balanced dataset <a class=\"anchor\" id=\"Training_classifiers_on_the_DB-SMOTE_balanced_dataset\"></a>"
   ]
  },
  {
   "cell_type": "markdown",
   "id": "1fd2b1c0-65ba-4373-96bd-626c8f50397c",
   "metadata": {},
   "source": [
    "We train models using the DB-SMOTE balanced training dataset, to generate predictions on the test dataset. we then compute precision, recall, and $F_{1}$-score."
   ]
  },
  {
   "cell_type": "markdown",
   "id": "c75a0f45-3edd-4dfa-87dd-490f35c15502",
   "metadata": {},
   "source": [
    "#### Constructing models"
   ]
  },
  {
   "cell_type": "markdown",
   "id": "ca280ab5-d0f9-4409-9275-122a1e0241e3",
   "metadata": {},
   "source": [
    "##### Decision tree: DB-SMOTE balanced dataset"
   ]
  },
  {
   "cell_type": "code",
   "execution_count": 77,
   "id": "714a7c3b-5d26-4962-afd5-4d75705c69d0",
   "metadata": {},
   "outputs": [],
   "source": [
    "dt_db <- caret::train(class~., data=train_db, method=\"rpart\", \n",
    "                     trControl = control, metric= \"ROC\")"
   ]
  },
  {
   "cell_type": "markdown",
   "id": "1ff36d72-ecd5-4f43-996a-7096f103d7da",
   "metadata": {
    "tags": []
   },
   "source": [
    "##### Naive bayes:  DB-SMOTE balanced dataset"
   ]
  },
  {
   "cell_type": "code",
   "execution_count": 78,
   "id": "c7b71f26-cf21-4a1c-a5e7-7e3777278750",
   "metadata": {},
   "outputs": [],
   "source": [
    "nb_db <- caret::train(class~., data=train_db, method = \"naive_bayes\", \n",
    "                     trControl = control, metric= \"ROC\")"
   ]
  },
  {
   "cell_type": "markdown",
   "id": "3bda121e-fb1f-4e12-8f8f-9187b8b3f0d3",
   "metadata": {},
   "source": [
    "##### LDA:  DB-SMOTE balanced dataset"
   ]
  },
  {
   "cell_type": "code",
   "execution_count": 79,
   "id": "faedb593-b521-44f1-9830-6ef8a9b1ea9c",
   "metadata": {},
   "outputs": [],
   "source": [
    "lda_db <- caret::train(class~., data=train_db, method=\"lda\", \n",
    "                     trControl = control, metric= \"ROC\")"
   ]
  },
  {
   "cell_type": "markdown",
   "id": "58231c32-c64e-4786-9fb9-15672e38bfab",
   "metadata": {},
   "source": [
    "#### Decision tree"
   ]
  },
  {
   "cell_type": "markdown",
   "id": "cddcaa9d-4199-49f1-93a9-26cbfdc7d602",
   "metadata": {},
   "source": [
    "##### Predicting"
   ]
  },
  {
   "cell_type": "code",
   "execution_count": 80,
   "id": "27fe153b-4596-407e-9296-23fb47b9322b",
   "metadata": {},
   "outputs": [],
   "source": [
    "dt_db_pred <- predict(dt_db, test, type=\"prob\")"
   ]
  },
  {
   "cell_type": "markdown",
   "id": "8b507f1a-7408-4142-b5a2-8c064f382831",
   "metadata": {},
   "source": [
    "##### Assigning class to probabilities, assuring variable is a factor"
   ]
  },
  {
   "cell_type": "code",
   "execution_count": 81,
   "id": "131b5ef3-b27a-4b6a-807b-0e5966a980e9",
   "metadata": {},
   "outputs": [],
   "source": [
    "dt_db_test <- factor(ifelse(dt_db_pred$yes>0.50, \"yes\", \"no\"))"
   ]
  },
  {
   "cell_type": "markdown",
   "id": "bf482728-454f-4752-a0c0-4fa1bfd6f892",
   "metadata": {},
   "source": [
    "##### Saving precision, recall, and F-measure ($F_{1}$) (decision tree: DB-smote)"
   ]
  },
  {
   "cell_type": "code",
   "execution_count": 82,
   "id": "92534106-3534-4399-b583-9ef89efde5d9",
   "metadata": {},
   "outputs": [],
   "source": [
    "precision_dt_db <- caret::posPredValue(dt_db_test, test$class, positive = \"yes\")\n",
    "recall_dt_db <- caret::sensitivity(dt_db_test, test$class, positive = \"yes\")\n",
    "\n",
    "F1_dt_db <- \n",
    "(2*precision_dt_db*recall_dt_db) / (precision_dt_db+recall_dt_db)\n"
   ]
  },
  {
   "cell_type": "code",
   "execution_count": 83,
   "id": "735d14b7-bd1d-46fd-a278-e1b01303fe94",
   "metadata": {},
   "outputs": [
    {
     "data": {
      "text/html": [
       "0.184325108853411"
      ],
      "text/latex": [
       "0.184325108853411"
      ],
      "text/markdown": [
       "0.184325108853411"
      ],
      "text/plain": [
       "[1] 0.1843251"
      ]
     },
     "metadata": {},
     "output_type": "display_data"
    },
    {
     "data": {
      "text/html": [
       "0.863945578231292"
      ],
      "text/latex": [
       "0.863945578231292"
      ],
      "text/markdown": [
       "0.863945578231292"
      ],
      "text/plain": [
       "[1] 0.8639456"
      ]
     },
     "metadata": {},
     "output_type": "display_data"
    },
    {
     "data": {
      "text/html": [
       "0.303827751196172"
      ],
      "text/latex": [
       "0.303827751196172"
      ],
      "text/markdown": [
       "0.303827751196172"
      ],
      "text/plain": [
       "[1] 0.3038278"
      ]
     },
     "metadata": {},
     "output_type": "display_data"
    }
   ],
   "source": [
    "precision_dt_db\n",
    "recall_dt_db\n",
    "\n",
    "F1_dt_db"
   ]
  },
  {
   "cell_type": "markdown",
   "id": "b0a07334-3fb8-4537-9d5b-61b9fa119e07",
   "metadata": {},
   "source": [
    "#### Naive bayes"
   ]
  },
  {
   "cell_type": "markdown",
   "id": "a7161c55-242e-4883-9594-670180084f1a",
   "metadata": {},
   "source": [
    "##### Predicting"
   ]
  },
  {
   "cell_type": "code",
   "execution_count": 84,
   "id": "bfaf9421-22ae-4484-a895-1ae78a9183bc",
   "metadata": {},
   "outputs": [],
   "source": [
    "nb_db_pred <- predict(nb_db, test, type=\"prob\")"
   ]
  },
  {
   "cell_type": "markdown",
   "id": "9e5c5b7b-625a-4ea8-bfe0-242cf4612cac",
   "metadata": {},
   "source": [
    "##### Assigning class to probabilities, assuring variable is a factor"
   ]
  },
  {
   "cell_type": "code",
   "execution_count": 85,
   "id": "16d6ff4d-9bb2-408e-8c90-363c39ea8b05",
   "metadata": {},
   "outputs": [],
   "source": [
    "nb_db_test <- factor(ifelse(nb_db_pred$yes>0.50, \"yes\", \"no\"))"
   ]
  },
  {
   "cell_type": "markdown",
   "id": "7a50d509-697c-49e1-b6fd-22d041a547c6",
   "metadata": {},
   "source": [
    "##### Saving precision, recall, and F-measure ($F_{1}$) (naive bayes: DB-smote)"
   ]
  },
  {
   "cell_type": "code",
   "execution_count": 86,
   "id": "7edccd65-c63c-4eb1-8327-20a532a1da82",
   "metadata": {},
   "outputs": [],
   "source": [
    "precision_nb_db <- caret::posPredValue(nb_db_test, test$class, positive = \"yes\")\n",
    "recall_nb_db <- caret::sensitivity(nb_db_test, test$class, positive = \"yes\")\n",
    "\n",
    "F1_nb_db<- \n",
    "(2*precision_nb_db*recall_nb_db) / (precision_nb_db+recall_nb_db)\n"
   ]
  },
  {
   "cell_type": "code",
   "execution_count": 87,
   "id": "f7df4667-a4f1-4da9-bf1c-9a165f8dd73c",
   "metadata": {},
   "outputs": [
    {
     "data": {
      "text/html": [
       "0.538461538461537"
      ],
      "text/latex": [
       "0.538461538461537"
      ],
      "text/markdown": [
       "0.538461538461537"
      ],
      "text/plain": [
       "[1] 0.5384615"
      ]
     },
     "metadata": {},
     "output_type": "display_data"
    },
    {
     "data": {
      "text/html": [
       "0.80952380952381"
      ],
      "text/latex": [
       "0.80952380952381"
      ],
      "text/markdown": [
       "0.80952380952381"
      ],
      "text/plain": [
       "[1] 0.8095238"
      ]
     },
     "metadata": {},
     "output_type": "display_data"
    },
    {
     "data": {
      "text/html": [
       "0.646739130434781"
      ],
      "text/latex": [
       "0.646739130434781"
      ],
      "text/markdown": [
       "0.646739130434781"
      ],
      "text/plain": [
       "[1] 0.6467391"
      ]
     },
     "metadata": {},
     "output_type": "display_data"
    }
   ],
   "source": [
    "precision_nb_db\n",
    "recall_nb_db\n",
    "\n",
    "F1_nb_db"
   ]
  },
  {
   "cell_type": "markdown",
   "id": "5288ed2c-a0b3-43bd-bf7d-6fd13698a59b",
   "metadata": {},
   "source": [
    "#### Linear discriminant analysis"
   ]
  },
  {
   "cell_type": "markdown",
   "id": "35b8b5fd-dac0-4bb1-a648-3d5750655f2d",
   "metadata": {},
   "source": [
    "##### Predicting"
   ]
  },
  {
   "cell_type": "code",
   "execution_count": 88,
   "id": "efdde111-13e8-44b4-a0b1-1b40b7cee39b",
   "metadata": {},
   "outputs": [],
   "source": [
    "lda_db_pred <- predict(lda_db, test, type=\"prob\")"
   ]
  },
  {
   "cell_type": "markdown",
   "id": "373fc1f5-5d1d-4a05-a607-c0063c0ddb6b",
   "metadata": {},
   "source": [
    "##### Assigning class to probabilities, assuring variable is a factor"
   ]
  },
  {
   "cell_type": "code",
   "execution_count": 89,
   "id": "d5050ec5-6c09-4a16-95f4-4cf1a27071d8",
   "metadata": {},
   "outputs": [],
   "source": [
    "lda_db_test <- factor(ifelse(lda_db_pred$yes>0.50, \"yes\", \"no\"))"
   ]
  },
  {
   "cell_type": "markdown",
   "id": "82730e85-aa21-4a57-a5ba-e722120a06b6",
   "metadata": {},
   "source": [
    "##### Saving precision, recall, and F-measure ($F_{1}$) (LDA: smote)"
   ]
  },
  {
   "cell_type": "code",
   "execution_count": 90,
   "id": "8d31b871-cd72-4cd5-a475-07e233c3acad",
   "metadata": {},
   "outputs": [],
   "source": [
    "precision_lda_db <- caret::posPredValue(lda_db_test, test$class, positive = \"yes\")\n",
    "recall_lda_db <- caret::sensitivity(lda_db_test, test$class, positive = \"yes\")\n",
    "\n",
    "F1_lda_db <- \n",
    "(2*precision_lda_db*recall_lda_db) / (precision_lda_db+recall_lda_db)\n"
   ]
  },
  {
   "cell_type": "code",
   "execution_count": 91,
   "id": "dd2d74a4-afaf-455d-a402-3067bb80a0fe",
   "metadata": {},
   "outputs": [
    {
     "data": {
      "text/html": [
       "0.399317406143345"
      ],
      "text/latex": [
       "0.399317406143345"
      ],
      "text/markdown": [
       "0.399317406143345"
      ],
      "text/plain": [
       "[1] 0.3993174"
      ]
     },
     "metadata": {},
     "output_type": "display_data"
    },
    {
     "data": {
      "text/html": [
       "0.795918367346939"
      ],
      "text/latex": [
       "0.795918367346939"
      ],
      "text/markdown": [
       "0.795918367346939"
      ],
      "text/plain": [
       "[1] 0.7959184"
      ]
     },
     "metadata": {},
     "output_type": "display_data"
    },
    {
     "data": {
      "text/html": [
       "0.531818181818182"
      ],
      "text/latex": [
       "0.531818181818182"
      ],
      "text/markdown": [
       "0.531818181818182"
      ],
      "text/plain": [
       "[1] 0.5318182"
      ]
     },
     "metadata": {},
     "output_type": "display_data"
    }
   ],
   "source": [
    "precision_lda_db\n",
    "recall_lda_db\n",
    "\n",
    "F1_lda_db"
   ]
  },
  {
   "cell_type": "markdown",
   "id": "09b91c7a-51df-4ed7-92ff-a47c73b950ef",
   "metadata": {},
   "source": [
    "### 10. Comparing model performance <a class=\"anchor\" id=\"Comparing_model_performance\"></a>"
   ]
  },
  {
   "cell_type": "markdown",
   "id": "3dcba575-f16d-4098-80ae-d00aefbae95f",
   "metadata": {},
   "source": [
    "#### Comparing recall"
   ]
  },
  {
   "cell_type": "markdown",
   "id": "3e851b94-750f-4e16-baa6-ca7e7be74471",
   "metadata": {},
   "source": [
    "To compare the recall of each model we will combine results into a dataframe:"
   ]
  },
  {
   "cell_type": "code",
   "execution_count": 92,
   "id": "25592b57-756e-482b-ba32-0b07ae2ed1c4",
   "metadata": {},
   "outputs": [],
   "source": [
    "model_compare_recall <- data.frame(Model = c(\"DT_Orig\", \"NB_Orig\", \"LDA_Orig\", \"DT_SMOTE\", \"NB_SMOTE\",\n",
    "                                     \"LDA_SMOTE\", \"DT_ADASYN\", \"NB_ADASYN\", \"LDA_ADASYN\",\n",
    "                                     \"DT_DB\", \"NB_DB\", \"LDA_DB\"),\n",
    "                           Recall = c(recall_dt_original, recall_nb_original, recall_lda_original,\n",
    "                                      recall_dt_smote, recall_nb_smote, recall_lda_smote,\n",
    "                                      recall_dt_adas, recall_nb_adas, recall_lda_adas,\n",
    "                                      recall_dt_db, recall_nb_db, recall_lda_db)\n",
    "                           )"
   ]
  },
  {
   "cell_type": "code",
   "execution_count": 93,
   "id": "727dafaf-f01b-485b-a063-d06bf29b340a",
   "metadata": {},
   "outputs": [
    {
     "data": {
      "image/png": "[encoded data removed]",
      "text/plain": [
       "plot without title"
      ]
     },
     "metadata": {
      "image/png": {
       "height": 420,
       "width": 420
      }
     },
     "output_type": "display_data"
    }
   ],
   "source": [
    "ggplot(aes(x=reorder(Model, -Recall), y=Recall), data=model_compare_recall) +\n",
    "geom_bar(stat=\"identity\", fill = \"#FFE833\") +\n",
    "ggtitle(\"Comparing Recall Values of Models on Validation Dataset\") +\n",
    "xlab(\"Model\") +\n",
    "ylab(\"Recall Measure\") +\n",
    "geom_text(aes(label=round(Recall,3))) +\n",
    "theme(axis.text.x=element_text(angle=40))\n"
   ]
  },
  {
   "cell_type": "markdown",
   "id": "d1ba8d54-a444-4436-84b8-d2d3dacf5e9d",
   "metadata": {},
   "source": [
    "**Recall for the models fit to the balanced datasets are superior than those fit to the original dataset.** \n",
    "\n",
    "  The top 5 models with highest recall:\n",
    "* Decision tree ( ADASYN, DB-SMOTE, SMOTE)\n",
    "* Linear discriminant analysis-SMOTE \n",
    "* Naive bayes-ADASYN"
   ]
  },
  {
   "cell_type": "markdown",
   "id": "6571a21c-6e2b-47f7-a61e-25a522b52ffb",
   "metadata": {},
   "source": [
    "#### Comparing precisions "
   ]
  },
  {
   "cell_type": "code",
   "execution_count": 94,
   "id": "eca41e7f-da57-4199-9e77-933882d860b0",
   "metadata": {},
   "outputs": [],
   "source": [
    "model_compare_precision <- data.frame(Model = c(\"DT_Orig\", \"NB_Orig\", \"LDA_Orig\", \"DT_SMOTE\", \"NB_SMOTE\",\n",
    "                                     \"LDA_SMOTE\", \"DT_ADASYN\", \"NB_ADASYN\", \"LDA_ADASYN\",\n",
    "                                     \"DT_DB\", \"NB_DB\", \"LDA_DB\"),\n",
    "                           Precision = c(precision_dt_original, precision_nb_original, precision_lda_original,\n",
    "                                      precision_dt_smote, precision_nb_smote, precision_lda_smote,\n",
    "                                      precision_dt_adas, precision_nb_adas, precision_lda_adas,\n",
    "                                      precision_dt_db, precision_nb_db, precision_lda_db)\n",
    "                           )"
   ]
  },
  {
   "cell_type": "code",
   "execution_count": 95,
   "id": "46796f5d-48ed-4198-9c1e-a832039fa87e",
   "metadata": {},
   "outputs": [
    {
     "data": {
      "image/png": "[encoded data removed]",
      "text/plain": [
       "plot without title"
      ]
     },
     "metadata": {
      "image/png": {
       "height": 420,
       "width": 420
      }
     },
     "output_type": "display_data"
    }
   ],
   "source": [
    "ggplot(aes(x=reorder(Model, -Precision), y=Precision), data=model_compare_precision) +\n",
    "geom_bar(stat=\"identity\", fill = \"#33BAFF\") +\n",
    "ggtitle(\"Comparing Precision Values of Models on Validation Dataset\") +\n",
    "xlab(\"Model\") +\n",
    "ylab(\"Precision Measure\") +\n",
    "geom_text(aes(label=round(Precision,3))) +\n",
    "theme(axis.text.x=element_text(angle=40))"
   ]
  },
  {
   "cell_type": "markdown",
   "id": "980f44f9-ebb8-4820-9dc6-325d405ccb79",
   "metadata": {},
   "source": [
    "The results are mixed. The models on the original unbalanced datasets have the highest precision. \n",
    "\n",
    "Models with top 5 precision measures:\n",
    "* Linear discriminant analysis (unbalanced dataset)\n",
    "* Decision tree (unbalanced dataset)\n",
    "* Naive bayes (SMOTE)\n",
    "* Naive Bayes (ADASYN)\n",
    "* Naive bayes (DB-SMOTE)\n",
    "\n",
    "\n",
    "  However, the *cost of not identifying fraudulent transactions can be very high*. \n",
    "  \n",
    "  Therefore recall is the more important measure. Since recall is superior for the balanced datasets, we would still balance the datasets. "
   ]
  },
  {
   "cell_type": "markdown",
   "id": "3b0103a7-c6f5-46d7-9a47-412e26e1c2db",
   "metadata": {},
   "source": [
    "#### Comparing $F_{1}$-scores"
   ]
  },
  {
   "cell_type": "code",
   "execution_count": 96,
   "id": "218982c8-9a8d-43ad-9f7d-3c35fdca353e",
   "metadata": {},
   "outputs": [],
   "source": [
    "model_compare_F1 <- data.frame(Model = c(\"DT_Orig\", \"NB_Orig\", \"LDA_Orig\", \"DT_SMOTE\", \"NB_SMOTE\",\n",
    "                                     \"LDA_SMOTE\", \"DT_ADASYN\", \"NB_ADASYN\", \"LDA_ADASYN\",\n",
    "                                     \"DT_DB\", \"NB_DB\", \"LDA_DB\"),\n",
    "                           F1 = c(F1_dt_original, F1_nb_original, F1_lda_original,\n",
    "                                      F1_dt_smote, F1_nb_smote, F1_lda_smote,\n",
    "                                      F1_dt_adas, F1_nb_adas, F1_lda_adas,\n",
    "                                      F1_dt_db, F1_nb_db, F1_lda_db)\n",
    "                           )"
   ]
  },
  {
   "cell_type": "code",
   "execution_count": 97,
   "id": "9bf6e3e1-7e8e-47bb-99e5-bd48e694d485",
   "metadata": {},
   "outputs": [
    {
     "data": {
      "image/png": "[encoded data removed]",
      "text/plain": [
       "plot without title"
      ]
     },
     "metadata": {
      "image/png": {
       "height": 420,
       "width": 420
      }
     },
     "output_type": "display_data"
    }
   ],
   "source": [
    "ggplot(aes(x=reorder(Model, -F1), y=F1), data=model_compare_F1) +\n",
    "geom_bar(stat=\"identity\", fill = \"#FF3371\") +\n",
    "ggtitle(\"Comparing F1-scores of Models on Validation Dataset\") +\n",
    "xlab(\"Model\") +\n",
    "ylab(\"F1-score\") +\n",
    "geom_text(aes(label=round(F1,3))) +\n",
    "theme(axis.text.x=element_text(angle=40))"
   ]
  },
  {
   "cell_type": "markdown",
   "id": "74464fb8-bb9a-47ef-a46a-5c12a0f0ccbd",
   "metadata": {},
   "source": [
    "### 11. Conclusion <a class=\"anchor\" id=\"Conclusion\"></a>"
   ]
  },
  {
   "cell_type": "markdown",
   "id": "1d3dbd33-d729-46b8-a315-7052411f915a",
   "metadata": {},
   "source": [
    "We have used three synthetic balancing techniques from the smotefamily library to balance an unbalanced dataset and fit three classification algorithms to each dataset. \n",
    "\n",
    "We observed a precision-recall tradeoff from balancing the datasets.\n",
    "\n",
    "* The higher $F_{1}$-score for models trained on the unbalanced dataset is driven by the higher precision measure from those models. \n",
    "* Models fit to balanced datasets had higher recall values.\n",
    "* In this situation recall is the most important measure to avoid costly missed classications.\n",
    "\n",
    "If we use a model with lower recall there will be a larger number of false negatives, i.e. transactions which the model flags as non-fraudulent which were in-fact fraudulent transactions.\n",
    "\n",
    "These missed transactions could become serious problems for the company and the account holder.\n",
    " \n",
    "Flagging a non-fraudulent transaction as fraudulent would not have the same risk and cost as a missed fradulent transaction. The system could simply confirm with the account holder that the transaction was in fact theirs.\n"
   ]
  }
 ],
 "metadata": {
  "kernelspec": {
   "display_name": "R",
   "language": "R",
   "name": "ir"
  },
  "language_info": {
   "codemirror_mode": "r",
   "file_extension": ".r",
   "mimetype": "text/x-r-source",
   "name": "R",
   "pygments_lexer": "r",
   "version": "4.1.3"
  }
 },
 "nbformat": 4,
 "nbformat_minor": 5
}
